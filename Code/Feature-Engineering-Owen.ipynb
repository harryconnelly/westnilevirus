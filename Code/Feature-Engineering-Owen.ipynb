{
 "cells": [
  {
   "cell_type": "markdown",
   "metadata": {},
   "source": [
    "## Imports"
   ]
  },
  {
   "cell_type": "code",
   "execution_count": 1,
   "metadata": {},
   "outputs": [],
   "source": [
    "import numpy as np\n",
    "import pandas as pd\n",
    "import datetime\n",
    "\n",
    "pd.set_option('display.max_rows', 500)\n",
    "pd.set_option('display.max_columns', 500)\n",
    "\n",
    "import matplotlib.pyplot as plt\n",
    "%matplotlib inline"
   ]
  },
  {
   "cell_type": "markdown",
   "metadata": {},
   "source": [
    "## Load data"
   ]
  },
  {
   "cell_type": "code",
   "execution_count": 2,
   "metadata": {},
   "outputs": [],
   "source": [
    "train_df = pd.read_csv('../input/transformed_input/train_clean_owen')\n",
    "ag_train = pd.read_csv('../input/transformed_input/aggregated_train_clean_owen')\n",
    "test_df = pd.read_csv('../input/transformed_input/test_clean_owen')\n",
    "spray_df = pd.read_csv('../input/transformed_input/spray_clean_owen')\n",
    "weather_df = pd.read_csv('../input/transformed_input/weather_clean_owen')"
   ]
  },
  {
   "cell_type": "code",
   "execution_count": 3,
   "metadata": {},
   "outputs": [],
   "source": [
    "train_df.Date = pd.to_datetime(train_df.Date)\n",
    "ag_train.Date = pd.to_datetime(ag_train.Date)\n",
    "test_df.Date = pd.to_datetime(test_df.Date)\n",
    "spray_df.Date = pd.to_datetime(spray_df.Date)\n",
    "weather_df.Date = pd.to_datetime(weather_df.Date)"
   ]
  },
  {
   "cell_type": "code",
   "execution_count": 4,
   "metadata": {},
   "outputs": [],
   "source": [
    "def weather_stat (date, start_days_back, end_days_back, col, stat):\n",
    "    '''\n",
    "    date = the end date\n",
    "    start_days_back = how far back the start day is (0 is day of)\n",
    "    end_days_back = how far back the end day is, end day should be after start day (inclusive)\n",
    "    col = the col where you are getting the stat from\n",
    "    stat = 'a' for average, 'h' for high, 'l' for low\n",
    "    station = '3' for both, '1' or '2'\n",
    "    '''\n",
    "    start_date = date - datetime.timedelta(start_days_back)\n",
    "    end_date = date - datetime.timedelta(end_days_back)\n",
    "    df = weather_df[(weather_df['Date']>start_date) & (weather_df['Date']<=end_date)]\n",
    "    data = df[col]\n",
    "    result = stat(data)\n",
    "    return result"
   ]
  },
  {
   "cell_type": "code",
   "execution_count": 5,
   "metadata": {},
   "outputs": [
    {
     "data": {
      "text/plain": [
       "75.14285714285714"
      ]
     },
     "execution_count": 5,
     "metadata": {},
     "output_type": "execute_result"
    }
   ],
   "source": [
    "date = datetime.datetime(2013,6,1)\n",
    "weather_stat(date, 7, 0, 'Tmax', np.mean)"
   ]
  },
  {
   "cell_type": "markdown",
   "metadata": {},
   "source": [
    "## Aggregator"
   ]
  },
  {
   "cell_type": "code",
   "execution_count": 6,
   "metadata": {},
   "outputs": [
    {
     "data": {
      "text/plain": [
       "0    3649\n",
       "1     194\n",
       "Name: WnvPresent, dtype: int64"
      ]
     },
     "execution_count": 6,
     "metadata": {},
     "output_type": "execute_result"
    }
   ],
   "source": [
    "ag_train.WnvPresent.value_counts()"
   ]
  },
  {
   "cell_type": "markdown",
   "metadata": {},
   "source": [
    "## 2013 Train"
   ]
  },
  {
   "cell_type": "code",
   "execution_count": 7,
   "metadata": {},
   "outputs": [],
   "source": [
    "train_2013 = train_df[(train_df['Date']>datetime.datetime(2013,1,1)) & (train_df['Date']<datetime.datetime(2014,1,1))]"
   ]
  },
  {
   "cell_type": "markdown",
   "metadata": {},
   "source": [
    "## Train test split"
   ]
  },
  {
   "cell_type": "code",
   "execution_count": 8,
   "metadata": {},
   "outputs": [],
   "source": [
    "train = train_df.copy()"
   ]
  },
  {
   "cell_type": "code",
   "execution_count": 9,
   "metadata": {},
   "outputs": [
    {
     "data": {
      "text/html": [
       "<div>\n",
       "<style scoped>\n",
       "    .dataframe tbody tr th:only-of-type {\n",
       "        vertical-align: middle;\n",
       "    }\n",
       "\n",
       "    .dataframe tbody tr th {\n",
       "        vertical-align: top;\n",
       "    }\n",
       "\n",
       "    .dataframe thead th {\n",
       "        text-align: right;\n",
       "    }\n",
       "</style>\n",
       "<table border=\"1\" class=\"dataframe\">\n",
       "  <thead>\n",
       "    <tr style=\"text-align: right;\">\n",
       "      <th></th>\n",
       "      <th>Date</th>\n",
       "      <th>Trap</th>\n",
       "      <th>Latitude</th>\n",
       "      <th>Longitude</th>\n",
       "      <th>NumMosquitos</th>\n",
       "      <th>WnvPresent</th>\n",
       "      <th>pipien</th>\n",
       "      <th>restuans</th>\n",
       "    </tr>\n",
       "  </thead>\n",
       "  <tbody>\n",
       "    <tr>\n",
       "      <th>0</th>\n",
       "      <td>2007-06-29</td>\n",
       "      <td>T002</td>\n",
       "      <td>41.954690</td>\n",
       "      <td>-87.800991</td>\n",
       "      <td>2</td>\n",
       "      <td>0</td>\n",
       "      <td>1</td>\n",
       "      <td>1</td>\n",
       "    </tr>\n",
       "    <tr>\n",
       "      <th>1</th>\n",
       "      <td>2007-06-29</td>\n",
       "      <td>T015</td>\n",
       "      <td>41.974089</td>\n",
       "      <td>-87.824812</td>\n",
       "      <td>1</td>\n",
       "      <td>0</td>\n",
       "      <td>1</td>\n",
       "      <td>1</td>\n",
       "    </tr>\n",
       "    <tr>\n",
       "      <th>2</th>\n",
       "      <td>2007-06-29</td>\n",
       "      <td>T015</td>\n",
       "      <td>41.974089</td>\n",
       "      <td>-87.824812</td>\n",
       "      <td>2</td>\n",
       "      <td>0</td>\n",
       "      <td>0</td>\n",
       "      <td>1</td>\n",
       "    </tr>\n",
       "    <tr>\n",
       "      <th>3</th>\n",
       "      <td>2007-06-29</td>\n",
       "      <td>T046</td>\n",
       "      <td>41.891118</td>\n",
       "      <td>-87.654491</td>\n",
       "      <td>2</td>\n",
       "      <td>0</td>\n",
       "      <td>0</td>\n",
       "      <td>1</td>\n",
       "    </tr>\n",
       "    <tr>\n",
       "      <th>4</th>\n",
       "      <td>2007-06-29</td>\n",
       "      <td>T054</td>\n",
       "      <td>41.921965</td>\n",
       "      <td>-87.632085</td>\n",
       "      <td>3</td>\n",
       "      <td>0</td>\n",
       "      <td>1</td>\n",
       "      <td>1</td>\n",
       "    </tr>\n",
       "  </tbody>\n",
       "</table>\n",
       "</div>"
      ],
      "text/plain": [
       "        Date  Trap   Latitude  Longitude  NumMosquitos  WnvPresent  pipien  \\\n",
       "0 2007-06-29  T002  41.954690 -87.800991             2           0       1   \n",
       "1 2007-06-29  T015  41.974089 -87.824812             1           0       1   \n",
       "2 2007-06-29  T015  41.974089 -87.824812             2           0       0   \n",
       "3 2007-06-29  T046  41.891118 -87.654491             2           0       0   \n",
       "4 2007-06-29  T054  41.921965 -87.632085             3           0       1   \n",
       "\n",
       "   restuans  \n",
       "0         1  \n",
       "1         1  \n",
       "2         1  \n",
       "3         1  \n",
       "4         1  "
      ]
     },
     "execution_count": 9,
     "metadata": {},
     "output_type": "execute_result"
    }
   ],
   "source": [
    "train.head()"
   ]
  },
  {
   "cell_type": "code",
   "execution_count": 10,
   "metadata": {},
   "outputs": [],
   "source": [
    "from sklearn.model_selection import train_test_split"
   ]
  },
  {
   "cell_type": "code",
   "execution_count": 11,
   "metadata": {},
   "outputs": [],
   "source": [
    "train_index = train.index.tolist()"
   ]
  },
  {
   "cell_type": "code",
   "execution_count": 12,
   "metadata": {},
   "outputs": [],
   "source": [
    "for i in train_index:\n",
    "    trap = train.loc[i,'Trap']\n",
    "    date = train.loc[i,'Date']\n",
    "\n",
    "    this_week = ag_train[(ag_train['Trap']==trap) & (ag_train['Date']==date)]\n",
    "    inx = np.max([this_week.index[0]-1,0])\n",
    "    train.loc[i,'LastWeekWnvPresent'] = ag_train.loc[inx,'WnvPresent']"
   ]
  },
  {
   "cell_type": "code",
   "execution_count": 13,
   "metadata": {},
   "outputs": [],
   "source": [
    "X = train[['Date', 'Trap','Latitude', 'Longitude', 'NumMosquitos',\n",
    "       'pipien', 'restuans','LastWeekWnvPresent']]\n",
    "y = train['WnvPresent']"
   ]
  },
  {
   "cell_type": "code",
   "execution_count": 14,
   "metadata": {},
   "outputs": [],
   "source": [
    "X_train, X_test, y_train, y_test = train_test_split(X, y, test_size = .2, stratify = y)"
   ]
  },
  {
   "cell_type": "code",
   "execution_count": 15,
   "metadata": {},
   "outputs": [
    {
     "data": {
      "text/plain": [
       "(7059,)"
      ]
     },
     "execution_count": 15,
     "metadata": {},
     "output_type": "execute_result"
    }
   ],
   "source": [
    "y_train.shape"
   ]
  },
  {
   "cell_type": "code",
   "execution_count": 16,
   "metadata": {},
   "outputs": [],
   "source": [
    "copy1 = y_train[y_train == 1]\n",
    "copy2 = y_train[y_train == 1]\n",
    "y_train = pd.concat([y_train,copy1,copy2])"
   ]
  },
  {
   "cell_type": "code",
   "execution_count": 17,
   "metadata": {},
   "outputs": [
    {
     "data": {
      "text/plain": [
       "(7941,)"
      ]
     },
     "execution_count": 17,
     "metadata": {},
     "output_type": "execute_result"
    }
   ],
   "source": [
    "y_train.shape"
   ]
  },
  {
   "cell_type": "code",
   "execution_count": 18,
   "metadata": {},
   "outputs": [],
   "source": [
    "duplicated_index = copy1.index.tolist()"
   ]
  },
  {
   "cell_type": "code",
   "execution_count": 19,
   "metadata": {},
   "outputs": [],
   "source": [
    "copy1 = X.loc[duplicated_index,:].copy()\n",
    "copy2 = X.loc[duplicated_index,:].copy()\n",
    "X_train = pd.concat([X_train,copy1,copy2])"
   ]
  },
  {
   "cell_type": "code",
   "execution_count": 20,
   "metadata": {},
   "outputs": [
    {
     "data": {
      "text/plain": [
       "(7941, 8)"
      ]
     },
     "execution_count": 20,
     "metadata": {},
     "output_type": "execute_result"
    }
   ],
   "source": [
    "X_train.shape"
   ]
  },
  {
   "cell_type": "code",
   "execution_count": 21,
   "metadata": {},
   "outputs": [
    {
     "data": {
      "text/plain": [
       "0    6618\n",
       "1    1323\n",
       "Name: WnvPresent, dtype: int64"
      ]
     },
     "execution_count": 21,
     "metadata": {},
     "output_type": "execute_result"
    }
   ],
   "source": [
    "y_train.value_counts()"
   ]
  },
  {
   "cell_type": "code",
   "execution_count": 22,
   "metadata": {},
   "outputs": [],
   "source": [
    "def add_weather(df):\n",
    "    days = 7\n",
    "\n",
    "    cols = ['Tmax']\n",
    "    for col in cols:\n",
    "        df[str(days)+'DayMax'+col] = df['Date'].map(lambda d: weather_stat(d, days, 0, col, np.max))\n",
    "\n",
    "    cols = ['Tmin']\n",
    "    for col in cols:\n",
    "        df[str(days)+'DayMin'+col] = df['Date'].map(lambda d: weather_stat(d, days, 0, col, np.min))\n",
    "\n",
    "    cols = ['Tavg', 'Depart', 'DewPoint', 'WetBulb', 'Heat','Cool', 'PrecipTotal', 'SunLight', \n",
    "            'Rain', 'Haze', 'Mist', 'Drizzle','Fog']\n",
    "    for col in cols:\n",
    "        df[str(days)+'DayMean'+col] = df['Date'].map(lambda d: weather_stat(d, days, 0, col, np.mean))\n",
    "    \n",
    "    return df"
   ]
  },
  {
   "cell_type": "code",
   "execution_count": 23,
   "metadata": {},
   "outputs": [
    {
     "name": "stderr",
     "output_type": "stream",
     "text": [
      "/Users/owencallen/anaconda3/lib/python3.6/site-packages/ipykernel/__main__.py:6: SettingWithCopyWarning: \n",
      "A value is trying to be set on a copy of a slice from a DataFrame.\n",
      "Try using .loc[row_indexer,col_indexer] = value instead\n",
      "\n",
      "See the caveats in the documentation: http://pandas.pydata.org/pandas-docs/stable/indexing.html#indexing-view-versus-copy\n",
      "/Users/owencallen/anaconda3/lib/python3.6/site-packages/ipykernel/__main__.py:10: SettingWithCopyWarning: \n",
      "A value is trying to be set on a copy of a slice from a DataFrame.\n",
      "Try using .loc[row_indexer,col_indexer] = value instead\n",
      "\n",
      "See the caveats in the documentation: http://pandas.pydata.org/pandas-docs/stable/indexing.html#indexing-view-versus-copy\n",
      "/Users/owencallen/anaconda3/lib/python3.6/site-packages/ipykernel/__main__.py:15: SettingWithCopyWarning: \n",
      "A value is trying to be set on a copy of a slice from a DataFrame.\n",
      "Try using .loc[row_indexer,col_indexer] = value instead\n",
      "\n",
      "See the caveats in the documentation: http://pandas.pydata.org/pandas-docs/stable/indexing.html#indexing-view-versus-copy\n"
     ]
    }
   ],
   "source": [
    "X_train = add_weather(X_train)\n",
    "X_test = add_weather(X_test)"
   ]
  },
  {
   "cell_type": "code",
   "execution_count": 24,
   "metadata": {},
   "outputs": [
    {
     "name": "stderr",
     "output_type": "stream",
     "text": [
      "/Users/owencallen/anaconda3/lib/python3.6/site-packages/pandas/core/frame.py:3694: SettingWithCopyWarning: \n",
      "A value is trying to be set on a copy of a slice from a DataFrame\n",
      "\n",
      "See the caveats in the documentation: http://pandas.pydata.org/pandas-docs/stable/indexing.html#indexing-view-versus-copy\n",
      "  errors=errors)\n"
     ]
    }
   ],
   "source": [
    "X_train.drop(['Date','Trap'], axis=1, inplace=True)\n",
    "X_test.drop(['Date','Trap'], axis=1, inplace=True)"
   ]
  },
  {
   "cell_type": "markdown",
   "metadata": {},
   "source": [
    "## Modeling"
   ]
  },
  {
   "cell_type": "code",
   "execution_count": 25,
   "metadata": {},
   "outputs": [],
   "source": [
    "from sklearn.metrics import confusion_matrix, f1_score\n",
    "\n",
    "def show_gs_classifier_results(model, X_train = X_train, y_train = y_train, X_test = X_test, y_test = y_test):\n",
    "    print('best_params:',model.best_params_)\n",
    "    dec = 3\n",
    "    #train\n",
    "    predictions = model.predict(X_train)\n",
    "    cm = confusion_matrix(y_train, predictions)\n",
    "    cm_train = pd.DataFrame(cm, \n",
    "                         columns=['predicted neg', 'predicted pos'],\n",
    "                         index=['actual neg', 'actual pos'])\n",
    "    cm_train = cm_train[['predicted pos','predicted neg']]\n",
    "    cm_train = cm_train.T\n",
    "    cm_train = cm_train[['actual pos','actual neg']]\n",
    "    \n",
    "    TP = cm_train.loc['predicted pos','actual pos']\n",
    "    FP = cm_train.loc['predicted pos','actual neg']\n",
    "    TN = cm_train.loc['predicted neg','actual neg']\n",
    "    FN = cm_train.loc['predicted neg','actual pos']\n",
    "    \n",
    "    train_dict = {\n",
    "        'Accuracy': np.round_((TP+TN)/(TP+FP+TN+FN),dec),\n",
    "        'Sensitivity': np.round_(TP/(TP+FN),dec),\n",
    "        'Specificity': np.round_(TN/(TN+FP),dec),\n",
    "        'PPP': np.round_(TP/(TP+FP),dec),\n",
    "        'NPP': np.round_(TN/(TN+FN),dec),\n",
    "        'F1-score': np.round_(f1_score(y_train,predictions),dec)\n",
    "    }\n",
    "    \n",
    "    #test\n",
    "    predictions = model.predict(X_test)\n",
    "    cm = confusion_matrix(y_test, predictions)\n",
    "    cm_test = pd.DataFrame(cm, \n",
    "                         columns=['predicted neg', 'predicted pos'],\n",
    "                         index=['actual neg', 'actual pos'])\n",
    "    cm_test = cm_test[['predicted pos','predicted neg']]\n",
    "    cm_test = cm_test.T\n",
    "    cm_test = cm_test[['actual pos','actual neg']]\n",
    "    \n",
    "    TP = cm_test.loc['predicted pos','actual pos']\n",
    "    FP = cm_test.loc['predicted pos','actual neg']\n",
    "    TN = cm_test.loc['predicted neg','actual neg']\n",
    "    FN = cm_test.loc['predicted neg','actual pos']\n",
    "    \n",
    "    test_dict = {\n",
    "        'Accuracy': np.round_((TP+TN)/(TP+FP+TN+FN),dec),\n",
    "        'Sensitivity': np.round_(TP/(TP+FN),dec),\n",
    "        'Specificity': np.round_(TN/(TN+FP),dec),\n",
    "        'PPP': np.round_(TP/(TP+FP),dec),\n",
    "        'NPP': np.round_(TN/(TN+FN),dec),\n",
    "        'F1-score': np.round_(f1_score(y_test,predictions),dec)\n",
    "    }\n",
    "\n",
    "    metrics = pd.DataFrame([train_dict,test_dict], index=['train','test'])\n",
    "    display(metrics)\n",
    "    \n",
    "    print('train confusion matrix')\n",
    "    display(cm_train)\n",
    "    print('test confusion matrix')\n",
    "    display(cm_test)\n",
    "    "
   ]
  },
  {
   "cell_type": "code",
   "execution_count": 26,
   "metadata": {},
   "outputs": [],
   "source": [
    "from sklearn.metrics import roc_curve, auc\n",
    "import matplotlib.pyplot as plt\n",
    "\n",
    "%matplotlib inline\n",
    "def gs_model_ROC (model, X, y):\n",
    "    # Generate False positive rate and True positive rate\n",
    "    predicted_proba = model.predict_proba(X)[:,-1]\n",
    "    fpr, tpr, _ = roc_curve(y, predicted_proba)\n",
    "    roc_auc = auc(fpr, tpr)\n",
    "\n",
    "    # Plot \n",
    "    plt.figure(figsize = (8,8))\n",
    "\n",
    "    line_weight = 2\n",
    "    plt.plot(fpr, tpr, color=\"darkorange\", lw = line_weight, label = \"ROC Curve %0.2f\" % roc_auc)\n",
    "\n",
    "    plt.plot([0, 1], [0, 1], color=\"navy\", lw = line_weight, linestyle=\"--\")\n",
    "    plt.xlim([0.0, 1.0])\n",
    "    plt.ylim([0.0, 1.05])\n",
    "    plt.xlabel('False Positive Rate')\n",
    "    plt.ylabel('True Positive Rate')\n",
    "    plt.title('ROC')\n",
    "    plt.legend(loc=\"lower right\")\n",
    "    plt.show()"
   ]
  },
  {
   "cell_type": "code",
   "execution_count": 27,
   "metadata": {},
   "outputs": [
    {
     "name": "stdout",
     "output_type": "stream",
     "text": [
      "best_params: {'model__C': 0.112, 'model__penalty': 'l2'}\n"
     ]
    },
    {
     "data": {
      "text/html": [
       "<div>\n",
       "<style scoped>\n",
       "    .dataframe tbody tr th:only-of-type {\n",
       "        vertical-align: middle;\n",
       "    }\n",
       "\n",
       "    .dataframe tbody tr th {\n",
       "        vertical-align: top;\n",
       "    }\n",
       "\n",
       "    .dataframe thead th {\n",
       "        text-align: right;\n",
       "    }\n",
       "</style>\n",
       "<table border=\"1\" class=\"dataframe\">\n",
       "  <thead>\n",
       "    <tr style=\"text-align: right;\">\n",
       "      <th></th>\n",
       "      <th>Accuracy</th>\n",
       "      <th>F1-score</th>\n",
       "      <th>NPP</th>\n",
       "      <th>PPP</th>\n",
       "      <th>Sensitivity</th>\n",
       "      <th>Specificity</th>\n",
       "    </tr>\n",
       "  </thead>\n",
       "  <tbody>\n",
       "    <tr>\n",
       "      <th>train</th>\n",
       "      <td>0.861</td>\n",
       "      <td>0.465</td>\n",
       "      <td>0.883</td>\n",
       "      <td>0.648</td>\n",
       "      <td>0.363</td>\n",
       "      <td>0.961</td>\n",
       "    </tr>\n",
       "    <tr>\n",
       "      <th>test</th>\n",
       "      <td>0.913</td>\n",
       "      <td>0.268</td>\n",
       "      <td>0.951</td>\n",
       "      <td>0.283</td>\n",
       "      <td>0.255</td>\n",
       "      <td>0.957</td>\n",
       "    </tr>\n",
       "  </tbody>\n",
       "</table>\n",
       "</div>"
      ],
      "text/plain": [
       "       Accuracy  F1-score    NPP    PPP  Sensitivity  Specificity\n",
       "train     0.861     0.465  0.883  0.648        0.363        0.961\n",
       "test      0.913     0.268  0.951  0.283        0.255        0.957"
      ]
     },
     "metadata": {},
     "output_type": "display_data"
    },
    {
     "name": "stdout",
     "output_type": "stream",
     "text": [
      "train confusion matrix\n"
     ]
    },
    {
     "data": {
      "text/html": [
       "<div>\n",
       "<style scoped>\n",
       "    .dataframe tbody tr th:only-of-type {\n",
       "        vertical-align: middle;\n",
       "    }\n",
       "\n",
       "    .dataframe tbody tr th {\n",
       "        vertical-align: top;\n",
       "    }\n",
       "\n",
       "    .dataframe thead th {\n",
       "        text-align: right;\n",
       "    }\n",
       "</style>\n",
       "<table border=\"1\" class=\"dataframe\">\n",
       "  <thead>\n",
       "    <tr style=\"text-align: right;\">\n",
       "      <th></th>\n",
       "      <th>actual pos</th>\n",
       "      <th>actual neg</th>\n",
       "    </tr>\n",
       "  </thead>\n",
       "  <tbody>\n",
       "    <tr>\n",
       "      <th>predicted pos</th>\n",
       "      <td>480</td>\n",
       "      <td>261</td>\n",
       "    </tr>\n",
       "    <tr>\n",
       "      <th>predicted neg</th>\n",
       "      <td>843</td>\n",
       "      <td>6357</td>\n",
       "    </tr>\n",
       "  </tbody>\n",
       "</table>\n",
       "</div>"
      ],
      "text/plain": [
       "               actual pos  actual neg\n",
       "predicted pos         480         261\n",
       "predicted neg         843        6357"
      ]
     },
     "metadata": {},
     "output_type": "display_data"
    },
    {
     "name": "stdout",
     "output_type": "stream",
     "text": [
      "test confusion matrix\n"
     ]
    },
    {
     "data": {
      "text/html": [
       "<div>\n",
       "<style scoped>\n",
       "    .dataframe tbody tr th:only-of-type {\n",
       "        vertical-align: middle;\n",
       "    }\n",
       "\n",
       "    .dataframe tbody tr th {\n",
       "        vertical-align: top;\n",
       "    }\n",
       "\n",
       "    .dataframe thead th {\n",
       "        text-align: right;\n",
       "    }\n",
       "</style>\n",
       "<table border=\"1\" class=\"dataframe\">\n",
       "  <thead>\n",
       "    <tr style=\"text-align: right;\">\n",
       "      <th></th>\n",
       "      <th>actual pos</th>\n",
       "      <th>actual neg</th>\n",
       "    </tr>\n",
       "  </thead>\n",
       "  <tbody>\n",
       "    <tr>\n",
       "      <th>predicted pos</th>\n",
       "      <td>28</td>\n",
       "      <td>71</td>\n",
       "    </tr>\n",
       "    <tr>\n",
       "      <th>predicted neg</th>\n",
       "      <td>82</td>\n",
       "      <td>1584</td>\n",
       "    </tr>\n",
       "  </tbody>\n",
       "</table>\n",
       "</div>"
      ],
      "text/plain": [
       "               actual pos  actual neg\n",
       "predicted pos          28          71\n",
       "predicted neg          82        1584"
      ]
     },
     "metadata": {},
     "output_type": "display_data"
    },
    {
     "data": {
      "image/png": "[encoded data removed]",
      "text/plain": [
       "<Figure size 576x576 with 1 Axes>"
      ]
     },
     "metadata": {},
     "output_type": "display_data"
    }
   ],
   "source": [
    "from sklearn.linear_model import LogisticRegression\n",
    "from sklearn.preprocessing import PolynomialFeatures, StandardScaler\n",
    "from sklearn.pipeline import Pipeline\n",
    "from sklearn.model_selection import GridSearchCV\n",
    "model = LogisticRegression()\n",
    "poly = PolynomialFeatures(include_bias=False)\n",
    "pipe_steps = [\n",
    "    ('poly', poly),\n",
    "    ('ss', StandardScaler()),\n",
    "    ('model', model)\n",
    "]\n",
    "\n",
    "pipe = Pipeline(pipe_steps)\n",
    "\n",
    "grid_params = {\n",
    "    'model__penalty':['l1','l2'],\n",
    "    'model__C':list(np.linspace(.001,1,10))\n",
    "}\n",
    "\n",
    "gs = GridSearchCV(pipe, grid_params, cv = 3, n_jobs=-1)\n",
    "\n",
    "gs.fit(X_train,y_train)\n",
    "show_gs_classifier_results(gs)\n",
    "gs_model_ROC(gs,X_test,y_test)"
   ]
  },
  {
   "cell_type": "code",
   "execution_count": 28,
   "metadata": {},
   "outputs": [
    {
     "name": "stdout",
     "output_type": "stream",
     "text": [
      "best_params: {'model__C': 0.112, 'model__penalty': 'l2'}\n"
     ]
    },
    {
     "data": {
      "text/html": [
       "<div>\n",
       "<style scoped>\n",
       "    .dataframe tbody tr th:only-of-type {\n",
       "        vertical-align: middle;\n",
       "    }\n",
       "\n",
       "    .dataframe tbody tr th {\n",
       "        vertical-align: top;\n",
       "    }\n",
       "\n",
       "    .dataframe thead th {\n",
       "        text-align: right;\n",
       "    }\n",
       "</style>\n",
       "<table border=\"1\" class=\"dataframe\">\n",
       "  <thead>\n",
       "    <tr style=\"text-align: right;\">\n",
       "      <th></th>\n",
       "      <th>Accuracy</th>\n",
       "      <th>F1-score</th>\n",
       "      <th>NPP</th>\n",
       "      <th>PPP</th>\n",
       "      <th>Sensitivity</th>\n",
       "      <th>Specificity</th>\n",
       "    </tr>\n",
       "  </thead>\n",
       "  <tbody>\n",
       "    <tr>\n",
       "      <th>train</th>\n",
       "      <td>0.861</td>\n",
       "      <td>0.465</td>\n",
       "      <td>0.883</td>\n",
       "      <td>0.648</td>\n",
       "      <td>0.363</td>\n",
       "      <td>0.961</td>\n",
       "    </tr>\n",
       "    <tr>\n",
       "      <th>test</th>\n",
       "      <td>0.913</td>\n",
       "      <td>0.268</td>\n",
       "      <td>0.951</td>\n",
       "      <td>0.283</td>\n",
       "      <td>0.255</td>\n",
       "      <td>0.957</td>\n",
       "    </tr>\n",
       "  </tbody>\n",
       "</table>\n",
       "</div>"
      ],
      "text/plain": [
       "       Accuracy  F1-score    NPP    PPP  Sensitivity  Specificity\n",
       "train     0.861     0.465  0.883  0.648        0.363        0.961\n",
       "test      0.913     0.268  0.951  0.283        0.255        0.957"
      ]
     },
     "metadata": {},
     "output_type": "display_data"
    },
    {
     "name": "stdout",
     "output_type": "stream",
     "text": [
      "train confusion matrix\n"
     ]
    },
    {
     "data": {
      "text/html": [
       "<div>\n",
       "<style scoped>\n",
       "    .dataframe tbody tr th:only-of-type {\n",
       "        vertical-align: middle;\n",
       "    }\n",
       "\n",
       "    .dataframe tbody tr th {\n",
       "        vertical-align: top;\n",
       "    }\n",
       "\n",
       "    .dataframe thead th {\n",
       "        text-align: right;\n",
       "    }\n",
       "</style>\n",
       "<table border=\"1\" class=\"dataframe\">\n",
       "  <thead>\n",
       "    <tr style=\"text-align: right;\">\n",
       "      <th></th>\n",
       "      <th>actual pos</th>\n",
       "      <th>actual neg</th>\n",
       "    </tr>\n",
       "  </thead>\n",
       "  <tbody>\n",
       "    <tr>\n",
       "      <th>predicted pos</th>\n",
       "      <td>480</td>\n",
       "      <td>261</td>\n",
       "    </tr>\n",
       "    <tr>\n",
       "      <th>predicted neg</th>\n",
       "      <td>843</td>\n",
       "      <td>6357</td>\n",
       "    </tr>\n",
       "  </tbody>\n",
       "</table>\n",
       "</div>"
      ],
      "text/plain": [
       "               actual pos  actual neg\n",
       "predicted pos         480         261\n",
       "predicted neg         843        6357"
      ]
     },
     "metadata": {},
     "output_type": "display_data"
    },
    {
     "name": "stdout",
     "output_type": "stream",
     "text": [
      "test confusion matrix\n"
     ]
    },
    {
     "data": {
      "text/html": [
       "<div>\n",
       "<style scoped>\n",
       "    .dataframe tbody tr th:only-of-type {\n",
       "        vertical-align: middle;\n",
       "    }\n",
       "\n",
       "    .dataframe tbody tr th {\n",
       "        vertical-align: top;\n",
       "    }\n",
       "\n",
       "    .dataframe thead th {\n",
       "        text-align: right;\n",
       "    }\n",
       "</style>\n",
       "<table border=\"1\" class=\"dataframe\">\n",
       "  <thead>\n",
       "    <tr style=\"text-align: right;\">\n",
       "      <th></th>\n",
       "      <th>actual pos</th>\n",
       "      <th>actual neg</th>\n",
       "    </tr>\n",
       "  </thead>\n",
       "  <tbody>\n",
       "    <tr>\n",
       "      <th>predicted pos</th>\n",
       "      <td>28</td>\n",
       "      <td>71</td>\n",
       "    </tr>\n",
       "    <tr>\n",
       "      <th>predicted neg</th>\n",
       "      <td>82</td>\n",
       "      <td>1584</td>\n",
       "    </tr>\n",
       "  </tbody>\n",
       "</table>\n",
       "</div>"
      ],
      "text/plain": [
       "               actual pos  actual neg\n",
       "predicted pos          28          71\n",
       "predicted neg          82        1584"
      ]
     },
     "metadata": {},
     "output_type": "display_data"
    },
    {
     "data": {
      "image/png": "[encoded data removed]",
      "text/plain": [
       "<Figure size 576x576 with 1 Axes>"
      ]
     },
     "metadata": {},
     "output_type": "display_data"
    }
   ],
   "source": [
    "model = LogisticRegression()\n",
    "ss = StandardScaler()\n",
    "poly = PolynomialFeatures(include_bias=False)\n",
    "pipe_steps = [\n",
    "    ('poly', poly),\n",
    "    ('ss', ss),\n",
    "    ('model', model)\n",
    "]\n",
    "\n",
    "pipe = Pipeline(pipe_steps)\n",
    "\n",
    "grid_params = {\n",
    "    'model__penalty':['l1','l2'],\n",
    "    'model__C':list(np.linspace(.001,1,10))\n",
    "}\n",
    "\n",
    "gs = GridSearchCV(pipe, grid_params, cv = 3, n_jobs=-1)\n",
    "\n",
    "gs.fit(X_train,y_train)\n",
    "show_gs_classifier_results(gs)\n",
    "gs_model_ROC(gs,X_test,y_test)"
   ]
  },
  {
   "cell_type": "code",
   "execution_count": 29,
   "metadata": {},
   "outputs": [
    {
     "data": {
      "text/plain": [
       "LogisticRegression(C=0.112, class_weight=None, dual=False, fit_intercept=True,\n",
       "          intercept_scaling=1, max_iter=100, multi_class='ovr', n_jobs=1,\n",
       "          penalty='l2', random_state=None, solver='liblinear', tol=0.0001,\n",
       "          verbose=0, warm_start=False)"
      ]
     },
     "execution_count": 29,
     "metadata": {},
     "output_type": "execute_result"
    }
   ],
   "source": [
    "poly = PolynomialFeatures(include_bias=False)\n",
    "X_train_poly = poly.fit_transform(X_train)\n",
    "\n",
    "log = LogisticRegression(C = 0.112, penalty = 'l2')\n",
    "log.fit(X_train_poly,y_train)"
   ]
  },
  {
   "cell_type": "code",
   "execution_count": 30,
   "metadata": {},
   "outputs": [
    {
     "data": {
      "text/plain": [
       "252"
      ]
     },
     "execution_count": 30,
     "metadata": {},
     "output_type": "execute_result"
    }
   ],
   "source": [
    "len(poly.get_feature_names(X_train.columns))"
   ]
  },
  {
   "cell_type": "code",
   "execution_count": 31,
   "metadata": {},
   "outputs": [
    {
     "data": {
      "text/plain": [
       "(252, 1)"
      ]
     },
     "execution_count": 31,
     "metadata": {},
     "output_type": "execute_result"
    }
   ],
   "source": [
    "log.coef_.T.shape"
   ]
  },
  {
   "cell_type": "code",
   "execution_count": 32,
   "metadata": {},
   "outputs": [],
   "source": [
    "coefs = pd.DataFrame(log.coef_, columns=poly.get_feature_names(X_train.columns)).T"
   ]
  },
  {
   "cell_type": "code",
   "execution_count": 33,
   "metadata": {},
   "outputs": [],
   "source": [
    "coefs.sort_values(0, ascending=False, inplace=True)"
   ]
  },
  {
   "cell_type": "code",
   "execution_count": 34,
   "metadata": {},
   "outputs": [
    {
     "data": {
      "text/html": [
       "<div>\n",
       "<style scoped>\n",
       "    .dataframe tbody tr th:only-of-type {\n",
       "        vertical-align: middle;\n",
       "    }\n",
       "\n",
       "    .dataframe tbody tr th {\n",
       "        vertical-align: top;\n",
       "    }\n",
       "\n",
       "    .dataframe thead th {\n",
       "        text-align: right;\n",
       "    }\n",
       "</style>\n",
       "<table border=\"1\" class=\"dataframe\">\n",
       "  <thead>\n",
       "    <tr style=\"text-align: right;\">\n",
       "      <th></th>\n",
       "      <th>0</th>\n",
       "    </tr>\n",
       "  </thead>\n",
       "  <tbody>\n",
       "    <tr>\n",
       "      <th>7DayMeanDewPoint 7DayMeanSunLight</th>\n",
       "      <td>0.108116</td>\n",
       "    </tr>\n",
       "    <tr>\n",
       "      <th>pipien 7DayMaxTmax</th>\n",
       "      <td>0.089258</td>\n",
       "    </tr>\n",
       "    <tr>\n",
       "      <th>pipien 7DayMeanDewPoint</th>\n",
       "      <td>-0.073372</td>\n",
       "    </tr>\n",
       "    <tr>\n",
       "      <th>pipien 7DayMinTmin</th>\n",
       "      <td>-0.074440</td>\n",
       "    </tr>\n",
       "    <tr>\n",
       "      <th>7DayMinTmin 7DayMeanHeat</th>\n",
       "      <td>-0.086517</td>\n",
       "    </tr>\n",
       "    <tr>\n",
       "      <th>7DayMeanTavg^2</th>\n",
       "      <td>-0.089312</td>\n",
       "    </tr>\n",
       "  </tbody>\n",
       "</table>\n",
       "</div>"
      ],
      "text/plain": [
       "                                          0\n",
       "7DayMeanDewPoint 7DayMeanSunLight  0.108116\n",
       "pipien 7DayMaxTmax                 0.089258\n",
       "pipien 7DayMeanDewPoint           -0.073372\n",
       "pipien 7DayMinTmin                -0.074440\n",
       "7DayMinTmin 7DayMeanHeat          -0.086517\n",
       "7DayMeanTavg^2                    -0.089312"
      ]
     },
     "execution_count": 34,
     "metadata": {},
     "output_type": "execute_result"
    }
   ],
   "source": [
    "coefs[coefs[0]**2>.005]"
   ]
  },
  {
   "cell_type": "code",
   "execution_count": null,
   "metadata": {},
   "outputs": [],
   "source": []
  }
 ],
 "metadata": {
  "kernelspec": {
   "display_name": "Python [conda env:anaconda3]",
   "language": "python",
   "name": "conda-env-anaconda3-py"
  },
  "language_info": {
   "codemirror_mode": {
    "name": "ipython",
    "version": 3
   },
   "file_extension": ".py",
   "mimetype": "text/x-python",
   "name": "python",
   "nbconvert_exporter": "python",
   "pygments_lexer": "ipython3",
   "version": "3.6.5"
  }
 },
 "nbformat": 4,
 "nbformat_minor": 2
}
