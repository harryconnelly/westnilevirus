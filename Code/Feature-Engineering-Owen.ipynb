{
 "cells": [
  {
   "cell_type": "markdown",
   "metadata": {},
   "source": [
    "## Imports"
   ]
  },
  {
   "cell_type": "code",
   "execution_count": 62,
   "metadata": {},
   "outputs": [],
   "source": [
    "import numpy as np\n",
    "import pandas as pd\n",
    "import datetime\n",
    "\n",
    "pd.set_option('display.max_rows', 500)\n",
    "pd.set_option('display.max_columns', 500)\n",
    "\n",
    "import matplotlib.pyplot as plt\n",
    "%matplotlib inline"
   ]
  },
  {
   "cell_type": "markdown",
   "metadata": {},
   "source": [
    "## Load data"
   ]
  },
  {
   "cell_type": "code",
   "execution_count": 99,
   "metadata": {},
   "outputs": [],
   "source": [
    "train_df = pd.read_csv('../input/transformed_input/train_clean_owen')\n",
    "ag_train = pd.read_csv('../input/transformed_input/aggregated_train_clean_owen')\n",
    "test_df = pd.read_csv('../input/transformed_input/test_clean_owen')\n",
    "spray_df = pd.read_csv('../input/transformed_input/spray_clean_owen')\n",
    "weather_df = pd.read_csv('../input/transformed_input/weather_clean_owen')"
   ]
  },
  {
   "cell_type": "code",
   "execution_count": 100,
   "metadata": {},
   "outputs": [],
   "source": [
    "train_df.Date = pd.to_datetime(train_df.Date)\n",
    "ag_train.Date = pd.to_datetime(ag_train.Date)\n",
    "test_df.Date = pd.to_datetime(test_df.Date)\n",
    "spray_df.Date = pd.to_datetime(spray_df.Date)\n",
    "weather_df.Date = pd.to_datetime(weather_df.Date)"
   ]
  },
  {
   "cell_type": "code",
   "execution_count": 101,
   "metadata": {},
   "outputs": [],
   "source": [
    "def weather_stat (date, start_days_back, end_days_back, col, stat):\n",
    "    '''\n",
    "    date = the end date\n",
    "    start_days_back = how far back the start day is (0 is day of)\n",
    "    end_days_back = how far back the end day is, end day should be after start day (inclusive)\n",
    "    col = the col where you are getting the stat from\n",
    "    stat = 'a' for average, 'h' for high, 'l' for low\n",
    "    station = '3' for both, '1' or '2'\n",
    "    '''\n",
    "    start_date = date - datetime.timedelta(start_days_back)\n",
    "    end_date = date - datetime.timedelta(end_days_back)\n",
    "    df = weather_df[(weather_df['Date']>start_date) & (weather_df['Date']<=end_date)]\n",
    "    data = df[col]\n",
    "    result = stat(data)\n",
    "    return result"
   ]
  },
  {
   "cell_type": "code",
   "execution_count": 102,
   "metadata": {},
   "outputs": [
    {
     "data": {
      "text/plain": [
       "75.14285714285714"
      ]
     },
     "execution_count": 102,
     "metadata": {},
     "output_type": "execute_result"
    }
   ],
   "source": [
    "date = datetime.datetime(2013,6,1)\n",
    "weather_stat(date, 7, 0, 'Tmax', np.mean)"
   ]
  },
  {
   "cell_type": "markdown",
   "metadata": {},
   "source": [
    "## 2013 Train"
   ]
  },
  {
   "cell_type": "code",
   "execution_count": 103,
   "metadata": {},
   "outputs": [],
   "source": [
    "train_2013 = ag_train[(ag_train['Date']>datetime.datetime(2013,1,1)) & (ag_train['Date']<datetime.datetime(2014,1,1))]"
   ]
  },
  {
   "cell_type": "code",
   "execution_count": 108,
   "metadata": {},
   "outputs": [],
   "source": [
    "date_traps = {}\n",
    "date_traps['2013-07-17'] = ['T159','T089','T008','T094']\n",
    "date_traps['2013-07-25'] = ['T228']\n",
    "date_traps['2013-08-08'] = ['T147']\n",
    "date_traps['2013-08-15'] = ['T230','T013','T151','T002','T017']\n",
    "date_traps['2013-08-22'] = ['T138','T227','T102','T030'] \n",
    "date_traps['2013-08-29'] = ['T066','T028','T231'] \n",
    "date_traps['2013-09-05'] = ['T233']\n",
    "good_traps = ['T159','T089','T008','T094','T228','T147','T230','T013','T151','T002','T017',\n",
    "              'T138','T227','T102','T030','T066','T028','T231','T233']"
   ]
  },
  {
   "cell_type": "code",
   "execution_count": 111,
   "metadata": {
    "scrolled": true
   },
   "outputs": [
    {
     "data": {
      "text/plain": [
       "dict_keys(['2013-07-17', '2013-07-25', '2013-08-08', '2013-08-15', '2013-08-22', '2013-08-29', '2013-09-05'])"
      ]
     },
     "execution_count": 111,
     "metadata": {},
     "output_type": "execute_result"
    }
   ],
   "source": [
    "date_traps.keys()\n",
    "    "
   ]
  },
  {
   "cell_type": "code",
   "execution_count": 85,
   "metadata": {},
   "outputs": [],
   "source": [
    "from sklearn.model_selection import train_test_split"
   ]
  },
  {
   "cell_type": "code",
   "execution_count": 86,
   "metadata": {},
   "outputs": [
    {
     "data": {
      "text/plain": [
       "Index(['Date', 'Trap', 'Latitude', 'Longitude', 'NumMosquitos', 'WnvPresent',\n",
       "       'pipien', 'restuans', 'DateTrap'],\n",
       "      dtype='object')"
      ]
     },
     "execution_count": 86,
     "metadata": {},
     "output_type": "execute_result"
    }
   ],
   "source": [
    "train_2013.columns"
   ]
  },
  {
   "cell_type": "code",
   "execution_count": null,
   "metadata": {},
   "outputs": [],
   "source": [
    "X = df[['Date', 'NumMosquitos',\n",
    "       'pipien', 'restuans', 'DateTrap']]\n",
    "y = df['NumMosquitos']"
   ]
  },
  {
   "cell_type": "code",
   "execution_count": 82,
   "metadata": {},
   "outputs": [],
   "source": [
    "copy1 = train_2013[train_2013.WnvPresent == 1]\n",
    "copy2 = train_2013[train_2013.WnvPresent == 1]"
   ]
  },
  {
   "cell_type": "code",
   "execution_count": 83,
   "metadata": {},
   "outputs": [],
   "source": [
    "train_2013 = pd.concat([train_2013,copy1,copy2])"
   ]
  },
  {
   "cell_type": "code",
   "execution_count": 84,
   "metadata": {},
   "outputs": [
    {
     "data": {
      "text/plain": [
       "0    1766\n",
       "1     717\n",
       "Name: WnvPresent, dtype: int64"
      ]
     },
     "execution_count": 84,
     "metadata": {},
     "output_type": "execute_result"
    }
   ],
   "source": [
    "train_2013.WnvPresent.value_counts()"
   ]
  },
  {
   "cell_type": "code",
   "execution_count": 69,
   "metadata": {},
   "outputs": [],
   "source": [
    "def add_weather(df):\n",
    "    days = 7\n",
    "\n",
    "    cols = ['Tmax']\n",
    "    for col in cols:\n",
    "        df[str(days)+'DayMax'+col] = df['Date'].map(lambda d: weather_stat(d, days, 0, col, np.max))\n",
    "\n",
    "    cols = ['Tmin']\n",
    "    for col in cols:\n",
    "        df[str(days)+'DayMin'+col] = train_dfdf['Date'].map(lambda d: weather_stat(d, days, 0, col, np.min))\n",
    "\n",
    "    cols = ['Tavg', 'Depart', 'DewPoint', 'WetBulb', 'Heat','Cool', 'PrecipTotal', 'SunLight', \n",
    "            'Rain', 'Haze', 'Mist', 'Drizzle','Fog']\n",
    "    for col in cols:\n",
    "        df[str(days)+'DayMean'+col] = df['Date'].map(lambda d: weather_stat(d, days, 0, col, np.mean))\n",
    "    \n",
    "    return df"
   ]
  },
  {
   "cell_type": "code",
   "execution_count": 70,
   "metadata": {},
   "outputs": [
    {
     "data": {
      "text/html": [
       "<div>\n",
       "<style scoped>\n",
       "    .dataframe tbody tr th:only-of-type {\n",
       "        vertical-align: middle;\n",
       "    }\n",
       "\n",
       "    .dataframe tbody tr th {\n",
       "        vertical-align: top;\n",
       "    }\n",
       "\n",
       "    .dataframe thead th {\n",
       "        text-align: right;\n",
       "    }\n",
       "</style>\n",
       "<table border=\"1\" class=\"dataframe\">\n",
       "  <thead>\n",
       "    <tr style=\"text-align: right;\">\n",
       "      <th></th>\n",
       "      <th>Date</th>\n",
       "      <th>Trap</th>\n",
       "      <th>Latitude</th>\n",
       "      <th>Longitude</th>\n",
       "      <th>NumMosquitos</th>\n",
       "      <th>WnvPresent</th>\n",
       "      <th>pipien</th>\n",
       "      <th>restuans</th>\n",
       "      <th>DateTrap</th>\n",
       "    </tr>\n",
       "  </thead>\n",
       "  <tbody>\n",
       "    <tr>\n",
       "      <th>0</th>\n",
       "      <td>2007-06-29</td>\n",
       "      <td>T002</td>\n",
       "      <td>41.954690</td>\n",
       "      <td>-87.800991</td>\n",
       "      <td>2</td>\n",
       "      <td>0</td>\n",
       "      <td>1</td>\n",
       "      <td>1</td>\n",
       "      <td>2007-06-29T002</td>\n",
       "    </tr>\n",
       "    <tr>\n",
       "      <th>1</th>\n",
       "      <td>2007-06-29</td>\n",
       "      <td>T015</td>\n",
       "      <td>41.974089</td>\n",
       "      <td>-87.824812</td>\n",
       "      <td>1</td>\n",
       "      <td>0</td>\n",
       "      <td>1</td>\n",
       "      <td>1</td>\n",
       "      <td>2007-06-29T015</td>\n",
       "    </tr>\n",
       "    <tr>\n",
       "      <th>2</th>\n",
       "      <td>2007-06-29</td>\n",
       "      <td>T015</td>\n",
       "      <td>41.974089</td>\n",
       "      <td>-87.824812</td>\n",
       "      <td>2</td>\n",
       "      <td>0</td>\n",
       "      <td>0</td>\n",
       "      <td>1</td>\n",
       "      <td>2007-06-29T015</td>\n",
       "    </tr>\n",
       "    <tr>\n",
       "      <th>3</th>\n",
       "      <td>2007-06-29</td>\n",
       "      <td>T046</td>\n",
       "      <td>41.891118</td>\n",
       "      <td>-87.654491</td>\n",
       "      <td>2</td>\n",
       "      <td>0</td>\n",
       "      <td>0</td>\n",
       "      <td>1</td>\n",
       "      <td>2007-06-29T046</td>\n",
       "    </tr>\n",
       "    <tr>\n",
       "      <th>4</th>\n",
       "      <td>2007-06-29</td>\n",
       "      <td>T054</td>\n",
       "      <td>41.921965</td>\n",
       "      <td>-87.632085</td>\n",
       "      <td>3</td>\n",
       "      <td>0</td>\n",
       "      <td>1</td>\n",
       "      <td>1</td>\n",
       "      <td>2007-06-29T054</td>\n",
       "    </tr>\n",
       "  </tbody>\n",
       "</table>\n",
       "</div>"
      ],
      "text/plain": [
       "        Date  Trap   Latitude  Longitude  NumMosquitos  WnvPresent  pipien  \\\n",
       "0 2007-06-29  T002  41.954690 -87.800991             2           0       1   \n",
       "1 2007-06-29  T015  41.974089 -87.824812             1           0       1   \n",
       "2 2007-06-29  T015  41.974089 -87.824812             2           0       0   \n",
       "3 2007-06-29  T046  41.891118 -87.654491             2           0       0   \n",
       "4 2007-06-29  T054  41.921965 -87.632085             3           0       1   \n",
       "\n",
       "   restuans        DateTrap  \n",
       "0         1  2007-06-29T002  \n",
       "1         1  2007-06-29T015  \n",
       "2         1  2007-06-29T015  \n",
       "3         1  2007-06-29T046  \n",
       "4         1  2007-06-29T054  "
      ]
     },
     "execution_count": 70,
     "metadata": {},
     "output_type": "execute_result"
    }
   ],
   "source": [
    "train_df.head()"
   ]
  },
  {
   "cell_type": "code",
   "execution_count": 61,
   "metadata": {},
   "outputs": [
    {
     "data": {
      "text/plain": [
       "2013-08-15    2668\n",
       "2013-08-29    2302\n",
       "2013-07-17    2202\n",
       "2011-09-07    2114\n",
       "2013-07-25    1607\n",
       "2013-08-22    1587\n",
       "2013-08-08    1195\n",
       "2013-09-05     924\n",
       "2013-08-16     141\n",
       "2011-08-29      95\n",
       "Name: Date, dtype: int64"
      ]
     },
     "execution_count": 61,
     "metadata": {},
     "output_type": "execute_result"
    }
   ],
   "source": [
    "spray_df.Date.value_counts()"
   ]
  },
  {
   "cell_type": "code",
   "execution_count": null,
   "metadata": {},
   "outputs": [],
   "source": []
  }
 ],
 "metadata": {
  "kernelspec": {
   "display_name": "Python [conda env:anaconda3]",
   "language": "python",
   "name": "conda-env-anaconda3-py"
  },
  "language_info": {
   "codemirror_mode": {
    "name": "ipython",
    "version": 3
   },
   "file_extension": ".py",
   "mimetype": "text/x-python",
   "name": "python",
   "nbconvert_exporter": "python",
   "pygments_lexer": "ipython3",
   "version": "3.6.5"
  }
 },
 "nbformat": 4,
 "nbformat_minor": 2
}
