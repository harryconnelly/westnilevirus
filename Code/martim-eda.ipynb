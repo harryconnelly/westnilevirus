{
 "cells": [
  {
   "cell_type": "markdown",
   "metadata": {},
   "source": [
    "# West Nile Virus"
   ]
  },
  {
   "cell_type": "markdown",
   "metadata": {},
   "source": [
    "## Imports"
   ]
  },
  {
   "cell_type": "code",
   "execution_count": 1,
   "metadata": {},
   "outputs": [
    {
     "data": {
      "text/html": [
       "<script>requirejs.config({paths: { 'plotly': ['https://cdn.plot.ly/plotly-latest.min']},});if(!window.Plotly) {{require(['plotly'],function(plotly) {window.Plotly=plotly;});}}</script>"
      ],
      "text/vnd.plotly.v1+html": [
       "<script>requirejs.config({paths: { 'plotly': ['https://cdn.plot.ly/plotly-latest.min']},});if(!window.Plotly) {{require(['plotly'],function(plotly) {window.Plotly=plotly;});}}</script>"
      ]
     },
     "metadata": {},
     "output_type": "display_data"
    }
   ],
   "source": [
    "import numpy as np\n",
    "import pandas as pd\n",
    "import datetime as dt\n",
    "import seaborn as sns\n",
    "\n",
    "import matplotlib.pyplot as plt\n",
    "%matplotlib inline\n",
    "%config InlineBackend.figure_format = 'retina'\n",
    "\n",
    "from plotly.offline import iplot, init_notebook_mode\n",
    "import plotly.graph_objs as go\n",
    "import plotly.tools as tls\n",
    "\n",
    "init_notebook_mode(connected=True)"
   ]
  },
  {
   "cell_type": "code",
   "execution_count": 2,
   "metadata": {},
   "outputs": [],
   "source": [
    "train = pd.read_csv('../input/train.csv')\n",
    "test = pd.read_csv('../input/test.csv')\n",
    "spray = pd.read_csv('../input/spray.csv')\n",
    "weather = pd.read_csv('../input/weather.csv')"
   ]
  },
  {
   "cell_type": "markdown",
   "metadata": {},
   "source": [
    "## Data transformation"
   ]
  },
  {
   "cell_type": "code",
   "execution_count": 3,
   "metadata": {},
   "outputs": [],
   "source": [
    "spray_datetime = spray.copy()\n",
    "spray_datetime['DateTime'] = pd.to_datetime(spray_datetime['Date'] + ' ' + spray_datetime['Time'], utc=True)"
   ]
  },
  {
   "cell_type": "code",
   "execution_count": 4,
   "metadata": {},
   "outputs": [],
   "source": [
    "spray_datetime['Year'] = spray_datetime['Date'].map(lambda string: string[0:4])\n",
    "spray_datetime['Month'] = spray_datetime['Date'].map(lambda string: string[5:7])\n",
    "spray_datetime['Day'] = spray_datetime['Date'].map(lambda string: string[8:10])\n",
    "spray_datetime = spray_datetime[spray_datetime['Year'] == '2013']\n",
    "spray_datetime = spray_datetime[spray_datetime['Month'] == '08']\n",
    "spray_datetime = spray_datetime[spray_datetime['Day'] == '15']\n",
    "spray_datetime.drop(columns=['Year', 'Month', 'Day'], inplace=True)"
   ]
  },
  {
   "cell_type": "code",
   "execution_count": 5,
   "metadata": {},
   "outputs": [],
   "source": [
    "spray_datetime.to_csv('./../input/transformed_input/spray_datetime.csv')"
   ]
  },
  {
   "cell_type": "markdown",
   "metadata": {},
   "source": [
    "### Train lite"
   ]
  },
  {
   "cell_type": "code",
   "execution_count": 6,
   "metadata": {},
   "outputs": [],
   "source": [
    "train_lite = train[['Date', 'Species', 'Trap', 'Latitude', 'Longitude', \n",
    "                    'AddressAccuracy', 'NumMosquitos', 'WnvPresent']]"
   ]
  },
  {
   "cell_type": "code",
   "execution_count": 7,
   "metadata": {},
   "outputs": [
    {
     "data": {
      "text/plain": [
       "CULEX PIPIENS/RESTUANS    4752\n",
       "CULEX RESTUANS            2740\n",
       "CULEX PIPIENS             2699\n",
       "CULEX TERRITANS            222\n",
       "CULEX SALINARIUS            86\n",
       "CULEX TARSALIS               6\n",
       "CULEX ERRATICUS              1\n",
       "Name: Species, dtype: int64"
      ]
     },
     "execution_count": 7,
     "metadata": {},
     "output_type": "execute_result"
    }
   ],
   "source": [
    "train_lite['Species'].value_counts()"
   ]
  },
  {
   "cell_type": "markdown",
   "metadata": {},
   "source": [
    "Mosquito trap observations are capped at 50 mosquitoes. We need to find multiple trap observations for the same date and group them together. When aggregating species, we'll prioritize `CULEX PIPIENS/RESTUANS`, then `CULEX PIPIENS`, then `CULEX RESTUANS`, and finally other species."
   ]
  },
  {
   "cell_type": "code",
   "execution_count": 8,
   "metadata": {},
   "outputs": [],
   "source": [
    "def consolidate_species(series):\n",
    "    elements = set(series)\n",
    "    if 'CULEX PIPIENS/RESTUANS' in elements:\n",
    "        return 'CULEX PIPIENS/RESTUANS'\n",
    "    elif ('CULEX PIPIENS' in elements) and ('CULEX RESTUANS' in elements):\n",
    "        return 'CULEX PIPIENS/RESTUANS'\n",
    "    elif 'CULEX PIPIENS' in elements:\n",
    "        return 'CULEX PIPIENS'\n",
    "    elif 'CULEX RESTUANS' in elements:\n",
    "        return 'CULEX RESTUANS'\n",
    "    else:\n",
    "        return 'OTHER'"
   ]
  },
  {
   "cell_type": "code",
   "execution_count": 9,
   "metadata": {},
   "outputs": [],
   "source": [
    "train_lite = train_lite.groupby(['Date', 'Trap']).agg(\n",
    "    {\n",
    "        'Species': consolidate_species,\n",
    "        'Latitude': np.mean, \n",
    "        'Longitude': np.mean,\n",
    "        'AddressAccuracy': np.mean,\n",
    "        'NumMosquitos': np.sum, \n",
    "        'WnvPresent': np.max,\n",
    "        'NumMosquitos': np.sum\n",
    "    }).reset_index()"
   ]
  },
  {
   "cell_type": "code",
   "execution_count": 10,
   "metadata": {},
   "outputs": [
    {
     "data": {
      "text/html": [
       "<div>\n",
       "<style scoped>\n",
       "    .dataframe tbody tr th:only-of-type {\n",
       "        vertical-align: middle;\n",
       "    }\n",
       "\n",
       "    .dataframe tbody tr th {\n",
       "        vertical-align: top;\n",
       "    }\n",
       "\n",
       "    .dataframe thead th {\n",
       "        text-align: right;\n",
       "    }\n",
       "</style>\n",
       "<table border=\"1\" class=\"dataframe\">\n",
       "  <thead>\n",
       "    <tr style=\"text-align: right;\">\n",
       "      <th></th>\n",
       "      <th>Date</th>\n",
       "      <th>Trap</th>\n",
       "      <th>Species</th>\n",
       "      <th>Latitude</th>\n",
       "      <th>Longitude</th>\n",
       "      <th>AddressAccuracy</th>\n",
       "      <th>NumMosquitos</th>\n",
       "      <th>WnvPresent</th>\n",
       "    </tr>\n",
       "  </thead>\n",
       "  <tbody>\n",
       "    <tr>\n",
       "      <th>0</th>\n",
       "      <td>2007-05-29</td>\n",
       "      <td>T002</td>\n",
       "      <td>CULEX PIPIENS/RESTUANS</td>\n",
       "      <td>41.954690</td>\n",
       "      <td>-87.800991</td>\n",
       "      <td>9</td>\n",
       "      <td>2</td>\n",
       "      <td>0</td>\n",
       "    </tr>\n",
       "    <tr>\n",
       "      <th>1</th>\n",
       "      <td>2007-05-29</td>\n",
       "      <td>T007</td>\n",
       "      <td>CULEX RESTUANS</td>\n",
       "      <td>41.994991</td>\n",
       "      <td>-87.769279</td>\n",
       "      <td>9</td>\n",
       "      <td>1</td>\n",
       "      <td>0</td>\n",
       "    </tr>\n",
       "    <tr>\n",
       "      <th>2</th>\n",
       "      <td>2007-05-29</td>\n",
       "      <td>T015</td>\n",
       "      <td>CULEX PIPIENS/RESTUANS</td>\n",
       "      <td>41.974089</td>\n",
       "      <td>-87.824812</td>\n",
       "      <td>8</td>\n",
       "      <td>5</td>\n",
       "      <td>0</td>\n",
       "    </tr>\n",
       "    <tr>\n",
       "      <th>3</th>\n",
       "      <td>2007-05-29</td>\n",
       "      <td>T045</td>\n",
       "      <td>CULEX RESTUANS</td>\n",
       "      <td>41.921600</td>\n",
       "      <td>-87.666455</td>\n",
       "      <td>8</td>\n",
       "      <td>2</td>\n",
       "      <td>0</td>\n",
       "    </tr>\n",
       "    <tr>\n",
       "      <th>4</th>\n",
       "      <td>2007-05-29</td>\n",
       "      <td>T046</td>\n",
       "      <td>CULEX RESTUANS</td>\n",
       "      <td>41.891118</td>\n",
       "      <td>-87.654491</td>\n",
       "      <td>8</td>\n",
       "      <td>1</td>\n",
       "      <td>0</td>\n",
       "    </tr>\n",
       "  </tbody>\n",
       "</table>\n",
       "</div>"
      ],
      "text/plain": [
       "         Date  Trap                 Species   Latitude  Longitude  \\\n",
       "0  2007-05-29  T002  CULEX PIPIENS/RESTUANS  41.954690 -87.800991   \n",
       "1  2007-05-29  T007          CULEX RESTUANS  41.994991 -87.769279   \n",
       "2  2007-05-29  T015  CULEX PIPIENS/RESTUANS  41.974089 -87.824812   \n",
       "3  2007-05-29  T045          CULEX RESTUANS  41.921600 -87.666455   \n",
       "4  2007-05-29  T046          CULEX RESTUANS  41.891118 -87.654491   \n",
       "\n",
       "   AddressAccuracy  NumMosquitos  WnvPresent  \n",
       "0                9             2           0  \n",
       "1                9             1           0  \n",
       "2                8             5           0  \n",
       "3                8             2           0  \n",
       "4                8             1           0  "
      ]
     },
     "execution_count": 10,
     "metadata": {},
     "output_type": "execute_result"
    }
   ],
   "source": [
    "train_lite.head()"
   ]
  },
  {
   "cell_type": "code",
   "execution_count": 11,
   "metadata": {},
   "outputs": [
    {
     "data": {
      "text/plain": [
       "(10506, 12)"
      ]
     },
     "execution_count": 11,
     "metadata": {},
     "output_type": "execute_result"
    }
   ],
   "source": [
    "train.shape"
   ]
  },
  {
   "cell_type": "code",
   "execution_count": 12,
   "metadata": {},
   "outputs": [
    {
     "data": {
      "text/plain": [
       "(4616, 8)"
      ]
     },
     "execution_count": 12,
     "metadata": {},
     "output_type": "execute_result"
    }
   ],
   "source": [
    "train_lite.shape"
   ]
  },
  {
   "cell_type": "markdown",
   "metadata": {},
   "source": [
    "By merging traps for the same date, we've been able to significantly reduce the number of \"superfluous\" observations, as well as slightly reduce class imbalance."
   ]
  },
  {
   "cell_type": "code",
   "execution_count": 13,
   "metadata": {},
   "outputs": [
    {
     "data": {
      "text/plain": [
       "0    0.947554\n",
       "1    0.052446\n",
       "Name: WnvPresent, dtype: float64"
      ]
     },
     "execution_count": 13,
     "metadata": {},
     "output_type": "execute_result"
    }
   ],
   "source": [
    "train['WnvPresent'].value_counts(normalize=True)"
   ]
  },
  {
   "cell_type": "code",
   "execution_count": 14,
   "metadata": {},
   "outputs": [
    {
     "data": {
      "text/plain": [
       "0    0.916594\n",
       "1    0.083406\n",
       "Name: WnvPresent, dtype: float64"
      ]
     },
     "execution_count": 14,
     "metadata": {},
     "output_type": "execute_result"
    }
   ],
   "source": [
    "train_lite['WnvPresent'].value_counts(normalize=True)"
   ]
  },
  {
   "cell_type": "markdown",
   "metadata": {},
   "source": [
    "We'll also remove `OTHER` species when creating dummy variables."
   ]
  },
  {
   "cell_type": "code",
   "execution_count": 15,
   "metadata": {},
   "outputs": [
    {
     "data": {
      "text/plain": [
       "CULEX PIPIENS/RESTUANS    3876\n",
       "CULEX RESTUANS             456\n",
       "CULEX PIPIENS              258\n",
       "OTHER                       26\n",
       "Name: Species, dtype: int64"
      ]
     },
     "execution_count": 15,
     "metadata": {},
     "output_type": "execute_result"
    }
   ],
   "source": [
    "train_lite['Species'].value_counts()"
   ]
  },
  {
   "cell_type": "code",
   "execution_count": 16,
   "metadata": {},
   "outputs": [],
   "source": [
    "train_lite['CULEX PIPIENS'] = train_lite['Species'].map(\n",
    "    lambda species: 1 if species in ['CULEX PIPIENS', 'CULEX PIPIENS/RESTUANS'] else 0)\n",
    "\n",
    "train_lite['CULEX RESTUANS'] = train_lite['Species'].map(\n",
    "    lambda species: 1 if species in ['CULEX RESTUANS', 'CULEX PIPIENS/RESTUANS'] else 0)"
   ]
  },
  {
   "cell_type": "code",
   "execution_count": 17,
   "metadata": {},
   "outputs": [
    {
     "data": {
      "text/html": [
       "<div>\n",
       "<style scoped>\n",
       "    .dataframe tbody tr th:only-of-type {\n",
       "        vertical-align: middle;\n",
       "    }\n",
       "\n",
       "    .dataframe tbody tr th {\n",
       "        vertical-align: top;\n",
       "    }\n",
       "\n",
       "    .dataframe thead th {\n",
       "        text-align: right;\n",
       "    }\n",
       "</style>\n",
       "<table border=\"1\" class=\"dataframe\">\n",
       "  <thead>\n",
       "    <tr style=\"text-align: right;\">\n",
       "      <th></th>\n",
       "      <th>Date</th>\n",
       "      <th>Trap</th>\n",
       "      <th>Species</th>\n",
       "      <th>Latitude</th>\n",
       "      <th>Longitude</th>\n",
       "      <th>AddressAccuracy</th>\n",
       "      <th>NumMosquitos</th>\n",
       "      <th>WnvPresent</th>\n",
       "      <th>CULEX PIPIENS</th>\n",
       "      <th>CULEX RESTUANS</th>\n",
       "    </tr>\n",
       "  </thead>\n",
       "  <tbody>\n",
       "    <tr>\n",
       "      <th>0</th>\n",
       "      <td>2007-05-29</td>\n",
       "      <td>T002</td>\n",
       "      <td>CULEX PIPIENS/RESTUANS</td>\n",
       "      <td>41.954690</td>\n",
       "      <td>-87.800991</td>\n",
       "      <td>9</td>\n",
       "      <td>2</td>\n",
       "      <td>0</td>\n",
       "      <td>1</td>\n",
       "      <td>1</td>\n",
       "    </tr>\n",
       "    <tr>\n",
       "      <th>1</th>\n",
       "      <td>2007-05-29</td>\n",
       "      <td>T007</td>\n",
       "      <td>CULEX RESTUANS</td>\n",
       "      <td>41.994991</td>\n",
       "      <td>-87.769279</td>\n",
       "      <td>9</td>\n",
       "      <td>1</td>\n",
       "      <td>0</td>\n",
       "      <td>0</td>\n",
       "      <td>1</td>\n",
       "    </tr>\n",
       "    <tr>\n",
       "      <th>2</th>\n",
       "      <td>2007-05-29</td>\n",
       "      <td>T015</td>\n",
       "      <td>CULEX PIPIENS/RESTUANS</td>\n",
       "      <td>41.974089</td>\n",
       "      <td>-87.824812</td>\n",
       "      <td>8</td>\n",
       "      <td>5</td>\n",
       "      <td>0</td>\n",
       "      <td>1</td>\n",
       "      <td>1</td>\n",
       "    </tr>\n",
       "    <tr>\n",
       "      <th>3</th>\n",
       "      <td>2007-05-29</td>\n",
       "      <td>T045</td>\n",
       "      <td>CULEX RESTUANS</td>\n",
       "      <td>41.921600</td>\n",
       "      <td>-87.666455</td>\n",
       "      <td>8</td>\n",
       "      <td>2</td>\n",
       "      <td>0</td>\n",
       "      <td>0</td>\n",
       "      <td>1</td>\n",
       "    </tr>\n",
       "    <tr>\n",
       "      <th>4</th>\n",
       "      <td>2007-05-29</td>\n",
       "      <td>T046</td>\n",
       "      <td>CULEX RESTUANS</td>\n",
       "      <td>41.891118</td>\n",
       "      <td>-87.654491</td>\n",
       "      <td>8</td>\n",
       "      <td>1</td>\n",
       "      <td>0</td>\n",
       "      <td>0</td>\n",
       "      <td>1</td>\n",
       "    </tr>\n",
       "  </tbody>\n",
       "</table>\n",
       "</div>"
      ],
      "text/plain": [
       "         Date  Trap                 Species   Latitude  Longitude  \\\n",
       "0  2007-05-29  T002  CULEX PIPIENS/RESTUANS  41.954690 -87.800991   \n",
       "1  2007-05-29  T007          CULEX RESTUANS  41.994991 -87.769279   \n",
       "2  2007-05-29  T015  CULEX PIPIENS/RESTUANS  41.974089 -87.824812   \n",
       "3  2007-05-29  T045          CULEX RESTUANS  41.921600 -87.666455   \n",
       "4  2007-05-29  T046          CULEX RESTUANS  41.891118 -87.654491   \n",
       "\n",
       "   AddressAccuracy  NumMosquitos  WnvPresent  CULEX PIPIENS  CULEX RESTUANS  \n",
       "0                9             2           0              1               1  \n",
       "1                9             1           0              0               1  \n",
       "2                8             5           0              1               1  \n",
       "3                8             2           0              0               1  \n",
       "4                8             1           0              0               1  "
      ]
     },
     "execution_count": 17,
     "metadata": {},
     "output_type": "execute_result"
    }
   ],
   "source": [
    "train_lite.head()"
   ]
  },
  {
   "cell_type": "markdown",
   "metadata": {},
   "source": [
    "Finally, we drop redundant features."
   ]
  },
  {
   "cell_type": "code",
   "execution_count": 18,
   "metadata": {},
   "outputs": [],
   "source": [
    "train_lite = train_lite[['Date', 'CULEX PIPIENS', 'CULEX RESTUANS', 'Latitude', 'Longitude',\n",
    "                         'NumMosquitos', 'WnvPresent']]"
   ]
  },
  {
   "cell_type": "code",
   "execution_count": 19,
   "metadata": {},
   "outputs": [
    {
     "data": {
      "text/html": [
       "<div>\n",
       "<style scoped>\n",
       "    .dataframe tbody tr th:only-of-type {\n",
       "        vertical-align: middle;\n",
       "    }\n",
       "\n",
       "    .dataframe tbody tr th {\n",
       "        vertical-align: top;\n",
       "    }\n",
       "\n",
       "    .dataframe thead th {\n",
       "        text-align: right;\n",
       "    }\n",
       "</style>\n",
       "<table border=\"1\" class=\"dataframe\">\n",
       "  <thead>\n",
       "    <tr style=\"text-align: right;\">\n",
       "      <th></th>\n",
       "      <th>Date</th>\n",
       "      <th>CULEX PIPIENS</th>\n",
       "      <th>CULEX RESTUANS</th>\n",
       "      <th>Latitude</th>\n",
       "      <th>Longitude</th>\n",
       "      <th>NumMosquitos</th>\n",
       "      <th>WnvPresent</th>\n",
       "    </tr>\n",
       "  </thead>\n",
       "  <tbody>\n",
       "    <tr>\n",
       "      <th>0</th>\n",
       "      <td>2007-05-29</td>\n",
       "      <td>1</td>\n",
       "      <td>1</td>\n",
       "      <td>41.954690</td>\n",
       "      <td>-87.800991</td>\n",
       "      <td>2</td>\n",
       "      <td>0</td>\n",
       "    </tr>\n",
       "    <tr>\n",
       "      <th>1</th>\n",
       "      <td>2007-05-29</td>\n",
       "      <td>0</td>\n",
       "      <td>1</td>\n",
       "      <td>41.994991</td>\n",
       "      <td>-87.769279</td>\n",
       "      <td>1</td>\n",
       "      <td>0</td>\n",
       "    </tr>\n",
       "    <tr>\n",
       "      <th>2</th>\n",
       "      <td>2007-05-29</td>\n",
       "      <td>1</td>\n",
       "      <td>1</td>\n",
       "      <td>41.974089</td>\n",
       "      <td>-87.824812</td>\n",
       "      <td>5</td>\n",
       "      <td>0</td>\n",
       "    </tr>\n",
       "    <tr>\n",
       "      <th>3</th>\n",
       "      <td>2007-05-29</td>\n",
       "      <td>0</td>\n",
       "      <td>1</td>\n",
       "      <td>41.921600</td>\n",
       "      <td>-87.666455</td>\n",
       "      <td>2</td>\n",
       "      <td>0</td>\n",
       "    </tr>\n",
       "    <tr>\n",
       "      <th>4</th>\n",
       "      <td>2007-05-29</td>\n",
       "      <td>0</td>\n",
       "      <td>1</td>\n",
       "      <td>41.891118</td>\n",
       "      <td>-87.654491</td>\n",
       "      <td>1</td>\n",
       "      <td>0</td>\n",
       "    </tr>\n",
       "  </tbody>\n",
       "</table>\n",
       "</div>"
      ],
      "text/plain": [
       "         Date  CULEX PIPIENS  CULEX RESTUANS   Latitude  Longitude  \\\n",
       "0  2007-05-29              1               1  41.954690 -87.800991   \n",
       "1  2007-05-29              0               1  41.994991 -87.769279   \n",
       "2  2007-05-29              1               1  41.974089 -87.824812   \n",
       "3  2007-05-29              0               1  41.921600 -87.666455   \n",
       "4  2007-05-29              0               1  41.891118 -87.654491   \n",
       "\n",
       "   NumMosquitos  WnvPresent  \n",
       "0             2           0  \n",
       "1             1           0  \n",
       "2             5           0  \n",
       "3             2           0  \n",
       "4             1           0  "
      ]
     },
     "execution_count": 19,
     "metadata": {},
     "output_type": "execute_result"
    }
   ],
   "source": [
    "train_lite.head()"
   ]
  },
  {
   "cell_type": "markdown",
   "metadata": {},
   "source": [
    "### Adding spray effects"
   ]
  },
  {
   "cell_type": "markdown",
   "metadata": {},
   "source": [
    "Spraying effectiveness decreases with the inverse square law. We will sum the effects of sprays which are up to 400 meters away, and will only consider a spray's effect for up to 3 days."
   ]
  },
  {
   "cell_type": "code",
   "execution_count": 20,
   "metadata": {},
   "outputs": [
    {
     "data": {
      "text/html": [
       "<div>\n",
       "<style scoped>\n",
       "    .dataframe tbody tr th:only-of-type {\n",
       "        vertical-align: middle;\n",
       "    }\n",
       "\n",
       "    .dataframe tbody tr th {\n",
       "        vertical-align: top;\n",
       "    }\n",
       "\n",
       "    .dataframe thead th {\n",
       "        text-align: right;\n",
       "    }\n",
       "</style>\n",
       "<table border=\"1\" class=\"dataframe\">\n",
       "  <thead>\n",
       "    <tr style=\"text-align: right;\">\n",
       "      <th></th>\n",
       "      <th>Date</th>\n",
       "      <th>Time</th>\n",
       "      <th>Latitude</th>\n",
       "      <th>Longitude</th>\n",
       "    </tr>\n",
       "  </thead>\n",
       "  <tbody>\n",
       "    <tr>\n",
       "      <th>0</th>\n",
       "      <td>2011-08-29</td>\n",
       "      <td>6:56:58 PM</td>\n",
       "      <td>42.391623</td>\n",
       "      <td>-88.089163</td>\n",
       "    </tr>\n",
       "    <tr>\n",
       "      <th>1</th>\n",
       "      <td>2011-08-29</td>\n",
       "      <td>6:57:08 PM</td>\n",
       "      <td>42.391348</td>\n",
       "      <td>-88.089163</td>\n",
       "    </tr>\n",
       "    <tr>\n",
       "      <th>2</th>\n",
       "      <td>2011-08-29</td>\n",
       "      <td>6:57:18 PM</td>\n",
       "      <td>42.391022</td>\n",
       "      <td>-88.089157</td>\n",
       "    </tr>\n",
       "    <tr>\n",
       "      <th>3</th>\n",
       "      <td>2011-08-29</td>\n",
       "      <td>6:57:28 PM</td>\n",
       "      <td>42.390637</td>\n",
       "      <td>-88.089158</td>\n",
       "    </tr>\n",
       "    <tr>\n",
       "      <th>4</th>\n",
       "      <td>2011-08-29</td>\n",
       "      <td>6:57:38 PM</td>\n",
       "      <td>42.390410</td>\n",
       "      <td>-88.088858</td>\n",
       "    </tr>\n",
       "  </tbody>\n",
       "</table>\n",
       "</div>"
      ],
      "text/plain": [
       "         Date        Time   Latitude  Longitude\n",
       "0  2011-08-29  6:56:58 PM  42.391623 -88.089163\n",
       "1  2011-08-29  6:57:08 PM  42.391348 -88.089163\n",
       "2  2011-08-29  6:57:18 PM  42.391022 -88.089157\n",
       "3  2011-08-29  6:57:28 PM  42.390637 -88.089158\n",
       "4  2011-08-29  6:57:38 PM  42.390410 -88.088858"
      ]
     },
     "execution_count": 20,
     "metadata": {},
     "output_type": "execute_result"
    }
   ],
   "source": [
    "spray.head()"
   ]
  },
  {
   "cell_type": "code",
   "execution_count": 21,
   "metadata": {},
   "outputs": [],
   "source": [
    "spray['Date'] = pd.to_datetime(spray['Date'])\n",
    "train_lite['Date'] = pd.to_datetime(train_lite['Date'])"
   ]
  },
  {
   "cell_type": "code",
   "execution_count": 22,
   "metadata": {},
   "outputs": [],
   "source": [
    "train_lite['Date-1'] = pd.DatetimeIndex(train_lite['Date']) - pd.DateOffset(1)\n",
    "train_lite['Date-2'] = pd.DatetimeIndex(train_lite['Date']) - pd.DateOffset(2)\n",
    "train_lite['Date-3'] = pd.DatetimeIndex(train_lite['Date']) - pd.DateOffset(3)"
   ]
  },
  {
   "cell_type": "code",
   "execution_count": 23,
   "metadata": {},
   "outputs": [
    {
     "data": {
      "text/html": [
       "<div>\n",
       "<style scoped>\n",
       "    .dataframe tbody tr th:only-of-type {\n",
       "        vertical-align: middle;\n",
       "    }\n",
       "\n",
       "    .dataframe tbody tr th {\n",
       "        vertical-align: top;\n",
       "    }\n",
       "\n",
       "    .dataframe thead th {\n",
       "        text-align: right;\n",
       "    }\n",
       "</style>\n",
       "<table border=\"1\" class=\"dataframe\">\n",
       "  <thead>\n",
       "    <tr style=\"text-align: right;\">\n",
       "      <th></th>\n",
       "      <th>Date</th>\n",
       "      <th>CULEX PIPIENS</th>\n",
       "      <th>CULEX RESTUANS</th>\n",
       "      <th>Latitude</th>\n",
       "      <th>Longitude</th>\n",
       "      <th>NumMosquitos</th>\n",
       "      <th>WnvPresent</th>\n",
       "      <th>Date-1</th>\n",
       "      <th>Date-2</th>\n",
       "      <th>Date-3</th>\n",
       "    </tr>\n",
       "  </thead>\n",
       "  <tbody>\n",
       "    <tr>\n",
       "      <th>0</th>\n",
       "      <td>2007-05-29</td>\n",
       "      <td>1</td>\n",
       "      <td>1</td>\n",
       "      <td>41.954690</td>\n",
       "      <td>-87.800991</td>\n",
       "      <td>2</td>\n",
       "      <td>0</td>\n",
       "      <td>2007-05-28</td>\n",
       "      <td>2007-05-27</td>\n",
       "      <td>2007-05-26</td>\n",
       "    </tr>\n",
       "    <tr>\n",
       "      <th>1</th>\n",
       "      <td>2007-05-29</td>\n",
       "      <td>0</td>\n",
       "      <td>1</td>\n",
       "      <td>41.994991</td>\n",
       "      <td>-87.769279</td>\n",
       "      <td>1</td>\n",
       "      <td>0</td>\n",
       "      <td>2007-05-28</td>\n",
       "      <td>2007-05-27</td>\n",
       "      <td>2007-05-26</td>\n",
       "    </tr>\n",
       "    <tr>\n",
       "      <th>2</th>\n",
       "      <td>2007-05-29</td>\n",
       "      <td>1</td>\n",
       "      <td>1</td>\n",
       "      <td>41.974089</td>\n",
       "      <td>-87.824812</td>\n",
       "      <td>5</td>\n",
       "      <td>0</td>\n",
       "      <td>2007-05-28</td>\n",
       "      <td>2007-05-27</td>\n",
       "      <td>2007-05-26</td>\n",
       "    </tr>\n",
       "    <tr>\n",
       "      <th>3</th>\n",
       "      <td>2007-05-29</td>\n",
       "      <td>0</td>\n",
       "      <td>1</td>\n",
       "      <td>41.921600</td>\n",
       "      <td>-87.666455</td>\n",
       "      <td>2</td>\n",
       "      <td>0</td>\n",
       "      <td>2007-05-28</td>\n",
       "      <td>2007-05-27</td>\n",
       "      <td>2007-05-26</td>\n",
       "    </tr>\n",
       "    <tr>\n",
       "      <th>4</th>\n",
       "      <td>2007-05-29</td>\n",
       "      <td>0</td>\n",
       "      <td>1</td>\n",
       "      <td>41.891118</td>\n",
       "      <td>-87.654491</td>\n",
       "      <td>1</td>\n",
       "      <td>0</td>\n",
       "      <td>2007-05-28</td>\n",
       "      <td>2007-05-27</td>\n",
       "      <td>2007-05-26</td>\n",
       "    </tr>\n",
       "  </tbody>\n",
       "</table>\n",
       "</div>"
      ],
      "text/plain": [
       "        Date  CULEX PIPIENS  CULEX RESTUANS   Latitude  Longitude  \\\n",
       "0 2007-05-29              1               1  41.954690 -87.800991   \n",
       "1 2007-05-29              0               1  41.994991 -87.769279   \n",
       "2 2007-05-29              1               1  41.974089 -87.824812   \n",
       "3 2007-05-29              0               1  41.921600 -87.666455   \n",
       "4 2007-05-29              0               1  41.891118 -87.654491   \n",
       "\n",
       "   NumMosquitos  WnvPresent     Date-1     Date-2     Date-3  \n",
       "0             2           0 2007-05-28 2007-05-27 2007-05-26  \n",
       "1             1           0 2007-05-28 2007-05-27 2007-05-26  \n",
       "2             5           0 2007-05-28 2007-05-27 2007-05-26  \n",
       "3             2           0 2007-05-28 2007-05-27 2007-05-26  \n",
       "4             1           0 2007-05-28 2007-05-27 2007-05-26  "
      ]
     },
     "execution_count": 23,
     "metadata": {},
     "output_type": "execute_result"
    }
   ],
   "source": [
    "train_lite.head()"
   ]
  },
  {
   "cell_type": "code",
   "execution_count": 24,
   "metadata": {},
   "outputs": [],
   "source": [
    "from geopy.distance import geodesic"
   ]
  },
  {
   "cell_type": "code",
   "execution_count": 25,
   "metadata": {},
   "outputs": [
    {
     "data": {
      "text/plain": [
       "415.09589763727826"
      ]
     },
     "execution_count": 25,
     "metadata": {},
     "output_type": "execute_result"
    }
   ],
   "source": [
    "# Distance in meters from the center of Chicago to 0.005 degrees West\n",
    "geodesic((41.87, -87.62), (41.87, -87.625)).m"
   ]
  },
  {
   "cell_type": "code",
   "execution_count": 26,
   "metadata": {},
   "outputs": [],
   "source": [
    "train_lite['SprayPowerDay0'] = 0 # sprays on the day of sample collection\n",
    "train_lite['SprayPowerDay1'] = 0 # sprays on the day before sample collection\n",
    "train_lite['SprayPowerDay2'] = 0 # sprays two days before sample collection\n",
    "train_lite['SprayPowerDay3'] = 0 # sprays three days before sample collection"
   ]
  },
  {
   "cell_type": "code",
   "execution_count": 27,
   "metadata": {},
   "outputs": [
    {
     "data": {
      "text/html": [
       "<div>\n",
       "<style scoped>\n",
       "    .dataframe tbody tr th:only-of-type {\n",
       "        vertical-align: middle;\n",
       "    }\n",
       "\n",
       "    .dataframe tbody tr th {\n",
       "        vertical-align: top;\n",
       "    }\n",
       "\n",
       "    .dataframe thead th {\n",
       "        text-align: right;\n",
       "    }\n",
       "</style>\n",
       "<table border=\"1\" class=\"dataframe\">\n",
       "  <thead>\n",
       "    <tr style=\"text-align: right;\">\n",
       "      <th></th>\n",
       "      <th>Date</th>\n",
       "      <th>CULEX PIPIENS</th>\n",
       "      <th>CULEX RESTUANS</th>\n",
       "      <th>Latitude</th>\n",
       "      <th>Longitude</th>\n",
       "      <th>NumMosquitos</th>\n",
       "      <th>WnvPresent</th>\n",
       "      <th>Date-1</th>\n",
       "      <th>Date-2</th>\n",
       "      <th>Date-3</th>\n",
       "      <th>SprayPowerDay0</th>\n",
       "      <th>SprayPowerDay1</th>\n",
       "      <th>SprayPowerDay2</th>\n",
       "      <th>SprayPowerDay3</th>\n",
       "    </tr>\n",
       "  </thead>\n",
       "  <tbody>\n",
       "    <tr>\n",
       "      <th>0</th>\n",
       "      <td>2007-05-29</td>\n",
       "      <td>1</td>\n",
       "      <td>1</td>\n",
       "      <td>41.954690</td>\n",
       "      <td>-87.800991</td>\n",
       "      <td>2</td>\n",
       "      <td>0</td>\n",
       "      <td>2007-05-28</td>\n",
       "      <td>2007-05-27</td>\n",
       "      <td>2007-05-26</td>\n",
       "      <td>0</td>\n",
       "      <td>0</td>\n",
       "      <td>0</td>\n",
       "      <td>0</td>\n",
       "    </tr>\n",
       "    <tr>\n",
       "      <th>1</th>\n",
       "      <td>2007-05-29</td>\n",
       "      <td>0</td>\n",
       "      <td>1</td>\n",
       "      <td>41.994991</td>\n",
       "      <td>-87.769279</td>\n",
       "      <td>1</td>\n",
       "      <td>0</td>\n",
       "      <td>2007-05-28</td>\n",
       "      <td>2007-05-27</td>\n",
       "      <td>2007-05-26</td>\n",
       "      <td>0</td>\n",
       "      <td>0</td>\n",
       "      <td>0</td>\n",
       "      <td>0</td>\n",
       "    </tr>\n",
       "    <tr>\n",
       "      <th>2</th>\n",
       "      <td>2007-05-29</td>\n",
       "      <td>1</td>\n",
       "      <td>1</td>\n",
       "      <td>41.974089</td>\n",
       "      <td>-87.824812</td>\n",
       "      <td>5</td>\n",
       "      <td>0</td>\n",
       "      <td>2007-05-28</td>\n",
       "      <td>2007-05-27</td>\n",
       "      <td>2007-05-26</td>\n",
       "      <td>0</td>\n",
       "      <td>0</td>\n",
       "      <td>0</td>\n",
       "      <td>0</td>\n",
       "    </tr>\n",
       "    <tr>\n",
       "      <th>3</th>\n",
       "      <td>2007-05-29</td>\n",
       "      <td>0</td>\n",
       "      <td>1</td>\n",
       "      <td>41.921600</td>\n",
       "      <td>-87.666455</td>\n",
       "      <td>2</td>\n",
       "      <td>0</td>\n",
       "      <td>2007-05-28</td>\n",
       "      <td>2007-05-27</td>\n",
       "      <td>2007-05-26</td>\n",
       "      <td>0</td>\n",
       "      <td>0</td>\n",
       "      <td>0</td>\n",
       "      <td>0</td>\n",
       "    </tr>\n",
       "    <tr>\n",
       "      <th>4</th>\n",
       "      <td>2007-05-29</td>\n",
       "      <td>0</td>\n",
       "      <td>1</td>\n",
       "      <td>41.891118</td>\n",
       "      <td>-87.654491</td>\n",
       "      <td>1</td>\n",
       "      <td>0</td>\n",
       "      <td>2007-05-28</td>\n",
       "      <td>2007-05-27</td>\n",
       "      <td>2007-05-26</td>\n",
       "      <td>0</td>\n",
       "      <td>0</td>\n",
       "      <td>0</td>\n",
       "      <td>0</td>\n",
       "    </tr>\n",
       "  </tbody>\n",
       "</table>\n",
       "</div>"
      ],
      "text/plain": [
       "        Date  CULEX PIPIENS  CULEX RESTUANS   Latitude  Longitude  \\\n",
       "0 2007-05-29              1               1  41.954690 -87.800991   \n",
       "1 2007-05-29              0               1  41.994991 -87.769279   \n",
       "2 2007-05-29              1               1  41.974089 -87.824812   \n",
       "3 2007-05-29              0               1  41.921600 -87.666455   \n",
       "4 2007-05-29              0               1  41.891118 -87.654491   \n",
       "\n",
       "   NumMosquitos  WnvPresent     Date-1     Date-2     Date-3  SprayPowerDay0  \\\n",
       "0             2           0 2007-05-28 2007-05-27 2007-05-26               0   \n",
       "1             1           0 2007-05-28 2007-05-27 2007-05-26               0   \n",
       "2             5           0 2007-05-28 2007-05-27 2007-05-26               0   \n",
       "3             2           0 2007-05-28 2007-05-27 2007-05-26               0   \n",
       "4             1           0 2007-05-28 2007-05-27 2007-05-26               0   \n",
       "\n",
       "   SprayPowerDay1  SprayPowerDay2  SprayPowerDay3  \n",
       "0               0               0               0  \n",
       "1               0               0               0  \n",
       "2               0               0               0  \n",
       "3               0               0               0  \n",
       "4               0               0               0  "
      ]
     },
     "execution_count": 27,
     "metadata": {},
     "output_type": "execute_result"
    }
   ],
   "source": [
    "train_lite.head()"
   ]
  },
  {
   "cell_type": "code",
   "execution_count": 28,
   "metadata": {},
   "outputs": [],
   "source": [
    "# calculating spray power for the day of the sample collection\n",
    "for i in range(train_lite.shape[0]):\n",
    "    day = train_lite.loc[i, 'Date']\n",
    "    lat = train_lite.loc[i, 'Latitude']\n",
    "    long = train_lite.loc[i, 'Longitude']\n",
    "    \n",
    "    # create a df for nearby sprays on the same day\n",
    "    near_sprays_today = spray[\n",
    "        (spray['Date'] == day)\n",
    "        # shortcut to reduce comparisons: 0.005 degrees is >= 415 m in Chicago\n",
    "        & (abs(spray['Latitude'] - lat) < 0.005) \n",
    "        & (abs(spray['Longitude'] - long) < 0.005)\n",
    "    ]\n",
    "    spray_power = 0\n",
    "    for j in range(near_sprays_today.shape[0]):\n",
    "        distance = geodesic(\n",
    "            (near_sprays_today['Latitude'].iloc[j], near_sprays_today['Longitude'].iloc[j]), \n",
    "            (lat, long)\n",
    "        ).m\n",
    "        if distance <= 400:\n",
    "            spray_power += 1/(distance ** 2)\n",
    "    train_lite.loc[i, 'SprayPowerDay0'] = spray_power"
   ]
  },
  {
   "cell_type": "code",
   "execution_count": 29,
   "metadata": {},
   "outputs": [],
   "source": [
    "# calculating spray power for the day before the sample collection\n",
    "for i in range(train_lite.shape[0]):\n",
    "    day = train_lite.loc[i, 'Date-1']\n",
    "    lat = train_lite.loc[i, 'Latitude']\n",
    "    long = train_lite.loc[i, 'Longitude']\n",
    "    \n",
    "    # create a df for nearby sprays on the same day\n",
    "    near_sprays_today = spray[\n",
    "        (spray['Date'] == day)\n",
    "        # shortcut to reduce comparisons: 0.005 degrees is >= 415 m in Chicago\n",
    "        & (abs(spray['Latitude'] - lat) < 0.005) \n",
    "        & (abs(spray['Longitude'] - long) < 0.005)\n",
    "    ]\n",
    "    spray_power = 0\n",
    "    for j in range(near_sprays_today.shape[0]):\n",
    "        distance = geodesic(\n",
    "            (near_sprays_today['Latitude'].iloc[j], near_sprays_today['Longitude'].iloc[j]), \n",
    "            (lat, long)\n",
    "        ).m\n",
    "        if distance <= 400:\n",
    "            spray_power += 1/(distance ** 2)\n",
    "    train_lite.loc[i, 'SprayPowerDay1'] = spray_power"
   ]
  },
  {
   "cell_type": "code",
   "execution_count": 30,
   "metadata": {},
   "outputs": [],
   "source": [
    "# calculating spray power for two days before the sample collection\n",
    "for i in range(train_lite.shape[0]):\n",
    "    day = train_lite.loc[i, 'Date-2']\n",
    "    lat = train_lite.loc[i, 'Latitude']\n",
    "    long = train_lite.loc[i, 'Longitude']\n",
    "    \n",
    "    # create a df for nearby sprays on the same day\n",
    "    near_sprays_today = spray[\n",
    "        (spray['Date'] == day)\n",
    "        # shortcut to reduce comparisons: 0.005 degrees is >= 415 m in Chicago\n",
    "        & (abs(spray['Latitude'] - lat) < 0.005) \n",
    "        & (abs(spray['Longitude'] - long) < 0.005)\n",
    "    ]\n",
    "    spray_power = 0\n",
    "    for j in range(near_sprays_today.shape[0]):\n",
    "        distance = geodesic(\n",
    "            (near_sprays_today['Latitude'].iloc[j], near_sprays_today['Longitude'].iloc[j]), \n",
    "            (lat, long)\n",
    "        ).m\n",
    "        if distance <= 400:\n",
    "            spray_power += 1/(distance ** 2)\n",
    "    train_lite.loc[i, 'SprayPowerDay2'] = spray_power"
   ]
  },
  {
   "cell_type": "code",
   "execution_count": 31,
   "metadata": {},
   "outputs": [],
   "source": [
    "# calculating spray power for three days before the sample collection\n",
    "for i in range(train_lite.shape[0]):\n",
    "    day = train_lite.loc[i, 'Date-3']\n",
    "    lat = train_lite.loc[i, 'Latitude']\n",
    "    long = train_lite.loc[i, 'Longitude']\n",
    "    \n",
    "    # create a df for nearby sprays on the same day\n",
    "    near_sprays_today = spray[\n",
    "        (spray['Date'] == day)\n",
    "        # shortcut to reduce comparisons: 0.005 degrees is >= 415 m in Chicago\n",
    "        & (abs(spray['Latitude'] - lat) < 0.005) \n",
    "        & (abs(spray['Longitude'] - long) < 0.005)\n",
    "    ]\n",
    "    spray_power = 0\n",
    "    for j in range(near_sprays_today.shape[0]):\n",
    "        distance = geodesic(\n",
    "            (near_sprays_today['Latitude'].iloc[j], near_sprays_today['Longitude'].iloc[j]), \n",
    "            (lat, long)\n",
    "        ).m\n",
    "        if distance <= 400:\n",
    "            spray_power += 1/(distance ** 2)\n",
    "    train_lite.loc[i, 'SprayPowerDay3'] = spray_power"
   ]
  },
  {
   "cell_type": "code",
   "execution_count": 32,
   "metadata": {},
   "outputs": [
    {
     "data": {
      "text/html": [
       "<div>\n",
       "<style scoped>\n",
       "    .dataframe tbody tr th:only-of-type {\n",
       "        vertical-align: middle;\n",
       "    }\n",
       "\n",
       "    .dataframe tbody tr th {\n",
       "        vertical-align: top;\n",
       "    }\n",
       "\n",
       "    .dataframe thead th {\n",
       "        text-align: right;\n",
       "    }\n",
       "</style>\n",
       "<table border=\"1\" class=\"dataframe\">\n",
       "  <thead>\n",
       "    <tr style=\"text-align: right;\">\n",
       "      <th></th>\n",
       "      <th>Date</th>\n",
       "      <th>CULEX PIPIENS</th>\n",
       "      <th>CULEX RESTUANS</th>\n",
       "      <th>Latitude</th>\n",
       "      <th>Longitude</th>\n",
       "      <th>NumMosquitos</th>\n",
       "      <th>WnvPresent</th>\n",
       "      <th>Date-1</th>\n",
       "      <th>Date-2</th>\n",
       "      <th>Date-3</th>\n",
       "      <th>SprayPowerDay0</th>\n",
       "      <th>SprayPowerDay1</th>\n",
       "      <th>SprayPowerDay2</th>\n",
       "      <th>SprayPowerDay3</th>\n",
       "    </tr>\n",
       "  </thead>\n",
       "  <tbody>\n",
       "    <tr>\n",
       "      <th>0</th>\n",
       "      <td>2007-05-29</td>\n",
       "      <td>1</td>\n",
       "      <td>1</td>\n",
       "      <td>41.954690</td>\n",
       "      <td>-87.800991</td>\n",
       "      <td>2</td>\n",
       "      <td>0</td>\n",
       "      <td>2007-05-28</td>\n",
       "      <td>2007-05-27</td>\n",
       "      <td>2007-05-26</td>\n",
       "      <td>0.0</td>\n",
       "      <td>0.0</td>\n",
       "      <td>0.0</td>\n",
       "      <td>0</td>\n",
       "    </tr>\n",
       "    <tr>\n",
       "      <th>1</th>\n",
       "      <td>2007-05-29</td>\n",
       "      <td>0</td>\n",
       "      <td>1</td>\n",
       "      <td>41.994991</td>\n",
       "      <td>-87.769279</td>\n",
       "      <td>1</td>\n",
       "      <td>0</td>\n",
       "      <td>2007-05-28</td>\n",
       "      <td>2007-05-27</td>\n",
       "      <td>2007-05-26</td>\n",
       "      <td>0.0</td>\n",
       "      <td>0.0</td>\n",
       "      <td>0.0</td>\n",
       "      <td>0</td>\n",
       "    </tr>\n",
       "    <tr>\n",
       "      <th>2</th>\n",
       "      <td>2007-05-29</td>\n",
       "      <td>1</td>\n",
       "      <td>1</td>\n",
       "      <td>41.974089</td>\n",
       "      <td>-87.824812</td>\n",
       "      <td>5</td>\n",
       "      <td>0</td>\n",
       "      <td>2007-05-28</td>\n",
       "      <td>2007-05-27</td>\n",
       "      <td>2007-05-26</td>\n",
       "      <td>0.0</td>\n",
       "      <td>0.0</td>\n",
       "      <td>0.0</td>\n",
       "      <td>0</td>\n",
       "    </tr>\n",
       "    <tr>\n",
       "      <th>3</th>\n",
       "      <td>2007-05-29</td>\n",
       "      <td>0</td>\n",
       "      <td>1</td>\n",
       "      <td>41.921600</td>\n",
       "      <td>-87.666455</td>\n",
       "      <td>2</td>\n",
       "      <td>0</td>\n",
       "      <td>2007-05-28</td>\n",
       "      <td>2007-05-27</td>\n",
       "      <td>2007-05-26</td>\n",
       "      <td>0.0</td>\n",
       "      <td>0.0</td>\n",
       "      <td>0.0</td>\n",
       "      <td>0</td>\n",
       "    </tr>\n",
       "    <tr>\n",
       "      <th>4</th>\n",
       "      <td>2007-05-29</td>\n",
       "      <td>0</td>\n",
       "      <td>1</td>\n",
       "      <td>41.891118</td>\n",
       "      <td>-87.654491</td>\n",
       "      <td>1</td>\n",
       "      <td>0</td>\n",
       "      <td>2007-05-28</td>\n",
       "      <td>2007-05-27</td>\n",
       "      <td>2007-05-26</td>\n",
       "      <td>0.0</td>\n",
       "      <td>0.0</td>\n",
       "      <td>0.0</td>\n",
       "      <td>0</td>\n",
       "    </tr>\n",
       "  </tbody>\n",
       "</table>\n",
       "</div>"
      ],
      "text/plain": [
       "        Date  CULEX PIPIENS  CULEX RESTUANS   Latitude  Longitude  \\\n",
       "0 2007-05-29              1               1  41.954690 -87.800991   \n",
       "1 2007-05-29              0               1  41.994991 -87.769279   \n",
       "2 2007-05-29              1               1  41.974089 -87.824812   \n",
       "3 2007-05-29              0               1  41.921600 -87.666455   \n",
       "4 2007-05-29              0               1  41.891118 -87.654491   \n",
       "\n",
       "   NumMosquitos  WnvPresent     Date-1     Date-2     Date-3  SprayPowerDay0  \\\n",
       "0             2           0 2007-05-28 2007-05-27 2007-05-26             0.0   \n",
       "1             1           0 2007-05-28 2007-05-27 2007-05-26             0.0   \n",
       "2             5           0 2007-05-28 2007-05-27 2007-05-26             0.0   \n",
       "3             2           0 2007-05-28 2007-05-27 2007-05-26             0.0   \n",
       "4             1           0 2007-05-28 2007-05-27 2007-05-26             0.0   \n",
       "\n",
       "   SprayPowerDay1  SprayPowerDay2  SprayPowerDay3  \n",
       "0             0.0             0.0               0  \n",
       "1             0.0             0.0               0  \n",
       "2             0.0             0.0               0  \n",
       "3             0.0             0.0               0  \n",
       "4             0.0             0.0               0  "
      ]
     },
     "execution_count": 32,
     "metadata": {},
     "output_type": "execute_result"
    }
   ],
   "source": [
    "train_lite.head()"
   ]
  },
  {
   "cell_type": "code",
   "execution_count": 33,
   "metadata": {},
   "outputs": [],
   "source": [
    "train_lite = train_lite[['Date', 'CULEX PIPIENS', 'CULEX RESTUANS', 'Latitude', 'Longitude',\n",
    "                         'SprayPowerDay0', 'SprayPowerDay1', 'SprayPowerDay2', 'SprayPowerDay3',\n",
    "                         'NumMosquitos', 'WnvPresent']]"
   ]
  },
  {
   "cell_type": "code",
   "execution_count": 34,
   "metadata": {},
   "outputs": [
    {
     "data": {
      "text/html": [
       "<div>\n",
       "<style scoped>\n",
       "    .dataframe tbody tr th:only-of-type {\n",
       "        vertical-align: middle;\n",
       "    }\n",
       "\n",
       "    .dataframe tbody tr th {\n",
       "        vertical-align: top;\n",
       "    }\n",
       "\n",
       "    .dataframe thead th {\n",
       "        text-align: right;\n",
       "    }\n",
       "</style>\n",
       "<table border=\"1\" class=\"dataframe\">\n",
       "  <thead>\n",
       "    <tr style=\"text-align: right;\">\n",
       "      <th></th>\n",
       "      <th>Date</th>\n",
       "      <th>CULEX PIPIENS</th>\n",
       "      <th>CULEX RESTUANS</th>\n",
       "      <th>Latitude</th>\n",
       "      <th>Longitude</th>\n",
       "      <th>SprayPowerDay0</th>\n",
       "      <th>SprayPowerDay1</th>\n",
       "      <th>SprayPowerDay2</th>\n",
       "      <th>SprayPowerDay3</th>\n",
       "      <th>NumMosquitos</th>\n",
       "      <th>WnvPresent</th>\n",
       "    </tr>\n",
       "  </thead>\n",
       "  <tbody>\n",
       "    <tr>\n",
       "      <th>0</th>\n",
       "      <td>2007-05-29</td>\n",
       "      <td>1</td>\n",
       "      <td>1</td>\n",
       "      <td>41.954690</td>\n",
       "      <td>-87.800991</td>\n",
       "      <td>0.0</td>\n",
       "      <td>0.0</td>\n",
       "      <td>0.0</td>\n",
       "      <td>0</td>\n",
       "      <td>2</td>\n",
       "      <td>0</td>\n",
       "    </tr>\n",
       "    <tr>\n",
       "      <th>1</th>\n",
       "      <td>2007-05-29</td>\n",
       "      <td>0</td>\n",
       "      <td>1</td>\n",
       "      <td>41.994991</td>\n",
       "      <td>-87.769279</td>\n",
       "      <td>0.0</td>\n",
       "      <td>0.0</td>\n",
       "      <td>0.0</td>\n",
       "      <td>0</td>\n",
       "      <td>1</td>\n",
       "      <td>0</td>\n",
       "    </tr>\n",
       "    <tr>\n",
       "      <th>2</th>\n",
       "      <td>2007-05-29</td>\n",
       "      <td>1</td>\n",
       "      <td>1</td>\n",
       "      <td>41.974089</td>\n",
       "      <td>-87.824812</td>\n",
       "      <td>0.0</td>\n",
       "      <td>0.0</td>\n",
       "      <td>0.0</td>\n",
       "      <td>0</td>\n",
       "      <td>5</td>\n",
       "      <td>0</td>\n",
       "    </tr>\n",
       "    <tr>\n",
       "      <th>3</th>\n",
       "      <td>2007-05-29</td>\n",
       "      <td>0</td>\n",
       "      <td>1</td>\n",
       "      <td>41.921600</td>\n",
       "      <td>-87.666455</td>\n",
       "      <td>0.0</td>\n",
       "      <td>0.0</td>\n",
       "      <td>0.0</td>\n",
       "      <td>0</td>\n",
       "      <td>2</td>\n",
       "      <td>0</td>\n",
       "    </tr>\n",
       "    <tr>\n",
       "      <th>4</th>\n",
       "      <td>2007-05-29</td>\n",
       "      <td>0</td>\n",
       "      <td>1</td>\n",
       "      <td>41.891118</td>\n",
       "      <td>-87.654491</td>\n",
       "      <td>0.0</td>\n",
       "      <td>0.0</td>\n",
       "      <td>0.0</td>\n",
       "      <td>0</td>\n",
       "      <td>1</td>\n",
       "      <td>0</td>\n",
       "    </tr>\n",
       "  </tbody>\n",
       "</table>\n",
       "</div>"
      ],
      "text/plain": [
       "        Date  CULEX PIPIENS  CULEX RESTUANS   Latitude  Longitude  \\\n",
       "0 2007-05-29              1               1  41.954690 -87.800991   \n",
       "1 2007-05-29              0               1  41.994991 -87.769279   \n",
       "2 2007-05-29              1               1  41.974089 -87.824812   \n",
       "3 2007-05-29              0               1  41.921600 -87.666455   \n",
       "4 2007-05-29              0               1  41.891118 -87.654491   \n",
       "\n",
       "   SprayPowerDay0  SprayPowerDay1  SprayPowerDay2  SprayPowerDay3  \\\n",
       "0             0.0             0.0             0.0               0   \n",
       "1             0.0             0.0             0.0               0   \n",
       "2             0.0             0.0             0.0               0   \n",
       "3             0.0             0.0             0.0               0   \n",
       "4             0.0             0.0             0.0               0   \n",
       "\n",
       "   NumMosquitos  WnvPresent  \n",
       "0             2           0  \n",
       "1             1           0  \n",
       "2             5           0  \n",
       "3             2           0  \n",
       "4             1           0  "
      ]
     },
     "execution_count": 34,
     "metadata": {},
     "output_type": "execute_result"
    }
   ],
   "source": [
    "train_lite.head()"
   ]
  },
  {
   "cell_type": "markdown",
   "metadata": {},
   "source": [
    "### Weather transform"
   ]
  },
  {
   "cell_type": "code",
   "execution_count": 35,
   "metadata": {},
   "outputs": [],
   "source": [
    "weather['Date'] = pd.to_datetime(weather['Date'])"
   ]
  },
  {
   "cell_type": "code",
   "execution_count": 36,
   "metadata": {},
   "outputs": [],
   "source": [
    "weather_lite = pd.DataFrame([], columns=weather.columns)\n",
    "\n",
    "for i in range(int(weather.shape[0]/2)):\n",
    "    row = []\n",
    "    for col in weather_lite.columns:\n",
    "        if col in ['Station', 'Date', 'Sunrise', 'Sunset']:\n",
    "            row.append(weather[col].loc[(2*i)])\n",
    "        else:\n",
    "            try:\n",
    "                val = (float(weather[col].loc[(2*i)]) + float(weather[col].loc[(2*i+1)]))/2\n",
    "            except ValueError:\n",
    "                try:\n",
    "                    val = float(weather[col].loc[(2*i)])\n",
    "                except ValueError:\n",
    "                    try:\n",
    "                        val = float(weather[col].loc[(2*i+1)])\n",
    "                    except ValueError:\n",
    "                        val = str(weather[col].loc[(2*i)]) + ' ' + weather[col].loc[(2*i+1)]\n",
    "            row.append(val)\n",
    "    weather_lite.loc[i] = row"
   ]
  },
  {
   "cell_type": "code",
   "execution_count": 37,
   "metadata": {},
   "outputs": [],
   "source": [
    "def string_to_hours(string):\n",
    "    return int(string[0:2]) + int(string[3:4])/60\n",
    "\n",
    "weather_lite['SunshineHours'] = weather_lite['Sunset'].map(string_to_hours) - weather_lite['Sunrise'].map(string_to_hours)"
   ]
  },
  {
   "cell_type": "code",
   "execution_count": 38,
   "metadata": {},
   "outputs": [],
   "source": [
    "weather_lite = weather_lite[['Date', 'Tmax', 'Tmin', 'Tavg', 'Depart', 'DewPoint', 'WetBulb', \n",
    "                             'Heat', 'Cool', 'SunshineHours', 'Depth', 'SeaLevel', 'AvgSpeed']]"
   ]
  },
  {
   "cell_type": "code",
   "execution_count": 39,
   "metadata": {},
   "outputs": [
    {
     "data": {
      "text/plain": [
       "Date             datetime64[ns]\n",
       "Tmax                    float64\n",
       "Tmin                    float64\n",
       "Tavg                    float64\n",
       "Depart                  float64\n",
       "DewPoint                float64\n",
       "WetBulb                 float64\n",
       "Heat                    float64\n",
       "Cool                    float64\n",
       "SunshineHours           float64\n",
       "Depth                   float64\n",
       "SeaLevel                float64\n",
       "AvgSpeed                float64\n",
       "dtype: object"
      ]
     },
     "execution_count": 39,
     "metadata": {},
     "output_type": "execute_result"
    }
   ],
   "source": [
    "weather_lite.dtypes"
   ]
  },
  {
   "cell_type": "markdown",
   "metadata": {},
   "source": [
    "### Train and weather merge"
   ]
  },
  {
   "cell_type": "code",
   "execution_count": 40,
   "metadata": {},
   "outputs": [],
   "source": [
    "train_weather = pd.merge(train_lite, weather_lite, how='left', left_on='Date', right_on='Date')"
   ]
  },
  {
   "cell_type": "code",
   "execution_count": 41,
   "metadata": {},
   "outputs": [
    {
     "data": {
      "text/html": [
       "<div>\n",
       "<style scoped>\n",
       "    .dataframe tbody tr th:only-of-type {\n",
       "        vertical-align: middle;\n",
       "    }\n",
       "\n",
       "    .dataframe tbody tr th {\n",
       "        vertical-align: top;\n",
       "    }\n",
       "\n",
       "    .dataframe thead th {\n",
       "        text-align: right;\n",
       "    }\n",
       "</style>\n",
       "<table border=\"1\" class=\"dataframe\">\n",
       "  <thead>\n",
       "    <tr style=\"text-align: right;\">\n",
       "      <th></th>\n",
       "      <th>Date</th>\n",
       "      <th>CULEX PIPIENS</th>\n",
       "      <th>CULEX RESTUANS</th>\n",
       "      <th>Latitude</th>\n",
       "      <th>Longitude</th>\n",
       "      <th>SprayPowerDay0</th>\n",
       "      <th>SprayPowerDay1</th>\n",
       "      <th>SprayPowerDay2</th>\n",
       "      <th>SprayPowerDay3</th>\n",
       "      <th>NumMosquitos</th>\n",
       "      <th>WnvPresent</th>\n",
       "      <th>Tmax</th>\n",
       "      <th>Tmin</th>\n",
       "      <th>Tavg</th>\n",
       "      <th>Depart</th>\n",
       "      <th>DewPoint</th>\n",
       "      <th>WetBulb</th>\n",
       "      <th>Heat</th>\n",
       "      <th>Cool</th>\n",
       "      <th>SunshineHours</th>\n",
       "      <th>Depth</th>\n",
       "      <th>SeaLevel</th>\n",
       "      <th>AvgSpeed</th>\n",
       "    </tr>\n",
       "  </thead>\n",
       "  <tbody>\n",
       "    <tr>\n",
       "      <th>0</th>\n",
       "      <td>2007-05-29</td>\n",
       "      <td>1</td>\n",
       "      <td>1</td>\n",
       "      <td>41.954690</td>\n",
       "      <td>-87.800991</td>\n",
       "      <td>0.0</td>\n",
       "      <td>0.0</td>\n",
       "      <td>0.0</td>\n",
       "      <td>0</td>\n",
       "      <td>2</td>\n",
       "      <td>0</td>\n",
       "      <td>88.0</td>\n",
       "      <td>62.5</td>\n",
       "      <td>75.5</td>\n",
       "      <td>10.0</td>\n",
       "      <td>58.5</td>\n",
       "      <td>65.5</td>\n",
       "      <td>0.0</td>\n",
       "      <td>10.5</td>\n",
       "      <td>15.1</td>\n",
       "      <td>0.0</td>\n",
       "      <td>30.1</td>\n",
       "      <td>6.95</td>\n",
       "    </tr>\n",
       "    <tr>\n",
       "      <th>1</th>\n",
       "      <td>2007-05-29</td>\n",
       "      <td>0</td>\n",
       "      <td>1</td>\n",
       "      <td>41.994991</td>\n",
       "      <td>-87.769279</td>\n",
       "      <td>0.0</td>\n",
       "      <td>0.0</td>\n",
       "      <td>0.0</td>\n",
       "      <td>0</td>\n",
       "      <td>1</td>\n",
       "      <td>0</td>\n",
       "      <td>88.0</td>\n",
       "      <td>62.5</td>\n",
       "      <td>75.5</td>\n",
       "      <td>10.0</td>\n",
       "      <td>58.5</td>\n",
       "      <td>65.5</td>\n",
       "      <td>0.0</td>\n",
       "      <td>10.5</td>\n",
       "      <td>15.1</td>\n",
       "      <td>0.0</td>\n",
       "      <td>30.1</td>\n",
       "      <td>6.95</td>\n",
       "    </tr>\n",
       "    <tr>\n",
       "      <th>2</th>\n",
       "      <td>2007-05-29</td>\n",
       "      <td>1</td>\n",
       "      <td>1</td>\n",
       "      <td>41.974089</td>\n",
       "      <td>-87.824812</td>\n",
       "      <td>0.0</td>\n",
       "      <td>0.0</td>\n",
       "      <td>0.0</td>\n",
       "      <td>0</td>\n",
       "      <td>5</td>\n",
       "      <td>0</td>\n",
       "      <td>88.0</td>\n",
       "      <td>62.5</td>\n",
       "      <td>75.5</td>\n",
       "      <td>10.0</td>\n",
       "      <td>58.5</td>\n",
       "      <td>65.5</td>\n",
       "      <td>0.0</td>\n",
       "      <td>10.5</td>\n",
       "      <td>15.1</td>\n",
       "      <td>0.0</td>\n",
       "      <td>30.1</td>\n",
       "      <td>6.95</td>\n",
       "    </tr>\n",
       "    <tr>\n",
       "      <th>3</th>\n",
       "      <td>2007-05-29</td>\n",
       "      <td>0</td>\n",
       "      <td>1</td>\n",
       "      <td>41.921600</td>\n",
       "      <td>-87.666455</td>\n",
       "      <td>0.0</td>\n",
       "      <td>0.0</td>\n",
       "      <td>0.0</td>\n",
       "      <td>0</td>\n",
       "      <td>2</td>\n",
       "      <td>0</td>\n",
       "      <td>88.0</td>\n",
       "      <td>62.5</td>\n",
       "      <td>75.5</td>\n",
       "      <td>10.0</td>\n",
       "      <td>58.5</td>\n",
       "      <td>65.5</td>\n",
       "      <td>0.0</td>\n",
       "      <td>10.5</td>\n",
       "      <td>15.1</td>\n",
       "      <td>0.0</td>\n",
       "      <td>30.1</td>\n",
       "      <td>6.95</td>\n",
       "    </tr>\n",
       "    <tr>\n",
       "      <th>4</th>\n",
       "      <td>2007-05-29</td>\n",
       "      <td>0</td>\n",
       "      <td>1</td>\n",
       "      <td>41.891118</td>\n",
       "      <td>-87.654491</td>\n",
       "      <td>0.0</td>\n",
       "      <td>0.0</td>\n",
       "      <td>0.0</td>\n",
       "      <td>0</td>\n",
       "      <td>1</td>\n",
       "      <td>0</td>\n",
       "      <td>88.0</td>\n",
       "      <td>62.5</td>\n",
       "      <td>75.5</td>\n",
       "      <td>10.0</td>\n",
       "      <td>58.5</td>\n",
       "      <td>65.5</td>\n",
       "      <td>0.0</td>\n",
       "      <td>10.5</td>\n",
       "      <td>15.1</td>\n",
       "      <td>0.0</td>\n",
       "      <td>30.1</td>\n",
       "      <td>6.95</td>\n",
       "    </tr>\n",
       "  </tbody>\n",
       "</table>\n",
       "</div>"
      ],
      "text/plain": [
       "        Date  CULEX PIPIENS  CULEX RESTUANS   Latitude  Longitude  \\\n",
       "0 2007-05-29              1               1  41.954690 -87.800991   \n",
       "1 2007-05-29              0               1  41.994991 -87.769279   \n",
       "2 2007-05-29              1               1  41.974089 -87.824812   \n",
       "3 2007-05-29              0               1  41.921600 -87.666455   \n",
       "4 2007-05-29              0               1  41.891118 -87.654491   \n",
       "\n",
       "   SprayPowerDay0  SprayPowerDay1  SprayPowerDay2  SprayPowerDay3  \\\n",
       "0             0.0             0.0             0.0               0   \n",
       "1             0.0             0.0             0.0               0   \n",
       "2             0.0             0.0             0.0               0   \n",
       "3             0.0             0.0             0.0               0   \n",
       "4             0.0             0.0             0.0               0   \n",
       "\n",
       "   NumMosquitos  WnvPresent  Tmax  Tmin  Tavg  Depart  DewPoint  WetBulb  \\\n",
       "0             2           0  88.0  62.5  75.5    10.0      58.5     65.5   \n",
       "1             1           0  88.0  62.5  75.5    10.0      58.5     65.5   \n",
       "2             5           0  88.0  62.5  75.5    10.0      58.5     65.5   \n",
       "3             2           0  88.0  62.5  75.5    10.0      58.5     65.5   \n",
       "4             1           0  88.0  62.5  75.5    10.0      58.5     65.5   \n",
       "\n",
       "   Heat  Cool  SunshineHours  Depth  SeaLevel  AvgSpeed  \n",
       "0   0.0  10.5           15.1    0.0      30.1      6.95  \n",
       "1   0.0  10.5           15.1    0.0      30.1      6.95  \n",
       "2   0.0  10.5           15.1    0.0      30.1      6.95  \n",
       "3   0.0  10.5           15.1    0.0      30.1      6.95  \n",
       "4   0.0  10.5           15.1    0.0      30.1      6.95  "
      ]
     },
     "metadata": {},
     "output_type": "display_data"
    }
   ],
   "source": [
    "with pd.option_context('display.max_columns', None):\n",
    "    display(train_weather.head())"
   ]
  },
  {
   "cell_type": "code",
   "execution_count": 42,
   "metadata": {},
   "outputs": [],
   "source": [
    "train_weather['Date'] = pd.to_datetime(train_weather['Date'], utc=True)"
   ]
  },
  {
   "cell_type": "code",
   "execution_count": 43,
   "metadata": {},
   "outputs": [],
   "source": [
    "train_weather.to_csv('./../input/transformed_input/train_weather.csv')"
   ]
  },
  {
   "cell_type": "markdown",
   "metadata": {},
   "source": [
    "### Test transform"
   ]
  },
  {
   "cell_type": "code",
   "execution_count": 44,
   "metadata": {},
   "outputs": [
    {
     "name": "stderr",
     "output_type": "stream",
     "text": [
      "/anaconda3/lib/python3.6/site-packages/ipykernel_launcher.py:4: SettingWithCopyWarning:\n",
      "\n",
      "\n",
      "A value is trying to be set on a copy of a slice from a DataFrame.\n",
      "Try using .loc[row_indexer,col_indexer] = value instead\n",
      "\n",
      "See the caveats in the documentation: http://pandas.pydata.org/pandas-docs/stable/indexing.html#indexing-view-versus-copy\n",
      "\n",
      "/anaconda3/lib/python3.6/site-packages/ipykernel_launcher.py:7: SettingWithCopyWarning:\n",
      "\n",
      "\n",
      "A value is trying to be set on a copy of a slice from a DataFrame.\n",
      "Try using .loc[row_indexer,col_indexer] = value instead\n",
      "\n",
      "See the caveats in the documentation: http://pandas.pydata.org/pandas-docs/stable/indexing.html#indexing-view-versus-copy\n",
      "\n"
     ]
    }
   ],
   "source": [
    "test_lite = test[['Date', 'Species', 'Latitude', 'Longitude']]\n",
    "\n",
    "test_lite['CULEX PIPIENS'] = test_lite['Species'].map(\n",
    "    lambda species: 1 if species in ['CULEX PIPIENS', 'CULEX PIPIENS/RESTUANS'] else 0)\n",
    "\n",
    "test_lite['CULEX RESTUANS'] = test_lite['Species'].map(\n",
    "    lambda species: 1 if species in ['CULEX RESTUANS', 'CULEX PIPIENS/RESTUANS'] else 0)\n",
    "\n",
    "test_lite = test_lite[['Date', 'CULEX PIPIENS', 'CULEX RESTUANS', 'Latitude', 'Longitude']]"
   ]
  },
  {
   "cell_type": "code",
   "execution_count": 45,
   "metadata": {},
   "outputs": [],
   "source": [
    "test_lite['Date'] = pd.to_datetime(test_lite['Date'])"
   ]
  },
  {
   "cell_type": "code",
   "execution_count": 46,
   "metadata": {},
   "outputs": [],
   "source": [
    "test_lite['Date-1'] = pd.DatetimeIndex(test_lite['Date']) - pd.DateOffset(1)\n",
    "test_lite['Date-2'] = pd.DatetimeIndex(test_lite['Date']) - pd.DateOffset(2)\n",
    "test_lite['Date-3'] = pd.DatetimeIndex(test_lite['Date']) - pd.DateOffset(3)"
   ]
  },
  {
   "cell_type": "code",
   "execution_count": 47,
   "metadata": {},
   "outputs": [],
   "source": [
    "test_lite['SprayPowerDay0'] = 0 # sprays on the day of sample collection\n",
    "test_lite['SprayPowerDay1'] = 0 # sprays on the day before sample collection\n",
    "test_lite['SprayPowerDay2'] = 0 # sprays two days before sample collection\n",
    "test_lite['SprayPowerDay3'] = 0 # sprays three days before sample collection"
   ]
  },
  {
   "cell_type": "markdown",
   "metadata": {},
   "source": [
    "Since there is no spray data for the years in our test data, we do not need to calculate the `SprayPower` features, since they are all zero."
   ]
  },
  {
   "cell_type": "raw",
   "metadata": {},
   "source": [
    "# calculating spray power for the day of the sample collection\n",
    "for i in range(test_lite.shape[0]):\n",
    "    day = test_lite.loc[i, 'Date']\n",
    "    lat = test_lite.loc[i, 'Latitude']\n",
    "    long = test_lite.loc[i, 'Longitude']\n",
    "    \n",
    "    # create a df for nearby sprays on the same day\n",
    "    near_sprays = spray[\n",
    "        (spray['Date'] == day)\n",
    "        # shortcut to reduce comparisons: 0.005 degrees is >= 415 m in Chicago\n",
    "        & (abs(spray['Latitude'] - lat) < 0.005) \n",
    "        & (abs(spray['Longitude'] - long) < 0.005)\n",
    "    ]\n",
    "    spray_power = 0\n",
    "    for j in range(near_sprays.shape[0]):\n",
    "        distance = geodesic(\n",
    "            (near_sprays['Latitude'].iloc[j], near_sprays['Longitude'].iloc[j]), \n",
    "            (lat, long)\n",
    "        ).m\n",
    "        if distance <= 400:\n",
    "            spray_power += 1/(distance ** 2)\n",
    "    test_lite.loc[i, 'SprayPowerDay0'] = spray_power"
   ]
  },
  {
   "cell_type": "raw",
   "metadata": {},
   "source": [
    "# calculating spray power for the day before the sample collection\n",
    "for i in range(test_lite.shape[0]):\n",
    "    day = test_lite.loc[i, 'Date-1']\n",
    "    lat = test_lite.loc[i, 'Latitude']\n",
    "    long = test_lite.loc[i, 'Longitude']\n",
    "    \n",
    "    # create a df for nearby sprays on the same day\n",
    "    near_sprays = spray[\n",
    "        (spray['Date'] == day)\n",
    "        # shortcut to reduce comparisons: 0.005 degrees is >= 415 m in Chicago\n",
    "        & (abs(spray['Latitude'] - lat) < 0.005) \n",
    "        & (abs(spray['Longitude'] - long) < 0.005)\n",
    "    ]\n",
    "    spray_power = 0\n",
    "    for j in range(near_sprays.shape[0]):\n",
    "        distance = geodesic(\n",
    "            (near_sprays['Latitude'].iloc[j], near_sprays['Longitude'].iloc[j]), \n",
    "            (lat, long)\n",
    "        ).m\n",
    "        if distance <= 400:\n",
    "            spray_power += 1/(distance ** 2)\n",
    "    test_lite.loc[i, 'SprayPowerDay1'] = spray_power"
   ]
  },
  {
   "cell_type": "raw",
   "metadata": {},
   "source": [
    "# calculating spray power for two days before the sample collection\n",
    "for i in range(test_lite.shape[0]):\n",
    "    day = test_lite.loc[i, 'Date-2']\n",
    "    lat = test_lite.loc[i, 'Latitude']\n",
    "    long = test_lite.loc[i, 'Longitude']\n",
    "    \n",
    "    # create a df for nearby sprays on the same day\n",
    "    near_sprays = spray[\n",
    "        (spray['Date'] == day)\n",
    "        # shortcut to reduce comparisons: 0.005 degrees is >= 415 m in Chicago\n",
    "        & (abs(spray['Latitude'] - lat) < 0.005) \n",
    "        & (abs(spray['Longitude'] - long) < 0.005)\n",
    "    ]\n",
    "    spray_power = 0\n",
    "    for j in range(near_sprays.shape[0]):\n",
    "        distance = geodesic(\n",
    "            (near_sprays['Latitude'].iloc[j], near_sprays['Longitude'].iloc[j]), \n",
    "            (lat, long)\n",
    "        ).m\n",
    "        if distance <= 400:\n",
    "            spray_power += 1/(distance ** 2)\n",
    "    test_lite.loc[i, 'SprayPowerDay2'] = spray_power"
   ]
  },
  {
   "cell_type": "raw",
   "metadata": {},
   "source": [
    "# calculating spray power for three days before the sample collection\n",
    "for i in range(test_lite.shape[0]):\n",
    "    day = test_lite.loc[i, 'Date-3']\n",
    "    lat = test_lite.loc[i, 'Latitude']\n",
    "    long = test_lite.loc[i, 'Longitude']\n",
    "    \n",
    "    # create a df for nearby sprays on the same day\n",
    "    near_sprays = spray[\n",
    "        (spray['Date'] == day)\n",
    "        # shortcut to reduce comparisons: 0.005 degrees is >= 415 m in Chicago\n",
    "        & (abs(spray['Latitude'] - lat) < 0.005) \n",
    "        & (abs(spray['Longitude'] - long) < 0.005)\n",
    "    ]\n",
    "    spray_power = 0\n",
    "    for j in range(near_sprays.shape[0]):\n",
    "        distance = geodesic(\n",
    "            (near_sprays['Latitude'].iloc[j], near_sprays['Longitude'].iloc[j]), \n",
    "            (lat, long)\n",
    "        ).m\n",
    "        if distance <= 400:\n",
    "            spray_power += 1/(distance ** 2)\n",
    "    test_lite.loc[i, 'SprayPowerDay3'] = spray_power"
   ]
  },
  {
   "cell_type": "code",
   "execution_count": 48,
   "metadata": {},
   "outputs": [],
   "source": [
    "test_lite = test_lite[['Date', 'CULEX PIPIENS', 'CULEX RESTUANS', 'Latitude', 'Longitude',\n",
    "                       'SprayPowerDay0', 'SprayPowerDay1', 'SprayPowerDay2', 'SprayPowerDay3']]"
   ]
  },
  {
   "cell_type": "code",
   "execution_count": 49,
   "metadata": {},
   "outputs": [],
   "source": [
    "test_weather = pd.merge(test_lite, weather_lite, how='left', left_on='Date', right_on='Date')"
   ]
  },
  {
   "cell_type": "code",
   "execution_count": 50,
   "metadata": {},
   "outputs": [
    {
     "data": {
      "text/html": [
       "<div>\n",
       "<style scoped>\n",
       "    .dataframe tbody tr th:only-of-type {\n",
       "        vertical-align: middle;\n",
       "    }\n",
       "\n",
       "    .dataframe tbody tr th {\n",
       "        vertical-align: top;\n",
       "    }\n",
       "\n",
       "    .dataframe thead th {\n",
       "        text-align: right;\n",
       "    }\n",
       "</style>\n",
       "<table border=\"1\" class=\"dataframe\">\n",
       "  <thead>\n",
       "    <tr style=\"text-align: right;\">\n",
       "      <th></th>\n",
       "      <th>Date</th>\n",
       "      <th>CULEX PIPIENS</th>\n",
       "      <th>CULEX RESTUANS</th>\n",
       "      <th>Latitude</th>\n",
       "      <th>Longitude</th>\n",
       "      <th>SprayPowerDay0</th>\n",
       "      <th>SprayPowerDay1</th>\n",
       "      <th>SprayPowerDay2</th>\n",
       "      <th>SprayPowerDay3</th>\n",
       "      <th>Tmax</th>\n",
       "      <th>Tmin</th>\n",
       "      <th>Tavg</th>\n",
       "      <th>Depart</th>\n",
       "      <th>DewPoint</th>\n",
       "      <th>WetBulb</th>\n",
       "      <th>Heat</th>\n",
       "      <th>Cool</th>\n",
       "      <th>SunshineHours</th>\n",
       "      <th>Depth</th>\n",
       "      <th>SeaLevel</th>\n",
       "      <th>AvgSpeed</th>\n",
       "    </tr>\n",
       "  </thead>\n",
       "  <tbody>\n",
       "    <tr>\n",
       "      <th>0</th>\n",
       "      <td>2008-06-11</td>\n",
       "      <td>1</td>\n",
       "      <td>1</td>\n",
       "      <td>41.95469</td>\n",
       "      <td>-87.800991</td>\n",
       "      <td>0</td>\n",
       "      <td>0</td>\n",
       "      <td>0</td>\n",
       "      <td>0</td>\n",
       "      <td>86.0</td>\n",
       "      <td>63.5</td>\n",
       "      <td>75.0</td>\n",
       "      <td>7.0</td>\n",
       "      <td>55.5</td>\n",
       "      <td>64.0</td>\n",
       "      <td>0.0</td>\n",
       "      <td>10.0</td>\n",
       "      <td>15.0</td>\n",
       "      <td>0.0</td>\n",
       "      <td>29.98</td>\n",
       "      <td>10.2</td>\n",
       "    </tr>\n",
       "    <tr>\n",
       "      <th>1</th>\n",
       "      <td>2008-06-11</td>\n",
       "      <td>0</td>\n",
       "      <td>1</td>\n",
       "      <td>41.95469</td>\n",
       "      <td>-87.800991</td>\n",
       "      <td>0</td>\n",
       "      <td>0</td>\n",
       "      <td>0</td>\n",
       "      <td>0</td>\n",
       "      <td>86.0</td>\n",
       "      <td>63.5</td>\n",
       "      <td>75.0</td>\n",
       "      <td>7.0</td>\n",
       "      <td>55.5</td>\n",
       "      <td>64.0</td>\n",
       "      <td>0.0</td>\n",
       "      <td>10.0</td>\n",
       "      <td>15.0</td>\n",
       "      <td>0.0</td>\n",
       "      <td>29.98</td>\n",
       "      <td>10.2</td>\n",
       "    </tr>\n",
       "    <tr>\n",
       "      <th>2</th>\n",
       "      <td>2008-06-11</td>\n",
       "      <td>1</td>\n",
       "      <td>0</td>\n",
       "      <td>41.95469</td>\n",
       "      <td>-87.800991</td>\n",
       "      <td>0</td>\n",
       "      <td>0</td>\n",
       "      <td>0</td>\n",
       "      <td>0</td>\n",
       "      <td>86.0</td>\n",
       "      <td>63.5</td>\n",
       "      <td>75.0</td>\n",
       "      <td>7.0</td>\n",
       "      <td>55.5</td>\n",
       "      <td>64.0</td>\n",
       "      <td>0.0</td>\n",
       "      <td>10.0</td>\n",
       "      <td>15.0</td>\n",
       "      <td>0.0</td>\n",
       "      <td>29.98</td>\n",
       "      <td>10.2</td>\n",
       "    </tr>\n",
       "    <tr>\n",
       "      <th>3</th>\n",
       "      <td>2008-06-11</td>\n",
       "      <td>0</td>\n",
       "      <td>0</td>\n",
       "      <td>41.95469</td>\n",
       "      <td>-87.800991</td>\n",
       "      <td>0</td>\n",
       "      <td>0</td>\n",
       "      <td>0</td>\n",
       "      <td>0</td>\n",
       "      <td>86.0</td>\n",
       "      <td>63.5</td>\n",
       "      <td>75.0</td>\n",
       "      <td>7.0</td>\n",
       "      <td>55.5</td>\n",
       "      <td>64.0</td>\n",
       "      <td>0.0</td>\n",
       "      <td>10.0</td>\n",
       "      <td>15.0</td>\n",
       "      <td>0.0</td>\n",
       "      <td>29.98</td>\n",
       "      <td>10.2</td>\n",
       "    </tr>\n",
       "    <tr>\n",
       "      <th>4</th>\n",
       "      <td>2008-06-11</td>\n",
       "      <td>0</td>\n",
       "      <td>0</td>\n",
       "      <td>41.95469</td>\n",
       "      <td>-87.800991</td>\n",
       "      <td>0</td>\n",
       "      <td>0</td>\n",
       "      <td>0</td>\n",
       "      <td>0</td>\n",
       "      <td>86.0</td>\n",
       "      <td>63.5</td>\n",
       "      <td>75.0</td>\n",
       "      <td>7.0</td>\n",
       "      <td>55.5</td>\n",
       "      <td>64.0</td>\n",
       "      <td>0.0</td>\n",
       "      <td>10.0</td>\n",
       "      <td>15.0</td>\n",
       "      <td>0.0</td>\n",
       "      <td>29.98</td>\n",
       "      <td>10.2</td>\n",
       "    </tr>\n",
       "  </tbody>\n",
       "</table>\n",
       "</div>"
      ],
      "text/plain": [
       "        Date  CULEX PIPIENS  CULEX RESTUANS  Latitude  Longitude  \\\n",
       "0 2008-06-11              1               1  41.95469 -87.800991   \n",
       "1 2008-06-11              0               1  41.95469 -87.800991   \n",
       "2 2008-06-11              1               0  41.95469 -87.800991   \n",
       "3 2008-06-11              0               0  41.95469 -87.800991   \n",
       "4 2008-06-11              0               0  41.95469 -87.800991   \n",
       "\n",
       "   SprayPowerDay0  SprayPowerDay1  SprayPowerDay2  SprayPowerDay3  Tmax  Tmin  \\\n",
       "0               0               0               0               0  86.0  63.5   \n",
       "1               0               0               0               0  86.0  63.5   \n",
       "2               0               0               0               0  86.0  63.5   \n",
       "3               0               0               0               0  86.0  63.5   \n",
       "4               0               0               0               0  86.0  63.5   \n",
       "\n",
       "   Tavg  Depart  DewPoint  WetBulb  Heat  Cool  SunshineHours  Depth  \\\n",
       "0  75.0     7.0      55.5     64.0   0.0  10.0           15.0    0.0   \n",
       "1  75.0     7.0      55.5     64.0   0.0  10.0           15.0    0.0   \n",
       "2  75.0     7.0      55.5     64.0   0.0  10.0           15.0    0.0   \n",
       "3  75.0     7.0      55.5     64.0   0.0  10.0           15.0    0.0   \n",
       "4  75.0     7.0      55.5     64.0   0.0  10.0           15.0    0.0   \n",
       "\n",
       "   SeaLevel  AvgSpeed  \n",
       "0     29.98      10.2  \n",
       "1     29.98      10.2  \n",
       "2     29.98      10.2  \n",
       "3     29.98      10.2  \n",
       "4     29.98      10.2  "
      ]
     },
     "metadata": {},
     "output_type": "display_data"
    }
   ],
   "source": [
    "with pd.option_context('display.max_columns', None):\n",
    "    display(test_weather.head())"
   ]
  },
  {
   "cell_type": "code",
   "execution_count": 51,
   "metadata": {},
   "outputs": [],
   "source": [
    "test_weather['Date'] = pd.to_datetime(test_weather['Date'], utc=True)"
   ]
  },
  {
   "cell_type": "code",
   "execution_count": 52,
   "metadata": {},
   "outputs": [],
   "source": [
    "test_weather.to_csv('./../input/transformed_input/test_weather.csv')"
   ]
  },
  {
   "cell_type": "markdown",
   "metadata": {},
   "source": [
    "# Train test split"
   ]
  },
  {
   "cell_type": "code",
   "execution_count": 53,
   "metadata": {},
   "outputs": [],
   "source": [
    "from sklearn.model_selection import train_test_split"
   ]
  },
  {
   "cell_type": "markdown",
   "metadata": {},
   "source": [
    "We remove `NumMosquitos`, since it is not available in the test data."
   ]
  },
  {
   "cell_type": "code",
   "execution_count": 54,
   "metadata": {},
   "outputs": [],
   "source": [
    "X = train_weather.drop(columns='WnvPresent')\n",
    "y = train_weather['WnvPresent']"
   ]
  },
  {
   "cell_type": "code",
   "execution_count": 55,
   "metadata": {},
   "outputs": [],
   "source": [
    "X_train, X_test, y_train, y_test = train_test_split(X,\n",
    "                                                    y,\n",
    "                                                    test_size=0.25,\n",
    "                                                    shuffle=True,\n",
    "                                                    stratify=y,\n",
    "                                                    random_state=437708)"
   ]
  },
  {
   "cell_type": "code",
   "execution_count": 56,
   "metadata": {},
   "outputs": [
    {
     "data": {
      "text/html": [
       "<div>\n",
       "<style scoped>\n",
       "    .dataframe tbody tr th:only-of-type {\n",
       "        vertical-align: middle;\n",
       "    }\n",
       "\n",
       "    .dataframe tbody tr th {\n",
       "        vertical-align: top;\n",
       "    }\n",
       "\n",
       "    .dataframe thead th {\n",
       "        text-align: right;\n",
       "    }\n",
       "</style>\n",
       "<table border=\"1\" class=\"dataframe\">\n",
       "  <thead>\n",
       "    <tr style=\"text-align: right;\">\n",
       "      <th></th>\n",
       "      <th>Date</th>\n",
       "      <th>CULEX PIPIENS</th>\n",
       "      <th>CULEX RESTUANS</th>\n",
       "      <th>Latitude</th>\n",
       "      <th>Longitude</th>\n",
       "      <th>SprayPowerDay0</th>\n",
       "      <th>SprayPowerDay1</th>\n",
       "      <th>SprayPowerDay2</th>\n",
       "      <th>SprayPowerDay3</th>\n",
       "      <th>NumMosquitos</th>\n",
       "      <th>...</th>\n",
       "      <th>Tavg</th>\n",
       "      <th>Depart</th>\n",
       "      <th>DewPoint</th>\n",
       "      <th>WetBulb</th>\n",
       "      <th>Heat</th>\n",
       "      <th>Cool</th>\n",
       "      <th>SunshineHours</th>\n",
       "      <th>Depth</th>\n",
       "      <th>SeaLevel</th>\n",
       "      <th>AvgSpeed</th>\n",
       "    </tr>\n",
       "  </thead>\n",
       "  <tbody>\n",
       "    <tr>\n",
       "      <th>3236</th>\n",
       "      <td>2011-09-12 00:00:00+00:00</td>\n",
       "      <td>1</td>\n",
       "      <td>1</td>\n",
       "      <td>41.763733</td>\n",
       "      <td>-87.742302</td>\n",
       "      <td>0.0</td>\n",
       "      <td>0.0</td>\n",
       "      <td>0.0</td>\n",
       "      <td>0</td>\n",
       "      <td>5</td>\n",
       "      <td>...</td>\n",
       "      <td>75.0</td>\n",
       "      <td>10.0</td>\n",
       "      <td>59.0</td>\n",
       "      <td>65.0</td>\n",
       "      <td>0.0</td>\n",
       "      <td>10.0</td>\n",
       "      <td>13.016667</td>\n",
       "      <td>0.0</td>\n",
       "      <td>29.905</td>\n",
       "      <td>10.10</td>\n",
       "    </tr>\n",
       "    <tr>\n",
       "      <th>2732</th>\n",
       "      <td>2011-07-15 00:00:00+00:00</td>\n",
       "      <td>0</td>\n",
       "      <td>1</td>\n",
       "      <td>41.986921</td>\n",
       "      <td>-87.689778</td>\n",
       "      <td>0.0</td>\n",
       "      <td>0.0</td>\n",
       "      <td>0.0</td>\n",
       "      <td>0</td>\n",
       "      <td>1</td>\n",
       "      <td>...</td>\n",
       "      <td>79.0</td>\n",
       "      <td>5.0</td>\n",
       "      <td>60.0</td>\n",
       "      <td>66.5</td>\n",
       "      <td>0.0</td>\n",
       "      <td>14.0</td>\n",
       "      <td>14.950000</td>\n",
       "      <td>0.0</td>\n",
       "      <td>29.970</td>\n",
       "      <td>6.75</td>\n",
       "    </tr>\n",
       "    <tr>\n",
       "      <th>444</th>\n",
       "      <td>2007-08-01 00:00:00+00:00</td>\n",
       "      <td>1</td>\n",
       "      <td>1</td>\n",
       "      <td>41.747850</td>\n",
       "      <td>-87.702716</td>\n",
       "      <td>0.0</td>\n",
       "      <td>0.0</td>\n",
       "      <td>0.0</td>\n",
       "      <td>0</td>\n",
       "      <td>7</td>\n",
       "      <td>...</td>\n",
       "      <td>80.5</td>\n",
       "      <td>8.0</td>\n",
       "      <td>62.5</td>\n",
       "      <td>69.5</td>\n",
       "      <td>0.0</td>\n",
       "      <td>15.5</td>\n",
       "      <td>14.933333</td>\n",
       "      <td>0.0</td>\n",
       "      <td>29.990</td>\n",
       "      <td>3.90</td>\n",
       "    </tr>\n",
       "    <tr>\n",
       "      <th>448</th>\n",
       "      <td>2007-08-01 00:00:00+00:00</td>\n",
       "      <td>1</td>\n",
       "      <td>1</td>\n",
       "      <td>41.778748</td>\n",
       "      <td>-87.586427</td>\n",
       "      <td>0.0</td>\n",
       "      <td>0.0</td>\n",
       "      <td>0.0</td>\n",
       "      <td>0</td>\n",
       "      <td>12</td>\n",
       "      <td>...</td>\n",
       "      <td>80.5</td>\n",
       "      <td>8.0</td>\n",
       "      <td>62.5</td>\n",
       "      <td>69.5</td>\n",
       "      <td>0.0</td>\n",
       "      <td>15.5</td>\n",
       "      <td>14.933333</td>\n",
       "      <td>0.0</td>\n",
       "      <td>29.990</td>\n",
       "      <td>3.90</td>\n",
       "    </tr>\n",
       "    <tr>\n",
       "      <th>2603</th>\n",
       "      <td>2011-06-24 00:00:00+00:00</td>\n",
       "      <td>1</td>\n",
       "      <td>1</td>\n",
       "      <td>41.974689</td>\n",
       "      <td>-87.890615</td>\n",
       "      <td>0.0</td>\n",
       "      <td>0.0</td>\n",
       "      <td>0.0</td>\n",
       "      <td>0</td>\n",
       "      <td>130</td>\n",
       "      <td>...</td>\n",
       "      <td>64.0</td>\n",
       "      <td>-7.0</td>\n",
       "      <td>55.5</td>\n",
       "      <td>59.0</td>\n",
       "      <td>1.0</td>\n",
       "      <td>0.0</td>\n",
       "      <td>14.900000</td>\n",
       "      <td>0.0</td>\n",
       "      <td>29.760</td>\n",
       "      <td>9.15</td>\n",
       "    </tr>\n",
       "  </tbody>\n",
       "</table>\n",
       "<p>5 rows × 22 columns</p>\n",
       "</div>"
      ],
      "text/plain": [
       "                          Date  CULEX PIPIENS  CULEX RESTUANS   Latitude  \\\n",
       "3236 2011-09-12 00:00:00+00:00              1               1  41.763733   \n",
       "2732 2011-07-15 00:00:00+00:00              0               1  41.986921   \n",
       "444  2007-08-01 00:00:00+00:00              1               1  41.747850   \n",
       "448  2007-08-01 00:00:00+00:00              1               1  41.778748   \n",
       "2603 2011-06-24 00:00:00+00:00              1               1  41.974689   \n",
       "\n",
       "      Longitude  SprayPowerDay0  SprayPowerDay1  SprayPowerDay2  \\\n",
       "3236 -87.742302             0.0             0.0             0.0   \n",
       "2732 -87.689778             0.0             0.0             0.0   \n",
       "444  -87.702716             0.0             0.0             0.0   \n",
       "448  -87.586427             0.0             0.0             0.0   \n",
       "2603 -87.890615             0.0             0.0             0.0   \n",
       "\n",
       "      SprayPowerDay3  NumMosquitos    ...     Tavg  Depart  DewPoint  WetBulb  \\\n",
       "3236               0             5    ...     75.0    10.0      59.0     65.0   \n",
       "2732               0             1    ...     79.0     5.0      60.0     66.5   \n",
       "444                0             7    ...     80.5     8.0      62.5     69.5   \n",
       "448                0            12    ...     80.5     8.0      62.5     69.5   \n",
       "2603               0           130    ...     64.0    -7.0      55.5     59.0   \n",
       "\n",
       "      Heat  Cool  SunshineHours  Depth  SeaLevel  AvgSpeed  \n",
       "3236   0.0  10.0      13.016667    0.0    29.905     10.10  \n",
       "2732   0.0  14.0      14.950000    0.0    29.970      6.75  \n",
       "444    0.0  15.5      14.933333    0.0    29.990      3.90  \n",
       "448    0.0  15.5      14.933333    0.0    29.990      3.90  \n",
       "2603   1.0   0.0      14.900000    0.0    29.760      9.15  \n",
       "\n",
       "[5 rows x 22 columns]"
      ]
     },
     "execution_count": 56,
     "metadata": {},
     "output_type": "execute_result"
    }
   ],
   "source": [
    "X_train.head()"
   ]
  },
  {
   "cell_type": "code",
   "execution_count": 57,
   "metadata": {},
   "outputs": [
    {
     "name": "stderr",
     "output_type": "stream",
     "text": [
      "/anaconda3/lib/python3.6/site-packages/pandas/core/frame.py:3697: SettingWithCopyWarning:\n",
      "\n",
      "\n",
      "A value is trying to be set on a copy of a slice from a DataFrame\n",
      "\n",
      "See the caveats in the documentation: http://pandas.pydata.org/pandas-docs/stable/indexing.html#indexing-view-versus-copy\n",
      "\n"
     ]
    }
   ],
   "source": [
    "y_train_mosq = X_train['NumMosquitos']\n",
    "y_test_mosq = X_test['NumMosquitos']\n",
    "X_train.drop(columns='NumMosquitos', inplace=True)\n",
    "X_test.drop(columns='NumMosquitos', inplace=True)"
   ]
  },
  {
   "cell_type": "markdown",
   "metadata": {},
   "source": [
    "## Logistic regression"
   ]
  },
  {
   "cell_type": "code",
   "execution_count": 58,
   "metadata": {},
   "outputs": [],
   "source": [
    "from sklearn.linear_model import LogisticRegression"
   ]
  },
  {
   "cell_type": "code",
   "execution_count": 59,
   "metadata": {},
   "outputs": [],
   "source": [
    "logr = LogisticRegression()"
   ]
  },
  {
   "cell_type": "code",
   "execution_count": 60,
   "metadata": {},
   "outputs": [],
   "source": [
    "X_train_dates = X_train.copy()\n",
    "X_train_dates.loc[:, 'Year'] = X_train_dates['Date'].dt.year\n",
    "X_train_dates.loc[:, 'Month'] = X_train_dates['Date'].dt.month\n",
    "X_train_dates.loc[:, 'Day'] = X_train_dates['Date'].dt.day\n",
    "X_train_dates.drop(columns='Date', inplace=True)"
   ]
  },
  {
   "cell_type": "code",
   "execution_count": 61,
   "metadata": {},
   "outputs": [],
   "source": [
    "from sklearn.preprocessing import StandardScaler"
   ]
  },
  {
   "cell_type": "code",
   "execution_count": 62,
   "metadata": {},
   "outputs": [],
   "source": [
    "ss = StandardScaler()"
   ]
  },
  {
   "cell_type": "code",
   "execution_count": 63,
   "metadata": {},
   "outputs": [],
   "source": [
    "ss.fit(X_train_dates)\n",
    "\n",
    "X_train_dates = pd.DataFrame(ss.transform(X_train_dates), columns=X_train_dates.columns, index=X_train_dates.index)"
   ]
  },
  {
   "cell_type": "code",
   "execution_count": 64,
   "metadata": {},
   "outputs": [
    {
     "data": {
      "text/plain": [
       "LogisticRegression(C=1.0, class_weight=None, dual=False, fit_intercept=True,\n",
       "          intercept_scaling=1, max_iter=100, multi_class='ovr', n_jobs=1,\n",
       "          penalty='l2', random_state=None, solver='liblinear', tol=0.0001,\n",
       "          verbose=0, warm_start=False)"
      ]
     },
     "execution_count": 64,
     "metadata": {},
     "output_type": "execute_result"
    }
   ],
   "source": [
    "logr.fit(X_train_dates, y_train)"
   ]
  },
  {
   "cell_type": "code",
   "execution_count": 65,
   "metadata": {},
   "outputs": [
    {
     "data": {
      "text/plain": [
       "0.91709994222992486"
      ]
     },
     "execution_count": 65,
     "metadata": {},
     "output_type": "execute_result"
    }
   ],
   "source": [
    "logr.score(X_train_dates, y_train)"
   ]
  },
  {
   "cell_type": "code",
   "execution_count": 66,
   "metadata": {},
   "outputs": [
    {
     "data": {
      "text/plain": [
       "0.82355340311909409"
      ]
     },
     "execution_count": 66,
     "metadata": {},
     "output_type": "execute_result"
    }
   ],
   "source": [
    "from sklearn.metrics import roc_curve, auc\n",
    "fpr, tpr, thresholds = roc_curve(y_train, logr.predict_proba(X_train_dates)[:,1], pos_label=1)\n",
    "auc(fpr, tpr)"
   ]
  },
  {
   "cell_type": "code",
   "execution_count": 67,
   "metadata": {},
   "outputs": [],
   "source": [
    "X_test_dates = X_test.copy()\n",
    "X_test_dates.loc[:, 'Year'] = X_test_dates['Date'].dt.year\n",
    "X_test_dates.loc[:, 'Month'] = X_test_dates['Date'].dt.month\n",
    "X_test_dates.loc[:, 'Day'] = X_test_dates['Date'].dt.day\n",
    "X_test_dates.drop(columns='Date', inplace=True)"
   ]
  },
  {
   "cell_type": "code",
   "execution_count": 68,
   "metadata": {},
   "outputs": [],
   "source": [
    "X_test_dates = pd.DataFrame(ss.transform(X_test_dates), columns=X_test_dates.columns, index=X_test_dates.index)"
   ]
  },
  {
   "cell_type": "code",
   "execution_count": 69,
   "metadata": {},
   "outputs": [
    {
     "data": {
      "text/plain": [
       "0.78795486767485823"
      ]
     },
     "execution_count": 69,
     "metadata": {},
     "output_type": "execute_result"
    }
   ],
   "source": [
    "from sklearn.metrics import roc_curve, auc\n",
    "fpr, tpr, thresholds = roc_curve(y_test, logr.predict_proba(X_test_dates)[:,1], pos_label=1)\n",
    "auc(fpr, tpr)"
   ]
  },
  {
   "cell_type": "code",
   "execution_count": 70,
   "metadata": {},
   "outputs": [
    {
     "data": {
      "text/plain": [
       "0.91507798960138653"
      ]
     },
     "execution_count": 70,
     "metadata": {},
     "output_type": "execute_result"
    }
   ],
   "source": [
    "logr.score(X_test_dates, y_test)"
   ]
  },
  {
   "cell_type": "code",
   "execution_count": 71,
   "metadata": {},
   "outputs": [
    {
     "data": {
      "text/plain": [
       "[('CULEX PIPIENS', 0.93253698783781591),\n",
       " ('CULEX RESTUANS', 0.18163493280941945),\n",
       " ('Latitude', -0.12736645590731782),\n",
       " ('Longitude', -0.49519244779323723),\n",
       " ('SprayPowerDay0', 0.020864925792770977),\n",
       " ('SprayPowerDay1', 0.12895426508987423),\n",
       " ('SprayPowerDay2', 0.0077373644470478172),\n",
       " ('SprayPowerDay3', 0.0),\n",
       " ('Tmax', 0.72916134454385417),\n",
       " ('Tmin', 0.79949239169691944),\n",
       " ('Tavg', 0.6150529050025495),\n",
       " ('Depart', -2.3398271561805313),\n",
       " ('DewPoint', 0.40248831420303521),\n",
       " ('WetBulb', -0.18453855556380724),\n",
       " ('Heat', -0.26080655215697768),\n",
       " ('Cool', 0.69207115401920982),\n",
       " ('SunshineHours', -0.52763700913251232),\n",
       " ('Depth', 0.0),\n",
       " ('SeaLevel', 0.042882562685262526),\n",
       " ('AvgSpeed', 0.014169289725779178),\n",
       " ('Year', 0.31458288137789758),\n",
       " ('Month', 1.8829550419361292),\n",
       " ('Day', 0.2059457739382905)]"
      ]
     },
     "execution_count": 71,
     "metadata": {},
     "output_type": "execute_result"
    }
   ],
   "source": [
    "list(zip(X_test_dates.columns, logr.coef_[0]))"
   ]
  },
  {
   "cell_type": "code",
   "execution_count": 72,
   "metadata": {},
   "outputs": [],
   "source": [
    "test_weather_dates = test_weather.copy()\n",
    "test_weather_dates.loc[:, 'Year'] = test_weather_dates['Date'].dt.year\n",
    "test_weather_dates.loc[:, 'Month'] = test_weather_dates['Date'].dt.month\n",
    "test_weather_dates.loc[:, 'Day'] = test_weather_dates['Date'].dt.day\n",
    "test_weather_dates.drop(columns='Date', inplace=True)"
   ]
  },
  {
   "cell_type": "code",
   "execution_count": 73,
   "metadata": {},
   "outputs": [],
   "source": [
    "test_weather_dates = pd.DataFrame(ss.transform(test_weather_dates),\n",
    "                                  columns=test_weather_dates.columns,\n",
    "                                  index=test_weather_dates.index)"
   ]
  },
  {
   "cell_type": "code",
   "execution_count": 74,
   "metadata": {},
   "outputs": [
    {
     "data": {
      "text/html": [
       "<div>\n",
       "<style scoped>\n",
       "    .dataframe tbody tr th:only-of-type {\n",
       "        vertical-align: middle;\n",
       "    }\n",
       "\n",
       "    .dataframe tbody tr th {\n",
       "        vertical-align: top;\n",
       "    }\n",
       "\n",
       "    .dataframe thead th {\n",
       "        text-align: right;\n",
       "    }\n",
       "</style>\n",
       "<table border=\"1\" class=\"dataframe\">\n",
       "  <thead>\n",
       "    <tr style=\"text-align: right;\">\n",
       "      <th></th>\n",
       "      <th>CULEX PIPIENS</th>\n",
       "      <th>CULEX RESTUANS</th>\n",
       "      <th>Latitude</th>\n",
       "      <th>Longitude</th>\n",
       "      <th>SprayPowerDay0</th>\n",
       "      <th>SprayPowerDay1</th>\n",
       "      <th>SprayPowerDay2</th>\n",
       "      <th>SprayPowerDay3</th>\n",
       "      <th>Tmax</th>\n",
       "      <th>Tmin</th>\n",
       "      <th>...</th>\n",
       "      <th>WetBulb</th>\n",
       "      <th>Heat</th>\n",
       "      <th>Cool</th>\n",
       "      <th>SunshineHours</th>\n",
       "      <th>Depth</th>\n",
       "      <th>SeaLevel</th>\n",
       "      <th>AvgSpeed</th>\n",
       "      <th>Year</th>\n",
       "      <th>Month</th>\n",
       "      <th>Day</th>\n",
       "    </tr>\n",
       "  </thead>\n",
       "  <tbody>\n",
       "    <tr>\n",
       "      <th>0</th>\n",
       "      <td>0.327309</td>\n",
       "      <td>0.262390</td>\n",
       "      <td>1.010615</td>\n",
       "      <td>-1.311931</td>\n",
       "      <td>-0.020522</td>\n",
       "      <td>-0.016998</td>\n",
       "      <td>-0.02392</td>\n",
       "      <td>0.0</td>\n",
       "      <td>0.582272</td>\n",
       "      <td>0.106251</td>\n",
       "      <td>...</td>\n",
       "      <td>-0.009875</td>\n",
       "      <td>-0.371448</td>\n",
       "      <td>0.317182</td>\n",
       "      <td>0.884687</td>\n",
       "      <td>0.0</td>\n",
       "      <td>0.138948</td>\n",
       "      <td>1.046489</td>\n",
       "      <td>-0.770101</td>\n",
       "      <td>-1.479914</td>\n",
       "      <td>-0.549415</td>\n",
       "    </tr>\n",
       "    <tr>\n",
       "      <th>1</th>\n",
       "      <td>-3.055213</td>\n",
       "      <td>0.262390</td>\n",
       "      <td>1.010615</td>\n",
       "      <td>-1.311931</td>\n",
       "      <td>-0.020522</td>\n",
       "      <td>-0.016998</td>\n",
       "      <td>-0.02392</td>\n",
       "      <td>0.0</td>\n",
       "      <td>0.582272</td>\n",
       "      <td>0.106251</td>\n",
       "      <td>...</td>\n",
       "      <td>-0.009875</td>\n",
       "      <td>-0.371448</td>\n",
       "      <td>0.317182</td>\n",
       "      <td>0.884687</td>\n",
       "      <td>0.0</td>\n",
       "      <td>0.138948</td>\n",
       "      <td>1.046489</td>\n",
       "      <td>-0.770101</td>\n",
       "      <td>-1.479914</td>\n",
       "      <td>-0.549415</td>\n",
       "    </tr>\n",
       "    <tr>\n",
       "      <th>2</th>\n",
       "      <td>0.327309</td>\n",
       "      <td>-3.811124</td>\n",
       "      <td>1.010615</td>\n",
       "      <td>-1.311931</td>\n",
       "      <td>-0.020522</td>\n",
       "      <td>-0.016998</td>\n",
       "      <td>-0.02392</td>\n",
       "      <td>0.0</td>\n",
       "      <td>0.582272</td>\n",
       "      <td>0.106251</td>\n",
       "      <td>...</td>\n",
       "      <td>-0.009875</td>\n",
       "      <td>-0.371448</td>\n",
       "      <td>0.317182</td>\n",
       "      <td>0.884687</td>\n",
       "      <td>0.0</td>\n",
       "      <td>0.138948</td>\n",
       "      <td>1.046489</td>\n",
       "      <td>-0.770101</td>\n",
       "      <td>-1.479914</td>\n",
       "      <td>-0.549415</td>\n",
       "    </tr>\n",
       "    <tr>\n",
       "      <th>3</th>\n",
       "      <td>-3.055213</td>\n",
       "      <td>-3.811124</td>\n",
       "      <td>1.010615</td>\n",
       "      <td>-1.311931</td>\n",
       "      <td>-0.020522</td>\n",
       "      <td>-0.016998</td>\n",
       "      <td>-0.02392</td>\n",
       "      <td>0.0</td>\n",
       "      <td>0.582272</td>\n",
       "      <td>0.106251</td>\n",
       "      <td>...</td>\n",
       "      <td>-0.009875</td>\n",
       "      <td>-0.371448</td>\n",
       "      <td>0.317182</td>\n",
       "      <td>0.884687</td>\n",
       "      <td>0.0</td>\n",
       "      <td>0.138948</td>\n",
       "      <td>1.046489</td>\n",
       "      <td>-0.770101</td>\n",
       "      <td>-1.479914</td>\n",
       "      <td>-0.549415</td>\n",
       "    </tr>\n",
       "    <tr>\n",
       "      <th>4</th>\n",
       "      <td>-3.055213</td>\n",
       "      <td>-3.811124</td>\n",
       "      <td>1.010615</td>\n",
       "      <td>-1.311931</td>\n",
       "      <td>-0.020522</td>\n",
       "      <td>-0.016998</td>\n",
       "      <td>-0.02392</td>\n",
       "      <td>0.0</td>\n",
       "      <td>0.582272</td>\n",
       "      <td>0.106251</td>\n",
       "      <td>...</td>\n",
       "      <td>-0.009875</td>\n",
       "      <td>-0.371448</td>\n",
       "      <td>0.317182</td>\n",
       "      <td>0.884687</td>\n",
       "      <td>0.0</td>\n",
       "      <td>0.138948</td>\n",
       "      <td>1.046489</td>\n",
       "      <td>-0.770101</td>\n",
       "      <td>-1.479914</td>\n",
       "      <td>-0.549415</td>\n",
       "    </tr>\n",
       "  </tbody>\n",
       "</table>\n",
       "<p>5 rows × 23 columns</p>\n",
       "</div>"
      ],
      "text/plain": [
       "   CULEX PIPIENS  CULEX RESTUANS  Latitude  Longitude  SprayPowerDay0  \\\n",
       "0       0.327309        0.262390  1.010615  -1.311931       -0.020522   \n",
       "1      -3.055213        0.262390  1.010615  -1.311931       -0.020522   \n",
       "2       0.327309       -3.811124  1.010615  -1.311931       -0.020522   \n",
       "3      -3.055213       -3.811124  1.010615  -1.311931       -0.020522   \n",
       "4      -3.055213       -3.811124  1.010615  -1.311931       -0.020522   \n",
       "\n",
       "   SprayPowerDay1  SprayPowerDay2  SprayPowerDay3      Tmax      Tmin  \\\n",
       "0       -0.016998        -0.02392             0.0  0.582272  0.106251   \n",
       "1       -0.016998        -0.02392             0.0  0.582272  0.106251   \n",
       "2       -0.016998        -0.02392             0.0  0.582272  0.106251   \n",
       "3       -0.016998        -0.02392             0.0  0.582272  0.106251   \n",
       "4       -0.016998        -0.02392             0.0  0.582272  0.106251   \n",
       "\n",
       "     ...      WetBulb      Heat      Cool  SunshineHours  Depth  SeaLevel  \\\n",
       "0    ...    -0.009875 -0.371448  0.317182       0.884687    0.0  0.138948   \n",
       "1    ...    -0.009875 -0.371448  0.317182       0.884687    0.0  0.138948   \n",
       "2    ...    -0.009875 -0.371448  0.317182       0.884687    0.0  0.138948   \n",
       "3    ...    -0.009875 -0.371448  0.317182       0.884687    0.0  0.138948   \n",
       "4    ...    -0.009875 -0.371448  0.317182       0.884687    0.0  0.138948   \n",
       "\n",
       "   AvgSpeed      Year     Month       Day  \n",
       "0  1.046489 -0.770101 -1.479914 -0.549415  \n",
       "1  1.046489 -0.770101 -1.479914 -0.549415  \n",
       "2  1.046489 -0.770101 -1.479914 -0.549415  \n",
       "3  1.046489 -0.770101 -1.479914 -0.549415  \n",
       "4  1.046489 -0.770101 -1.479914 -0.549415  \n",
       "\n",
       "[5 rows x 23 columns]"
      ]
     },
     "execution_count": 74,
     "metadata": {},
     "output_type": "execute_result"
    }
   ],
   "source": [
    "test_weather_dates.head()"
   ]
  },
  {
   "cell_type": "code",
   "execution_count": 75,
   "metadata": {},
   "outputs": [],
   "source": [
    "predictions = pd.DataFrame(logr.predict_proba(test_weather_dates)[:,1], \n",
    "                           index=test_weather_dates.index,\n",
    "                           columns=['WnvPresent'])"
   ]
  },
  {
   "cell_type": "code",
   "execution_count": 76,
   "metadata": {},
   "outputs": [
    {
     "data": {
      "text/html": [
       "<div>\n",
       "<style scoped>\n",
       "    .dataframe tbody tr th:only-of-type {\n",
       "        vertical-align: middle;\n",
       "    }\n",
       "\n",
       "    .dataframe tbody tr th {\n",
       "        vertical-align: top;\n",
       "    }\n",
       "\n",
       "    .dataframe thead th {\n",
       "        text-align: right;\n",
       "    }\n",
       "</style>\n",
       "<table border=\"1\" class=\"dataframe\">\n",
       "  <thead>\n",
       "    <tr style=\"text-align: right;\">\n",
       "      <th></th>\n",
       "      <th>Id</th>\n",
       "      <th>WnvPresent</th>\n",
       "    </tr>\n",
       "  </thead>\n",
       "  <tbody>\n",
       "    <tr>\n",
       "      <th>0</th>\n",
       "      <td>1</td>\n",
       "      <td>0.000859</td>\n",
       "    </tr>\n",
       "    <tr>\n",
       "      <th>1</th>\n",
       "      <td>2</td>\n",
       "      <td>0.000037</td>\n",
       "    </tr>\n",
       "    <tr>\n",
       "      <th>2</th>\n",
       "      <td>3</td>\n",
       "      <td>0.000410</td>\n",
       "    </tr>\n",
       "    <tr>\n",
       "      <th>3</th>\n",
       "      <td>4</td>\n",
       "      <td>0.000018</td>\n",
       "    </tr>\n",
       "    <tr>\n",
       "      <th>4</th>\n",
       "      <td>5</td>\n",
       "      <td>0.000018</td>\n",
       "    </tr>\n",
       "  </tbody>\n",
       "</table>\n",
       "</div>"
      ],
      "text/plain": [
       "   Id  WnvPresent\n",
       "0   1    0.000859\n",
       "1   2    0.000037\n",
       "2   3    0.000410\n",
       "3   4    0.000018\n",
       "4   5    0.000018"
      ]
     },
     "execution_count": 76,
     "metadata": {},
     "output_type": "execute_result"
    }
   ],
   "source": [
    "predictions['Id'] = test['Id']\n",
    "predictions = predictions[['Id', 'WnvPresent']]\n",
    "predictions.head()"
   ]
  },
  {
   "cell_type": "code",
   "execution_count": 77,
   "metadata": {},
   "outputs": [],
   "source": [
    "predictions.to_csv('./../submissions/submission01-martim.csv', index=False)"
   ]
  },
  {
   "cell_type": "markdown",
   "metadata": {},
   "source": [
    "## Looking only at the data from 2013"
   ]
  },
  {
   "cell_type": "code",
   "execution_count": 78,
   "metadata": {},
   "outputs": [
    {
     "data": {
      "text/html": [
       "<div>\n",
       "<style scoped>\n",
       "    .dataframe tbody tr th:only-of-type {\n",
       "        vertical-align: middle;\n",
       "    }\n",
       "\n",
       "    .dataframe tbody tr th {\n",
       "        vertical-align: top;\n",
       "    }\n",
       "\n",
       "    .dataframe thead th {\n",
       "        text-align: right;\n",
       "    }\n",
       "</style>\n",
       "<table border=\"1\" class=\"dataframe\">\n",
       "  <thead>\n",
       "    <tr style=\"text-align: right;\">\n",
       "      <th></th>\n",
       "      <th>CULEX PIPIENS</th>\n",
       "      <th>CULEX RESTUANS</th>\n",
       "      <th>Latitude</th>\n",
       "      <th>Longitude</th>\n",
       "      <th>SprayPowerDay0</th>\n",
       "      <th>SprayPowerDay1</th>\n",
       "      <th>SprayPowerDay2</th>\n",
       "      <th>SprayPowerDay3</th>\n",
       "      <th>Tmax</th>\n",
       "      <th>Tmin</th>\n",
       "      <th>...</th>\n",
       "      <th>DewPoint</th>\n",
       "      <th>WetBulb</th>\n",
       "      <th>Heat</th>\n",
       "      <th>Cool</th>\n",
       "      <th>SunshineHours</th>\n",
       "      <th>Depth</th>\n",
       "      <th>SeaLevel</th>\n",
       "      <th>AvgSpeed</th>\n",
       "      <th>Month</th>\n",
       "      <th>Day</th>\n",
       "    </tr>\n",
       "  </thead>\n",
       "  <tbody>\n",
       "    <tr>\n",
       "      <th>3822</th>\n",
       "      <td>1</td>\n",
       "      <td>1</td>\n",
       "      <td>41.732984</td>\n",
       "      <td>-87.649642</td>\n",
       "      <td>0.0</td>\n",
       "      <td>0.0</td>\n",
       "      <td>0.0</td>\n",
       "      <td>0</td>\n",
       "      <td>82.5</td>\n",
       "      <td>59.0</td>\n",
       "      <td>...</td>\n",
       "      <td>53.5</td>\n",
       "      <td>61.5</td>\n",
       "      <td>0.0</td>\n",
       "      <td>6.0</td>\n",
       "      <td>15.016667</td>\n",
       "      <td>0.0</td>\n",
       "      <td>30.095</td>\n",
       "      <td>5.10</td>\n",
       "      <td>7</td>\n",
       "      <td>12</td>\n",
       "    </tr>\n",
       "    <tr>\n",
       "      <th>3872</th>\n",
       "      <td>0</td>\n",
       "      <td>1</td>\n",
       "      <td>41.778748</td>\n",
       "      <td>-87.586427</td>\n",
       "      <td>0.0</td>\n",
       "      <td>0.0</td>\n",
       "      <td>0.0</td>\n",
       "      <td>0</td>\n",
       "      <td>96.5</td>\n",
       "      <td>73.0</td>\n",
       "      <td>...</td>\n",
       "      <td>69.5</td>\n",
       "      <td>75.0</td>\n",
       "      <td>0.0</td>\n",
       "      <td>20.0</td>\n",
       "      <td>15.000000</td>\n",
       "      <td>0.0</td>\n",
       "      <td>29.825</td>\n",
       "      <td>13.95</td>\n",
       "      <td>7</td>\n",
       "      <td>19</td>\n",
       "    </tr>\n",
       "    <tr>\n",
       "      <th>3991</th>\n",
       "      <td>1</td>\n",
       "      <td>1</td>\n",
       "      <td>41.991429</td>\n",
       "      <td>-87.747113</td>\n",
       "      <td>0.0</td>\n",
       "      <td>0.0</td>\n",
       "      <td>0.0</td>\n",
       "      <td>0</td>\n",
       "      <td>81.5</td>\n",
       "      <td>61.0</td>\n",
       "      <td>...</td>\n",
       "      <td>55.5</td>\n",
       "      <td>62.0</td>\n",
       "      <td>0.0</td>\n",
       "      <td>6.5</td>\n",
       "      <td>14.933333</td>\n",
       "      <td>0.0</td>\n",
       "      <td>29.950</td>\n",
       "      <td>7.45</td>\n",
       "      <td>8</td>\n",
       "      <td>1</td>\n",
       "    </tr>\n",
       "    <tr>\n",
       "      <th>4276</th>\n",
       "      <td>1</td>\n",
       "      <td>1</td>\n",
       "      <td>41.991429</td>\n",
       "      <td>-87.747113</td>\n",
       "      <td>0.0</td>\n",
       "      <td>0.0</td>\n",
       "      <td>0.0</td>\n",
       "      <td>0</td>\n",
       "      <td>88.0</td>\n",
       "      <td>67.5</td>\n",
       "      <td>...</td>\n",
       "      <td>64.5</td>\n",
       "      <td>69.0</td>\n",
       "      <td>0.0</td>\n",
       "      <td>13.0</td>\n",
       "      <td>12.966667</td>\n",
       "      <td>0.0</td>\n",
       "      <td>30.005</td>\n",
       "      <td>4.65</td>\n",
       "      <td>8</td>\n",
       "      <td>29</td>\n",
       "    </tr>\n",
       "    <tr>\n",
       "      <th>4206</th>\n",
       "      <td>1</td>\n",
       "      <td>1</td>\n",
       "      <td>41.960616</td>\n",
       "      <td>-87.777189</td>\n",
       "      <td>0.0</td>\n",
       "      <td>0.0</td>\n",
       "      <td>0.0</td>\n",
       "      <td>0</td>\n",
       "      <td>78.0</td>\n",
       "      <td>67.5</td>\n",
       "      <td>...</td>\n",
       "      <td>66.5</td>\n",
       "      <td>68.5</td>\n",
       "      <td>0.0</td>\n",
       "      <td>8.0</td>\n",
       "      <td>12.950000</td>\n",
       "      <td>0.0</td>\n",
       "      <td>30.050</td>\n",
       "      <td>7.00</td>\n",
       "      <td>8</td>\n",
       "      <td>22</td>\n",
       "    </tr>\n",
       "  </tbody>\n",
       "</table>\n",
       "<p>5 rows × 22 columns</p>\n",
       "</div>"
      ],
      "text/plain": [
       "      CULEX PIPIENS  CULEX RESTUANS   Latitude  Longitude  SprayPowerDay0  \\\n",
       "3822              1               1  41.732984 -87.649642             0.0   \n",
       "3872              0               1  41.778748 -87.586427             0.0   \n",
       "3991              1               1  41.991429 -87.747113             0.0   \n",
       "4276              1               1  41.991429 -87.747113             0.0   \n",
       "4206              1               1  41.960616 -87.777189             0.0   \n",
       "\n",
       "      SprayPowerDay1  SprayPowerDay2  SprayPowerDay3  Tmax  Tmin ...   \\\n",
       "3822             0.0             0.0               0  82.5  59.0 ...    \n",
       "3872             0.0             0.0               0  96.5  73.0 ...    \n",
       "3991             0.0             0.0               0  81.5  61.0 ...    \n",
       "4276             0.0             0.0               0  88.0  67.5 ...    \n",
       "4206             0.0             0.0               0  78.0  67.5 ...    \n",
       "\n",
       "      DewPoint  WetBulb  Heat  Cool  SunshineHours  Depth  SeaLevel  AvgSpeed  \\\n",
       "3822      53.5     61.5   0.0   6.0      15.016667    0.0    30.095      5.10   \n",
       "3872      69.5     75.0   0.0  20.0      15.000000    0.0    29.825     13.95   \n",
       "3991      55.5     62.0   0.0   6.5      14.933333    0.0    29.950      7.45   \n",
       "4276      64.5     69.0   0.0  13.0      12.966667    0.0    30.005      4.65   \n",
       "4206      66.5     68.5   0.0   8.0      12.950000    0.0    30.050      7.00   \n",
       "\n",
       "      Month  Day  \n",
       "3822      7   12  \n",
       "3872      7   19  \n",
       "3991      8    1  \n",
       "4276      8   29  \n",
       "4206      8   22  \n",
       "\n",
       "[5 rows x 22 columns]"
      ]
     },
     "execution_count": 78,
     "metadata": {},
     "output_type": "execute_result"
    }
   ],
   "source": [
    "X_train_2013 = X_train.copy()\n",
    "X_train_2013.loc[:, 'Year'] = X_train_2013['Date'].dt.year\n",
    "X_train_2013.loc[:, 'Month'] = X_train_2013['Date'].dt.month\n",
    "X_train_2013.loc[:, 'Day'] = X_train_2013['Date'].dt.day\n",
    "X_train_2013.drop(columns='Date', inplace=True)\n",
    "X_train_2013 = X_train_2013[X_train_2013['Year'] == 2013]\n",
    "X_train_2013.drop(columns='Year', inplace=True)\n",
    "X_train_2013.head()"
   ]
  },
  {
   "cell_type": "code",
   "execution_count": 79,
   "metadata": {},
   "outputs": [],
   "source": [
    "ss = StandardScaler()"
   ]
  },
  {
   "cell_type": "code",
   "execution_count": 80,
   "metadata": {},
   "outputs": [
    {
     "data": {
      "text/html": [
       "<div>\n",
       "<style scoped>\n",
       "    .dataframe tbody tr th:only-of-type {\n",
       "        vertical-align: middle;\n",
       "    }\n",
       "\n",
       "    .dataframe tbody tr th {\n",
       "        vertical-align: top;\n",
       "    }\n",
       "\n",
       "    .dataframe thead th {\n",
       "        text-align: right;\n",
       "    }\n",
       "</style>\n",
       "<table border=\"1\" class=\"dataframe\">\n",
       "  <thead>\n",
       "    <tr style=\"text-align: right;\">\n",
       "      <th></th>\n",
       "      <th>CULEX PIPIENS</th>\n",
       "      <th>CULEX RESTUANS</th>\n",
       "      <th>Latitude</th>\n",
       "      <th>Longitude</th>\n",
       "      <th>SprayPowerDay0</th>\n",
       "      <th>SprayPowerDay1</th>\n",
       "      <th>SprayPowerDay2</th>\n",
       "      <th>SprayPowerDay3</th>\n",
       "      <th>Tmax</th>\n",
       "      <th>Tmin</th>\n",
       "      <th>...</th>\n",
       "      <th>DewPoint</th>\n",
       "      <th>WetBulb</th>\n",
       "      <th>Heat</th>\n",
       "      <th>Cool</th>\n",
       "      <th>SunshineHours</th>\n",
       "      <th>Depth</th>\n",
       "      <th>SeaLevel</th>\n",
       "      <th>AvgSpeed</th>\n",
       "      <th>Month</th>\n",
       "      <th>Day</th>\n",
       "    </tr>\n",
       "  </thead>\n",
       "  <tbody>\n",
       "    <tr>\n",
       "      <th>3822</th>\n",
       "      <td>0.355353</td>\n",
       "      <td>0.291147</td>\n",
       "      <td>-1.071357</td>\n",
       "      <td>0.539837</td>\n",
       "      <td>-0.04066</td>\n",
       "      <td>-0.033672</td>\n",
       "      <td>-0.047403</td>\n",
       "      <td>0.0</td>\n",
       "      <td>0.092614</td>\n",
       "      <td>-0.636232</td>\n",
       "      <td>...</td>\n",
       "      <td>-0.734568</td>\n",
       "      <td>-0.469014</td>\n",
       "      <td>-0.278121</td>\n",
       "      <td>-0.362066</td>\n",
       "      <td>0.842975</td>\n",
       "      <td>0.0</td>\n",
       "      <td>1.001553</td>\n",
       "      <td>-1.007052</td>\n",
       "      <td>-0.546272</td>\n",
       "      <td>-0.507802</td>\n",
       "    </tr>\n",
       "    <tr>\n",
       "      <th>3872</th>\n",
       "      <td>-2.814106</td>\n",
       "      <td>0.291147</td>\n",
       "      <td>-0.636974</td>\n",
       "      <td>1.311686</td>\n",
       "      <td>-0.04066</td>\n",
       "      <td>-0.033672</td>\n",
       "      <td>-0.047403</td>\n",
       "      <td>0.0</td>\n",
       "      <td>2.335300</td>\n",
       "      <td>1.624178</td>\n",
       "      <td>...</td>\n",
       "      <td>1.469293</td>\n",
       "      <td>1.851818</td>\n",
       "      <td>-0.278121</td>\n",
       "      <td>2.272340</td>\n",
       "      <td>0.828248</td>\n",
       "      <td>0.0</td>\n",
       "      <td>-1.450997</td>\n",
       "      <td>2.328044</td>\n",
       "      <td>-0.546272</td>\n",
       "      <td>0.355671</td>\n",
       "    </tr>\n",
       "    <tr>\n",
       "      <th>3991</th>\n",
       "      <td>0.355353</td>\n",
       "      <td>0.291147</td>\n",
       "      <td>1.381754</td>\n",
       "      <td>-0.650273</td>\n",
       "      <td>-0.04066</td>\n",
       "      <td>-0.033672</td>\n",
       "      <td>-0.047403</td>\n",
       "      <td>0.0</td>\n",
       "      <td>-0.067578</td>\n",
       "      <td>-0.313316</td>\n",
       "      <td>...</td>\n",
       "      <td>-0.459086</td>\n",
       "      <td>-0.383057</td>\n",
       "      <td>-0.278121</td>\n",
       "      <td>-0.267980</td>\n",
       "      <td>0.769337</td>\n",
       "      <td>0.0</td>\n",
       "      <td>-0.315557</td>\n",
       "      <td>-0.121462</td>\n",
       "      <td>0.388531</td>\n",
       "      <td>-1.864687</td>\n",
       "    </tr>\n",
       "    <tr>\n",
       "      <th>4276</th>\n",
       "      <td>0.355353</td>\n",
       "      <td>0.291147</td>\n",
       "      <td>1.381754</td>\n",
       "      <td>-0.650273</td>\n",
       "      <td>-0.04066</td>\n",
       "      <td>-0.033672</td>\n",
       "      <td>-0.047403</td>\n",
       "      <td>0.0</td>\n",
       "      <td>0.973669</td>\n",
       "      <td>0.736160</td>\n",
       "      <td>...</td>\n",
       "      <td>0.780586</td>\n",
       "      <td>0.820337</td>\n",
       "      <td>-0.278121</td>\n",
       "      <td>0.955137</td>\n",
       "      <td>-0.968518</td>\n",
       "      <td>0.0</td>\n",
       "      <td>0.184036</td>\n",
       "      <td>-1.176633</td>\n",
       "      <td>0.388531</td>\n",
       "      <td>1.589203</td>\n",
       "    </tr>\n",
       "    <tr>\n",
       "      <th>4206</th>\n",
       "      <td>0.355353</td>\n",
       "      <td>0.291147</td>\n",
       "      <td>1.089283</td>\n",
       "      <td>-1.017498</td>\n",
       "      <td>-0.04066</td>\n",
       "      <td>-0.033672</td>\n",
       "      <td>-0.047403</td>\n",
       "      <td>0.0</td>\n",
       "      <td>-0.628250</td>\n",
       "      <td>0.736160</td>\n",
       "      <td>...</td>\n",
       "      <td>1.056069</td>\n",
       "      <td>0.734380</td>\n",
       "      <td>-0.278121</td>\n",
       "      <td>0.014278</td>\n",
       "      <td>-0.983246</td>\n",
       "      <td>0.0</td>\n",
       "      <td>0.592795</td>\n",
       "      <td>-0.291043</td>\n",
       "      <td>0.388531</td>\n",
       "      <td>0.725730</td>\n",
       "    </tr>\n",
       "  </tbody>\n",
       "</table>\n",
       "<p>5 rows × 22 columns</p>\n",
       "</div>"
      ],
      "text/plain": [
       "      CULEX PIPIENS  CULEX RESTUANS  Latitude  Longitude  SprayPowerDay0  \\\n",
       "3822       0.355353        0.291147 -1.071357   0.539837        -0.04066   \n",
       "3872      -2.814106        0.291147 -0.636974   1.311686        -0.04066   \n",
       "3991       0.355353        0.291147  1.381754  -0.650273        -0.04066   \n",
       "4276       0.355353        0.291147  1.381754  -0.650273        -0.04066   \n",
       "4206       0.355353        0.291147  1.089283  -1.017498        -0.04066   \n",
       "\n",
       "      SprayPowerDay1  SprayPowerDay2  SprayPowerDay3      Tmax      Tmin  \\\n",
       "3822       -0.033672       -0.047403             0.0  0.092614 -0.636232   \n",
       "3872       -0.033672       -0.047403             0.0  2.335300  1.624178   \n",
       "3991       -0.033672       -0.047403             0.0 -0.067578 -0.313316   \n",
       "4276       -0.033672       -0.047403             0.0  0.973669  0.736160   \n",
       "4206       -0.033672       -0.047403             0.0 -0.628250  0.736160   \n",
       "\n",
       "        ...     DewPoint   WetBulb      Heat      Cool  SunshineHours  Depth  \\\n",
       "3822    ...    -0.734568 -0.469014 -0.278121 -0.362066       0.842975    0.0   \n",
       "3872    ...     1.469293  1.851818 -0.278121  2.272340       0.828248    0.0   \n",
       "3991    ...    -0.459086 -0.383057 -0.278121 -0.267980       0.769337    0.0   \n",
       "4276    ...     0.780586  0.820337 -0.278121  0.955137      -0.968518    0.0   \n",
       "4206    ...     1.056069  0.734380 -0.278121  0.014278      -0.983246    0.0   \n",
       "\n",
       "      SeaLevel  AvgSpeed     Month       Day  \n",
       "3822  1.001553 -1.007052 -0.546272 -0.507802  \n",
       "3872 -1.450997  2.328044 -0.546272  0.355671  \n",
       "3991 -0.315557 -0.121462  0.388531 -1.864687  \n",
       "4276  0.184036 -1.176633  0.388531  1.589203  \n",
       "4206  0.592795 -0.291043  0.388531  0.725730  \n",
       "\n",
       "[5 rows x 22 columns]"
      ]
     },
     "execution_count": 80,
     "metadata": {},
     "output_type": "execute_result"
    }
   ],
   "source": [
    "ss.fit(X_train_2013)\n",
    "\n",
    "X_train_2013 = pd.DataFrame(ss.transform(X_train_2013), columns=X_train_2013.columns, index=X_train_2013.index)\n",
    "X_train_2013.head()"
   ]
  },
  {
   "cell_type": "code",
   "execution_count": 81,
   "metadata": {},
   "outputs": [
    {
     "data": {
      "text/plain": [
       "3822    1\n",
       "3872    0\n",
       "3991    0\n",
       "4276    0\n",
       "4206    0\n",
       "Name: WnvPresent, dtype: int64"
      ]
     },
     "execution_count": 81,
     "metadata": {},
     "output_type": "execute_result"
    }
   ],
   "source": [
    "y_2013 = y_train[y_train.index.isin(X_train_2013.index)]\n",
    "y_2013.head()"
   ]
  },
  {
   "cell_type": "code",
   "execution_count": 82,
   "metadata": {},
   "outputs": [
    {
     "data": {
      "text/plain": [
       "LogisticRegression(C=1.0, class_weight=None, dual=False, fit_intercept=True,\n",
       "          intercept_scaling=1, max_iter=100, multi_class='ovr', n_jobs=1,\n",
       "          penalty='l2', random_state=None, solver='liblinear', tol=0.0001,\n",
       "          verbose=0, warm_start=False)"
      ]
     },
     "execution_count": 82,
     "metadata": {},
     "output_type": "execute_result"
    }
   ],
   "source": [
    "logr.fit(X_train_2013, y_2013)"
   ]
  },
  {
   "cell_type": "code",
   "execution_count": 83,
   "metadata": {},
   "outputs": [
    {
     "data": {
      "text/plain": [
       "0.86749716874292182"
      ]
     },
     "execution_count": 83,
     "metadata": {},
     "output_type": "execute_result"
    }
   ],
   "source": [
    "logr.score(X_train_2013, y_2013)"
   ]
  },
  {
   "cell_type": "code",
   "execution_count": 84,
   "metadata": {},
   "outputs": [
    {
     "data": {
      "text/plain": [
       "[('CULEX PIPIENS', 0.84422822385845664),\n",
       " ('CULEX RESTUANS', 0.21483555837717655),\n",
       " ('Latitude', 0.067574484098311599),\n",
       " ('Longitude', -0.45038538301968589),\n",
       " ('SprayPowerDay0', 0.020345870749228796),\n",
       " ('SprayPowerDay1', 0.18522783249282734),\n",
       " ('SprayPowerDay2', 0.010571623666036596),\n",
       " ('SprayPowerDay3', 0.0),\n",
       " ('Tmax', 0.37987271028591019),\n",
       " ('Tmin', 0.90637559952430613),\n",
       " ('Tavg', 0.65066867354353219),\n",
       " ('Depart', -1.5915797266177341),\n",
       " ('DewPoint', -0.67163814331591654),\n",
       " ('WetBulb', -0.063107386883475725),\n",
       " ('Heat', -0.14319819800994787),\n",
       " ('Cool', 0.68179712118447755),\n",
       " ('SunshineHours', -0.85611574181334038),\n",
       " ('Depth', 0.0),\n",
       " ('SeaLevel', 0.34627478464563083),\n",
       " ('AvgSpeed', 0.15192051709823592),\n",
       " ('Month', 1.0991079550007625),\n",
       " ('Day', -0.045842535866731343)]"
      ]
     },
     "execution_count": 84,
     "metadata": {},
     "output_type": "execute_result"
    }
   ],
   "source": [
    "list(zip(X_train_2013.columns, logr.coef_[0]))"
   ]
  },
  {
   "cell_type": "markdown",
   "metadata": {},
   "source": [
    "## Linear regression on the number of mosquitoes"
   ]
  },
  {
   "cell_type": "code",
   "execution_count": 85,
   "metadata": {},
   "outputs": [],
   "source": [
    "from sklearn.linear_model import LinearRegression"
   ]
  },
  {
   "cell_type": "code",
   "execution_count": 86,
   "metadata": {},
   "outputs": [],
   "source": [
    "lm = LinearRegression()"
   ]
  },
  {
   "cell_type": "code",
   "execution_count": 87,
   "metadata": {},
   "outputs": [
    {
     "data": {
      "text/plain": [
       "LinearRegression(copy_X=True, fit_intercept=True, n_jobs=1, normalize=False)"
      ]
     },
     "execution_count": 87,
     "metadata": {},
     "output_type": "execute_result"
    }
   ],
   "source": [
    "lm.fit(X_train_dates, y_train_mosq)"
   ]
  },
  {
   "cell_type": "code",
   "execution_count": 88,
   "metadata": {},
   "outputs": [
    {
     "data": {
      "text/plain": [
       "0.027265523368415145"
      ]
     },
     "execution_count": 88,
     "metadata": {},
     "output_type": "execute_result"
    }
   ],
   "source": [
    "lm.score(X_train_dates, y_train_mosq)"
   ]
  },
  {
   "cell_type": "code",
   "execution_count": 89,
   "metadata": {},
   "outputs": [
    {
     "data": {
      "text/plain": [
       "0.021577346079638238"
      ]
     },
     "execution_count": 89,
     "metadata": {},
     "output_type": "execute_result"
    }
   ],
   "source": [
    "lm.score(X_test_dates, y_test_mosq)"
   ]
  },
  {
   "cell_type": "code",
   "execution_count": 90,
   "metadata": {},
   "outputs": [
    {
     "data": {
      "text/plain": [
       "[('CULEX PIPIENS', 0.84422822385845664),\n",
       " ('CULEX RESTUANS', 0.21483555837717655),\n",
       " ('Latitude', 0.067574484098311599),\n",
       " ('Longitude', -0.45038538301968589),\n",
       " ('SprayPowerDay0', 0.020345870749228796),\n",
       " ('SprayPowerDay1', 0.18522783249282734),\n",
       " ('SprayPowerDay2', 0.010571623666036596),\n",
       " ('SprayPowerDay3', 0.0),\n",
       " ('Tmax', 0.37987271028591019),\n",
       " ('Tmin', 0.90637559952430613),\n",
       " ('Tavg', 0.65066867354353219),\n",
       " ('Depart', -1.5915797266177341),\n",
       " ('DewPoint', -0.67163814331591654),\n",
       " ('WetBulb', -0.063107386883475725),\n",
       " ('Heat', -0.14319819800994787),\n",
       " ('Cool', 0.68179712118447755),\n",
       " ('SunshineHours', -0.85611574181334038),\n",
       " ('Depth', 0.0),\n",
       " ('SeaLevel', 0.34627478464563083),\n",
       " ('AvgSpeed', 0.15192051709823592),\n",
       " ('Year', 1.0991079550007625),\n",
       " ('Month', -0.045842535866731343)]"
      ]
     },
     "execution_count": 90,
     "metadata": {},
     "output_type": "execute_result"
    }
   ],
   "source": [
    "list(zip(X_test_dates.columns, logr.coef_[0]))"
   ]
  },
  {
   "cell_type": "markdown",
   "metadata": {},
   "source": [
    "## Mosquito population in 2013"
   ]
  },
  {
   "cell_type": "code",
   "execution_count": 91,
   "metadata": {},
   "outputs": [],
   "source": [
    "y_2013_mosq = y_train_mosq[y_train_mosq.index.isin(X_train_2013.index)]"
   ]
  },
  {
   "cell_type": "code",
   "execution_count": 92,
   "metadata": {},
   "outputs": [
    {
     "data": {
      "text/plain": [
       "LinearRegression(copy_X=True, fit_intercept=True, n_jobs=1, normalize=False)"
      ]
     },
     "execution_count": 92,
     "metadata": {},
     "output_type": "execute_result"
    }
   ],
   "source": [
    "lm.fit(X_train_2013, y_2013_mosq)"
   ]
  },
  {
   "cell_type": "code",
   "execution_count": 93,
   "metadata": {},
   "outputs": [
    {
     "data": {
      "text/plain": [
       "0.13669489372534493"
      ]
     },
     "execution_count": 93,
     "metadata": {},
     "output_type": "execute_result"
    }
   ],
   "source": [
    "lm.score(X_train_2013, y_2013_mosq)"
   ]
  },
  {
   "cell_type": "code",
   "execution_count": 94,
   "metadata": {},
   "outputs": [
    {
     "data": {
      "text/plain": [
       "[('CULEX PIPIENS', 0.84422822385845664),\n",
       " ('CULEX RESTUANS', 0.21483555837717655),\n",
       " ('Latitude', 0.067574484098311599),\n",
       " ('Longitude', -0.45038538301968589),\n",
       " ('SprayPowerDay0', 0.020345870749228796),\n",
       " ('SprayPowerDay1', 0.18522783249282734),\n",
       " ('SprayPowerDay2', 0.010571623666036596),\n",
       " ('SprayPowerDay3', 0.0),\n",
       " ('Tmax', 0.37987271028591019),\n",
       " ('Tmin', 0.90637559952430613),\n",
       " ('Tavg', 0.65066867354353219),\n",
       " ('Depart', -1.5915797266177341),\n",
       " ('DewPoint', -0.67163814331591654),\n",
       " ('WetBulb', -0.063107386883475725),\n",
       " ('Heat', -0.14319819800994787),\n",
       " ('Cool', 0.68179712118447755),\n",
       " ('SunshineHours', -0.85611574181334038),\n",
       " ('Depth', 0.0),\n",
       " ('SeaLevel', 0.34627478464563083),\n",
       " ('AvgSpeed', 0.15192051709823592),\n",
       " ('Month', 1.0991079550007625),\n",
       " ('Day', -0.045842535866731343)]"
      ]
     },
     "execution_count": 94,
     "metadata": {},
     "output_type": "execute_result"
    }
   ],
   "source": [
    "list(zip(X_train_2013.columns, logr.coef_[0]))"
   ]
  },
  {
   "cell_type": "markdown",
   "metadata": {},
   "source": [
    "### Gradient boosting classifier"
   ]
  },
  {
   "cell_type": "code",
   "execution_count": 95,
   "metadata": {},
   "outputs": [],
   "source": [
    "from sklearn.ensemble import GradientBoostingClassifier"
   ]
  },
  {
   "cell_type": "code",
   "execution_count": 96,
   "metadata": {},
   "outputs": [],
   "source": [
    "gbc = GradientBoostingClassifier()"
   ]
  },
  {
   "cell_type": "code",
   "execution_count": 97,
   "metadata": {},
   "outputs": [
    {
     "data": {
      "text/plain": [
       "GradientBoostingClassifier(criterion='friedman_mse', init=None,\n",
       "              learning_rate=0.1, loss='deviance', max_depth=3,\n",
       "              max_features=None, max_leaf_nodes=None,\n",
       "              min_impurity_decrease=0.0, min_impurity_split=None,\n",
       "              min_samples_leaf=1, min_samples_split=2,\n",
       "              min_weight_fraction_leaf=0.0, n_estimators=100,\n",
       "              presort='auto', random_state=None, subsample=1.0, verbose=0,\n",
       "              warm_start=False)"
      ]
     },
     "execution_count": 97,
     "metadata": {},
     "output_type": "execute_result"
    }
   ],
   "source": [
    "gbc.fit(X_train_dates, y_train)"
   ]
  },
  {
   "cell_type": "code",
   "execution_count": 98,
   "metadata": {},
   "outputs": [
    {
     "data": {
      "text/plain": [
       "0.93240901213171579"
      ]
     },
     "execution_count": 98,
     "metadata": {},
     "output_type": "execute_result"
    }
   ],
   "source": [
    "gbc.score(X_train_dates, y_train)"
   ]
  },
  {
   "cell_type": "code",
   "execution_count": 99,
   "metadata": {},
   "outputs": [
    {
     "data": {
      "text/plain": [
       "array([0, 0, 0, ..., 0, 0, 0])"
      ]
     },
     "execution_count": 99,
     "metadata": {},
     "output_type": "execute_result"
    }
   ],
   "source": [
    "gbc.predict(X_train_dates)"
   ]
  },
  {
   "cell_type": "code",
   "execution_count": 100,
   "metadata": {},
   "outputs": [
    {
     "data": {
      "text/plain": [
       "0.91854419410745236"
      ]
     },
     "execution_count": 100,
     "metadata": {},
     "output_type": "execute_result"
    }
   ],
   "source": [
    "gbc.score(X_test_dates, y_test)"
   ]
  },
  {
   "cell_type": "markdown",
   "metadata": {},
   "source": [
    "### Random forest classifier"
   ]
  },
  {
   "cell_type": "code",
   "execution_count": 101,
   "metadata": {},
   "outputs": [],
   "source": [
    "from sklearn.ensemble import RandomForestClassifier"
   ]
  },
  {
   "cell_type": "code",
   "execution_count": 102,
   "metadata": {},
   "outputs": [],
   "source": [
    "rfc = RandomForestClassifier(random_state=437708)"
   ]
  },
  {
   "cell_type": "code",
   "execution_count": 103,
   "metadata": {},
   "outputs": [
    {
     "data": {
      "text/plain": [
       "RandomForestClassifier(bootstrap=True, class_weight=None, criterion='gini',\n",
       "            max_depth=None, max_features='auto', max_leaf_nodes=None,\n",
       "            min_impurity_decrease=0.0, min_impurity_split=None,\n",
       "            min_samples_leaf=1, min_samples_split=2,\n",
       "            min_weight_fraction_leaf=0.0, n_estimators=10, n_jobs=1,\n",
       "            oob_score=False, random_state=437708, verbose=0,\n",
       "            warm_start=False)"
      ]
     },
     "execution_count": 103,
     "metadata": {},
     "output_type": "execute_result"
    }
   ],
   "source": [
    "rfc.fit(X_train_dates, y_train)"
   ]
  },
  {
   "cell_type": "code",
   "execution_count": 104,
   "metadata": {},
   "outputs": [
    {
     "data": {
      "text/plain": [
       "0.98671288272674751"
      ]
     },
     "execution_count": 104,
     "metadata": {},
     "output_type": "execute_result"
    }
   ],
   "source": [
    "rfc.score(X_train_dates, y_train)"
   ]
  },
  {
   "cell_type": "code",
   "execution_count": 105,
   "metadata": {},
   "outputs": [
    {
     "data": {
      "text/plain": [
       "0.90294627383015602"
      ]
     },
     "execution_count": 105,
     "metadata": {},
     "output_type": "execute_result"
    }
   ],
   "source": [
    "rfc.score(X_test_dates, y_test)"
   ]
  },
  {
   "cell_type": "code",
   "execution_count": 106,
   "metadata": {},
   "outputs": [],
   "source": [
    "rfc_predictions = pd.DataFrame(rfc.predict_proba(test_weather_dates)[:,1],\n",
    "                               index=test_weather_dates.index,\n",
    "                               columns=['WnvPresent'])"
   ]
  },
  {
   "cell_type": "code",
   "execution_count": 107,
   "metadata": {},
   "outputs": [
    {
     "data": {
      "text/html": [
       "<div>\n",
       "<style scoped>\n",
       "    .dataframe tbody tr th:only-of-type {\n",
       "        vertical-align: middle;\n",
       "    }\n",
       "\n",
       "    .dataframe tbody tr th {\n",
       "        vertical-align: top;\n",
       "    }\n",
       "\n",
       "    .dataframe thead th {\n",
       "        text-align: right;\n",
       "    }\n",
       "</style>\n",
       "<table border=\"1\" class=\"dataframe\">\n",
       "  <thead>\n",
       "    <tr style=\"text-align: right;\">\n",
       "      <th></th>\n",
       "      <th>Id</th>\n",
       "      <th>WnvPresent</th>\n",
       "    </tr>\n",
       "  </thead>\n",
       "  <tbody>\n",
       "    <tr>\n",
       "      <th>0</th>\n",
       "      <td>1</td>\n",
       "      <td>0.1</td>\n",
       "    </tr>\n",
       "    <tr>\n",
       "      <th>1</th>\n",
       "      <td>2</td>\n",
       "      <td>0.1</td>\n",
       "    </tr>\n",
       "    <tr>\n",
       "      <th>2</th>\n",
       "      <td>3</td>\n",
       "      <td>0.1</td>\n",
       "    </tr>\n",
       "    <tr>\n",
       "      <th>3</th>\n",
       "      <td>4</td>\n",
       "      <td>0.1</td>\n",
       "    </tr>\n",
       "    <tr>\n",
       "      <th>4</th>\n",
       "      <td>5</td>\n",
       "      <td>0.1</td>\n",
       "    </tr>\n",
       "  </tbody>\n",
       "</table>\n",
       "</div>"
      ],
      "text/plain": [
       "   Id  WnvPresent\n",
       "0   1         0.1\n",
       "1   2         0.1\n",
       "2   3         0.1\n",
       "3   4         0.1\n",
       "4   5         0.1"
      ]
     },
     "execution_count": 107,
     "metadata": {},
     "output_type": "execute_result"
    }
   ],
   "source": [
    "rfc_predictions['Id'] = test['Id']\n",
    "rfc_predictions = rfc_predictions[['Id', 'WnvPresent']]\n",
    "rfc_predictions.head()"
   ]
  },
  {
   "cell_type": "code",
   "execution_count": 108,
   "metadata": {},
   "outputs": [],
   "source": [
    "rfc_predictions.to_csv('./../submissions/submission02-martim.csv', index=False)"
   ]
  },
  {
   "cell_type": "markdown",
   "metadata": {},
   "source": [
    "## Bunch of 💩 below here"
   ]
  },
  {
   "cell_type": "code",
   "execution_count": 109,
   "metadata": {},
   "outputs": [
    {
     "ename": "NameError",
     "evalue": "name 'rferferferge' is not defined",
     "output_type": "error",
     "traceback": [
      "\u001b[0;31m---------------------------------------------------------------------------\u001b[0m",
      "\u001b[0;31mNameError\u001b[0m                                 Traceback (most recent call last)",
      "\u001b[0;32m<ipython-input-109-ed58b40662e0>\u001b[0m in \u001b[0;36m<module>\u001b[0;34m()\u001b[0m\n\u001b[0;32m----> 1\u001b[0;31m \u001b[0mrferferferge\u001b[0m\u001b[0;34m\u001b[0m\u001b[0m\n\u001b[0m",
      "\u001b[0;31mNameError\u001b[0m: name 'rferferferge' is not defined"
     ]
    }
   ],
   "source": [
    "rferferferge"
   ]
  },
  {
   "cell_type": "code",
   "execution_count": null,
   "metadata": {},
   "outputs": [],
   "source": [
    "test_lite.head()"
   ]
  },
  {
   "cell_type": "code",
   "execution_count": null,
   "metadata": {},
   "outputs": [],
   "source": []
  },
  {
   "cell_type": "code",
   "execution_count": null,
   "metadata": {},
   "outputs": [],
   "source": []
  },
  {
   "cell_type": "code",
   "execution_count": null,
   "metadata": {},
   "outputs": [],
   "source": []
  },
  {
   "cell_type": "code",
   "execution_count": null,
   "metadata": {},
   "outputs": [],
   "source": []
  },
  {
   "cell_type": "markdown",
   "metadata": {},
   "source": [
    "### Transforming `Date` to `datetime` objects with time"
   ]
  },
  {
   "cell_type": "code",
   "execution_count": null,
   "metadata": {},
   "outputs": [],
   "source": [
    "train['Date'] = pd.to_datetime(train['Date'], utc=True)"
   ]
  },
  {
   "cell_type": "code",
   "execution_count": null,
   "metadata": {},
   "outputs": [],
   "source": [
    "spray['Date'] = pd.to_datetime(spray['Date'] + ' ' + spray['Time'], utc=True)"
   ]
  },
  {
   "cell_type": "code",
   "execution_count": null,
   "metadata": {},
   "outputs": [],
   "source": [
    "weather['Date'] = pd.to_datetime(weather['Date'], utc=True)"
   ]
  },
  {
   "cell_type": "code",
   "execution_count": null,
   "metadata": {},
   "outputs": [],
   "source": [
    "weather.head()"
   ]
  },
  {
   "cell_type": "code",
   "execution_count": null,
   "metadata": {},
   "outputs": [],
   "source": [
    "def weather_lat_long_elev(station):\n",
    "    if station == 1:\n",
    "        return (41.995, -87.933, 662)\n",
    "    elif station == 2:\n",
    "        return (41.786, -87.752, 612)\n",
    "    \n",
    "def weather_lat(station):\n",
    "    if station == 1:\n",
    "        return 41.995\n",
    "    elif station == 2:\n",
    "        return 41.786\n",
    "    \n",
    "def weather_long(station):\n",
    "    if station == 1:\n",
    "        return -87.933\n",
    "    elif station == 2:\n",
    "        return -87.752\n",
    "    \n",
    "def weather_elev(station):\n",
    "    if station == 1:\n",
    "        return 662\n",
    "    elif station == 2:\n",
    "        return 612"
   ]
  },
  {
   "cell_type": "code",
   "execution_count": null,
   "metadata": {},
   "outputs": [],
   "source": [
    "weather['Latitude'] = weather['Station'].apply(weather_lat)\n",
    "weather['Longitude'] = weather['Station'].apply(weather_long)"
   ]
  },
  {
   "cell_type": "code",
   "execution_count": null,
   "metadata": {},
   "outputs": [],
   "source": [
    "weather.head()"
   ]
  },
  {
   "cell_type": "code",
   "execution_count": null,
   "metadata": {},
   "outputs": [],
   "source": [
    "spray.head()"
   ]
  },
  {
   "cell_type": "code",
   "execution_count": null,
   "metadata": {},
   "outputs": [],
   "source": [
    "train.head()"
   ]
  },
  {
   "cell_type": "code",
   "execution_count": null,
   "metadata": {},
   "outputs": [],
   "source": [
    "weather.head()"
   ]
  },
  {
   "cell_type": "markdown",
   "metadata": {},
   "source": [
    "### Train lite"
   ]
  },
  {
   "cell_type": "code",
   "execution_count": null,
   "metadata": {},
   "outputs": [],
   "source": [
    "train_lite = train[['Date', 'Species', 'Trap', 'Latitude', 'Longitude', \n",
    "                    'AddressAccuracy', 'NumMosquitos', 'WnvPresent']]"
   ]
  },
  {
   "cell_type": "code",
   "execution_count": null,
   "metadata": {},
   "outputs": [],
   "source": [
    "train_lite['Species'].value_counts()"
   ]
  },
  {
   "cell_type": "markdown",
   "metadata": {},
   "source": [
    "Mosquito trap observations are capped at 50 mosquitoes. We need to find multiple trap observations for the same date and group them together. When aggregating species, we'll prioritize `CULEX PIPIENS/RESTUANS`, then `CULEX PIPIENS`, then `CULEX RESTUANS`, and finally other species."
   ]
  },
  {
   "cell_type": "code",
   "execution_count": null,
   "metadata": {},
   "outputs": [],
   "source": [
    "def consolidate_species(series):\n",
    "    elements = set(series)\n",
    "    if 'CULEX PIPIENS/RESTUANS' in elements:\n",
    "        return 'CULEX PIPIENS/RESTUANS'\n",
    "    elif ('CULEX PIPIENS' in elements) and ('CULEX RESTUANS' in elements):\n",
    "        return 'CULEX PIPIENS/RESTUANS'\n",
    "    elif 'CULEX PIPIENS' in elements:\n",
    "        return 'CULEX PIPIENS'\n",
    "    elif 'CULEX RESTUANS' in elements:\n",
    "        return 'CULEX RESTUANS'\n",
    "    else:\n",
    "        return 'OTHER'"
   ]
  },
  {
   "cell_type": "code",
   "execution_count": null,
   "metadata": {},
   "outputs": [],
   "source": [
    "train_lite = train_lite.groupby(['Date', 'Trap']).agg(\n",
    "    {\n",
    "        'Species': consolidate_species,\n",
    "        'Latitude': np.mean, \n",
    "        'Longitude': np.mean,\n",
    "        'AddressAccuracy': np.mean,\n",
    "        'NumMosquitos': np.sum, \n",
    "        'WnvPresent': np.max,\n",
    "        'NumMosquitos': np.sum\n",
    "    }).reset_index()"
   ]
  },
  {
   "cell_type": "code",
   "execution_count": null,
   "metadata": {},
   "outputs": [],
   "source": [
    "train_lite.head()"
   ]
  },
  {
   "cell_type": "code",
   "execution_count": null,
   "metadata": {},
   "outputs": [],
   "source": [
    "train.shape"
   ]
  },
  {
   "cell_type": "code",
   "execution_count": null,
   "metadata": {},
   "outputs": [],
   "source": [
    "train_lite.shape"
   ]
  },
  {
   "cell_type": "markdown",
   "metadata": {},
   "source": [
    "By merging traps for the same date, we've been able to significantly reduce the number of \"superfluous\" observations, as well as slightly reduce class imbalance."
   ]
  },
  {
   "cell_type": "code",
   "execution_count": null,
   "metadata": {},
   "outputs": [],
   "source": [
    "train['WnvPresent'].value_counts(normalize=True)"
   ]
  },
  {
   "cell_type": "code",
   "execution_count": null,
   "metadata": {},
   "outputs": [],
   "source": [
    "train_lite['WnvPresent'].value_counts(normalize=True)"
   ]
  },
  {
   "cell_type": "markdown",
   "metadata": {},
   "source": [
    "We'll also remove `OTHER` species when creating dummy variables."
   ]
  },
  {
   "cell_type": "code",
   "execution_count": null,
   "metadata": {},
   "outputs": [],
   "source": [
    "train_lite['Species'].value_counts()"
   ]
  },
  {
   "cell_type": "code",
   "execution_count": null,
   "metadata": {},
   "outputs": [],
   "source": [
    "train_lite['CULEX PIPIENS'] = train_lite['Species'].map(\n",
    "    lambda species: 1 if species in ['CULEX PIPIENS', 'CULEX PIPIENS/RESTUANS'] else 0)\n",
    "\n",
    "train_lite['CULEX RESTUANS'] = train_lite['Species'].map(\n",
    "    lambda species: 1 if species in ['CULEX RESTUANS', 'CULEX PIPIENS/RESTUANS'] else 0)"
   ]
  },
  {
   "cell_type": "code",
   "execution_count": null,
   "metadata": {},
   "outputs": [],
   "source": [
    "train_lite.head()"
   ]
  },
  {
   "cell_type": "markdown",
   "metadata": {},
   "source": [
    "Finally, we drop redundant features, as well as remove `NumMosquitos`, since it is not available in the test data."
   ]
  },
  {
   "cell_type": "code",
   "execution_count": null,
   "metadata": {},
   "outputs": [],
   "source": [
    "train_lite = train_lite[['Date', 'CULEX PIPIENS', 'CULEX RESTUANS', 'Latitude', 'Longitude', 'WnvPresent']]"
   ]
  },
  {
   "cell_type": "code",
   "execution_count": null,
   "metadata": {},
   "outputs": [],
   "source": [
    "train_lite.head()"
   ]
  },
  {
   "cell_type": "markdown",
   "metadata": {},
   "source": [
    "### Adding spray effects"
   ]
  },
  {
   "cell_type": "markdown",
   "metadata": {},
   "source": [
    "Spraying effectiveness decreases with the inverse square law. We will sum the effects of sprays which are up to 400 meters away, and will only consider a spray's effect for up to 3 days."
   ]
  },
  {
   "cell_type": "code",
   "execution_count": null,
   "metadata": {},
   "outputs": [],
   "source": [
    "spray['Date'] = pd.to_datetime(spray['Date'])\n",
    "train_lite['Date'] = pd.to_datetime(train_lite['Date'])"
   ]
  },
  {
   "cell_type": "code",
   "execution_count": null,
   "metadata": {},
   "outputs": [],
   "source": [
    "train_lite['Date-1'] = pd.DatetimeIndex(train_lite['Date']) - pd.DateOffset(1)\n",
    "train_lite['Date-2'] = pd.DatetimeIndex(train_lite['Date']) - pd.DateOffset(2)\n",
    "train_lite['Date-3'] = pd.DatetimeIndex(train_lite['Date']) - pd.DateOffset(3)"
   ]
  },
  {
   "cell_type": "code",
   "execution_count": null,
   "metadata": {},
   "outputs": [],
   "source": [
    "train_lite.head()"
   ]
  },
  {
   "cell_type": "code",
   "execution_count": null,
   "metadata": {},
   "outputs": [],
   "source": [
    "from geopy.distance import geodesic"
   ]
  },
  {
   "cell_type": "code",
   "execution_count": null,
   "metadata": {},
   "outputs": [],
   "source": [
    "spray['Date'].value_counts()"
   ]
  },
  {
   "cell_type": "code",
   "execution_count": null,
   "metadata": {},
   "outputs": [],
   "source": [
    "geodesic((41.87, -87.62), (41.87, -87.625)).m"
   ]
  },
  {
   "cell_type": "code",
   "execution_count": null,
   "metadata": {},
   "outputs": [],
   "source": [
    "geopy.distance.geodesic((41.87, -87.62), (41.87, -87.625)).m"
   ]
  },
  {
   "cell_type": "code",
   "execution_count": null,
   "metadata": {},
   "outputs": [],
   "source": [
    "for "
   ]
  },
  {
   "cell_type": "code",
   "execution_count": null,
   "metadata": {},
   "outputs": [],
   "source": [
    "spray[(spray['Date'] == '2013-08-15') \n",
    "      & (abs(spray['Latitude'] - 41.944718) < 0.005)\n",
    "      & (abs(spray['Longitude'] - (-87.808187)) < 0.005)].shape"
   ]
  },
  {
   "cell_type": "code",
   "execution_count": null,
   "metadata": {},
   "outputs": [],
   "source": [
    "near_sprays_today = spray[\n",
    "    (spray['Date'] == '2013-08-15')\n",
    "    & (abs(spray['Latitude'] - 41.944718) < 0.005)\n",
    "    & (abs(spray['Longitude'] - (-87.808187)) < 0.005)\n",
    "]"
   ]
  },
  {
   "cell_type": "code",
   "execution_count": null,
   "metadata": {},
   "outputs": [],
   "source": [
    "train_lite['SprayPowerToday'] = 0"
   ]
  },
  {
   "cell_type": "code",
   "execution_count": null,
   "metadata": {},
   "outputs": [],
   "source": [
    "train_lite.loc['SprayPowerToday',0] = 3"
   ]
  },
  {
   "cell_type": "code",
   "execution_count": null,
   "metadata": {},
   "outputs": [],
   "source": [
    "train_lite.drop('SprayPowerToday', inplace=True)"
   ]
  },
  {
   "cell_type": "code",
   "execution_count": null,
   "metadata": {},
   "outputs": [],
   "source": [
    "train_lite.head()"
   ]
  },
  {
   "cell_type": "code",
   "execution_count": null,
   "metadata": {},
   "outputs": [],
   "source": [
    "for i in range(train_lite.head().shape[0]):\n",
    "    day = train_lite['Date'].loc[i]\n",
    "    lat = train_lite['Latitude'].loc[i]\n",
    "    long = train_lite['Longitude'].loc[i]\n",
    "    near_sprays_today = spray[\n",
    "        (spray['Date'] == day)\n",
    "        & (abs(spray['Latitude'] - lat) < 0.005)\n",
    "        & (abs(spray['Longitude'] - long) < 0.005)\n",
    "    ]\n",
    "    spray_power = 0\n",
    "    for j in range(near_sprays_today.shape[0]):\n",
    "        distance = geodesic(\n",
    "            (near_sprays_today['Latitude'].loc[j], near_sprays_today['Longitude'].loc[j]), \n",
    "            (lat, long)\n",
    "        ).m\n",
    "        if distance <= 400:\n",
    "            spray_power += 1/(distance ** 2)\n",
    "    train"
   ]
  },
  {
   "cell_type": "code",
   "execution_count": null,
   "metadata": {},
   "outputs": [],
   "source": [
    "train_lite['Date'] = pd.to_datetime(train_lite['Date'])"
   ]
  },
  {
   "cell_type": "code",
   "execution_count": null,
   "metadata": {},
   "outputs": [],
   "source": [
    "spray['Date'].dt.mktime()"
   ]
  },
  {
   "cell_type": "code",
   "execution_count": null,
   "metadata": {},
   "outputs": [],
   "source": [
    "dt.timedelta(spray['Date'].loc[0], \n",
    "             dt.date(2007,5,28))"
   ]
  },
  {
   "cell_type": "code",
   "execution_count": null,
   "metadata": {},
   "outputs": [],
   "source": [
    "spray[dt.timedelta(spray['Date'], dt.date(2007,5,28)) == 1]"
   ]
  },
  {
   "cell_type": "code",
   "execution_count": null,
   "metadata": {},
   "outputs": [],
   "source": [
    "spray[spray['Latitude'] - 41 > 0]"
   ]
  },
  {
   "cell_type": "code",
   "execution_count": null,
   "metadata": {},
   "outputs": [],
   "source": [
    "geopy.distance.geodesic((41.87, -87.62), (41.87, -87.63)).m"
   ]
  },
  {
   "cell_type": "code",
   "execution_count": null,
   "metadata": {},
   "outputs": [],
   "source": [
    "train_lite.head()"
   ]
  },
  {
   "cell_type": "code",
   "execution_count": null,
   "metadata": {},
   "outputs": [],
   "source": [
    "41.8781, -87.629841"
   ]
  },
  {
   "cell_type": "code",
   "execution_count": null,
   "metadata": {},
   "outputs": [],
   "source": [
    "spray.head()"
   ]
  },
  {
   "cell_type": "code",
   "execution_count": null,
   "metadata": {},
   "outputs": [],
   "source": [
    "import geopy.distance\n",
    "\n",
    "coords_1 = (52.2296756, 21.0122287)\n",
    "coords_2 = (52.406374, 16.9251681)\n",
    "\n",
    "geopy.distance.vincenty(coords_1, coords_2).km\n",
    "\n",
    "geopy.distance.geodesic(coords_1, coords_2).m"
   ]
  },
  {
   "cell_type": "code",
   "execution_count": null,
   "metadata": {},
   "outputs": [],
   "source": [
    "geopy.distance.geodesic((spray['Latitude'].loc[0], spray['Longitude'].loc[0]), (spray['Latitude'].loc[1], spray['Longitude'].loc[1])).m"
   ]
  },
  {
   "cell_type": "code",
   "execution_count": null,
   "metadata": {},
   "outputs": [],
   "source": [
    "spray['Date'].value_counts()"
   ]
  },
  {
   "cell_type": "code",
   "execution_count": null,
   "metadata": {},
   "outputs": [],
   "source": [
    "spray.head()"
   ]
  },
  {
   "cell_type": "markdown",
   "metadata": {},
   "source": [
    "### Weather transform"
   ]
  },
  {
   "cell_type": "code",
   "execution_count": null,
   "metadata": {},
   "outputs": [],
   "source": [
    "weather_lite = pd.DataFrame([], columns=weather.columns)\n",
    "\n",
    "for i in range(int(weather.shape[0]/2)):\n",
    "    row = []\n",
    "    for col in weather_lite.columns:\n",
    "        if col in ['Station', 'Date', 'Sunrise', 'Sunset']:\n",
    "            row.append(weather[col].loc[(2*i)])\n",
    "        else:\n",
    "            try:\n",
    "                val = (float(weather[col].loc[(2*i)]) + float(weather[col].loc[(2*i+1)]))/2\n",
    "            except ValueError:\n",
    "                try:\n",
    "                    val = float(weather[col].loc[(2*i)])\n",
    "                except ValueError:\n",
    "                    try:\n",
    "                        val = float(weather[col].loc[(2*i+1)])\n",
    "                    except ValueError:\n",
    "                        val = str(weather[col].loc[(2*i)]) + ' ' + weather[col].loc[(2*i+1)]\n",
    "            row.append(val)\n",
    "    weather_lite.loc[i] = row"
   ]
  },
  {
   "cell_type": "code",
   "execution_count": null,
   "metadata": {},
   "outputs": [],
   "source": [
    "def string_to_hours(string):\n",
    "    return int(string[0:2]) + int(string[3:4])/60\n",
    "\n",
    "weather_lite['SunshineHours'] = weather_lite['Sunset'].map(string_to_hours) - weather_lite['Sunrise'].map(string_to_hours)"
   ]
  },
  {
   "cell_type": "code",
   "execution_count": null,
   "metadata": {},
   "outputs": [],
   "source": [
    "weather_lite = weather_lite[['Date', 'Tmax', 'Tmin', 'Tavg', 'Depart', 'DewPoint', 'WetBulb', \n",
    "                             'Heat', 'Cool', 'SunshineHours', 'Depth', 'SeaLevel', 'AvgSpeed']]"
   ]
  },
  {
   "cell_type": "code",
   "execution_count": null,
   "metadata": {},
   "outputs": [],
   "source": [
    "weather_lite.dtypes"
   ]
  },
  {
   "cell_type": "markdown",
   "metadata": {},
   "source": [
    "### Train and weather merge"
   ]
  },
  {
   "cell_type": "code",
   "execution_count": null,
   "metadata": {},
   "outputs": [],
   "source": [
    "train_weather = pd.merge(train_lite, weather_lite, how='left', left_on='Date', right_on='Date')"
   ]
  },
  {
   "cell_type": "code",
   "execution_count": null,
   "metadata": {},
   "outputs": [],
   "source": [
    "train_weather.head()"
   ]
  },
  {
   "cell_type": "code",
   "execution_count": null,
   "metadata": {},
   "outputs": [],
   "source": [
    "train_weather.to_csv('./../input/transformed_input/train_weather.csv')"
   ]
  },
  {
   "cell_type": "markdown",
   "metadata": {},
   "source": [
    "### Test transform"
   ]
  },
  {
   "cell_type": "code",
   "execution_count": null,
   "metadata": {},
   "outputs": [],
   "source": [
    "test_lite = test[['Date', 'Species', 'Latitude', 'Longitude']]\n",
    "\n",
    "test_lite['CULEX PIPIENS'] = test_lite['Species'].map(\n",
    "    lambda species: 1 if species in ['CULEX PIPIENS', 'CULEX PIPIENS/RESTUANS'] else 0)\n",
    "\n",
    "test_lite['CULEX RESTUANS'] = test_lite['Species'].map(\n",
    "    lambda species: 1 if species in ['CULEX RESTUANS', 'CULEX PIPIENS/RESTUANS'] else 0)\n",
    "\n",
    "test_lite = test_lite[['Date', 'CULEX PIPIENS', 'CULEX RESTUANS', 'Latitude', 'Longitude']]"
   ]
  },
  {
   "cell_type": "code",
   "execution_count": null,
   "metadata": {},
   "outputs": [],
   "source": [
    "test_weather = pd.merge(test_lite, weather_lite, how='left', left_on='Date', right_on='Date')"
   ]
  },
  {
   "cell_type": "code",
   "execution_count": null,
   "metadata": {},
   "outputs": [],
   "source": [
    "test_weather.head()"
   ]
  },
  {
   "cell_type": "code",
   "execution_count": null,
   "metadata": {},
   "outputs": [],
   "source": []
  },
  {
   "cell_type": "code",
   "execution_count": null,
   "metadata": {},
   "outputs": [],
   "source": []
  },
  {
   "cell_type": "code",
   "execution_count": null,
   "metadata": {},
   "outputs": [],
   "source": []
  },
  {
   "cell_type": "code",
   "execution_count": null,
   "metadata": {},
   "outputs": [],
   "source": []
  },
  {
   "cell_type": "code",
   "execution_count": null,
   "metadata": {},
   "outputs": [],
   "source": []
  },
  {
   "cell_type": "code",
   "execution_count": null,
   "metadata": {},
   "outputs": [],
   "source": [
    "train[['Trap', 'Latitude', 'Longitude']].groupby('Trap').agg(\n",
    "    {'Latitude': pd.Series.nunique, \n",
    "     'Longitude': pd.Series.nunique}).sort_values('Latitude', ascending=False)"
   ]
  },
  {
   "cell_type": "code",
   "execution_count": null,
   "metadata": {},
   "outputs": [],
   "source": [
    "train_lite = train_lite[['Date', 'CULEX PIPIENS', 'CULEX RESTUANS', 'Latitude', 'Longitude',\n",
    "                         'NumMosquitos', 'WnvPresent']]"
   ]
  },
  {
   "cell_type": "code",
   "execution_count": null,
   "metadata": {},
   "outputs": [],
   "source": [
    "train_lite.head()"
   ]
  },
  {
   "cell_type": "code",
   "execution_count": null,
   "metadata": {},
   "outputs": [],
   "source": [
    "with pd.option_context('display.max_columns', None):\n",
    "    display(weather.head())"
   ]
  },
  {
   "cell_type": "code",
   "execution_count": null,
   "metadata": {},
   "outputs": [],
   "source": [
    "weather.iloc[0]"
   ]
  },
  {
   "cell_type": "code",
   "execution_count": null,
   "metadata": {},
   "outputs": [],
   "source": [
    "weather.shape"
   ]
  },
  {
   "cell_type": "code",
   "execution_count": null,
   "metadata": {},
   "outputs": [],
   "source": [
    "weather['Date'].loc[3]"
   ]
  },
  {
   "cell_type": "code",
   "execution_count": null,
   "metadata": {},
   "outputs": [],
   "source": [
    "weather_lite.loc[0]['Date']"
   ]
  },
  {
   "cell_type": "code",
   "execution_count": null,
   "metadata": {},
   "outputs": [],
   "source": [
    "val = int(weather['Depart'].loc[1])"
   ]
  },
  {
   "cell_type": "code",
   "execution_count": null,
   "metadata": {},
   "outputs": [],
   "source": [
    "try:\n",
    "    val = (float(weather['Depart'].loc[1]) + float(weather['Depart'].loc[3]))/2\n",
    "except ValueError:\n",
    "    try:\n",
    "        val = float(weather['Depart'].loc[1])\n",
    "    except ValueError:\n",
    "        try:\n",
    "            val = float(weather['Depart'].loc[3])\n",
    "        except ValueError:\n",
    "            val = str(weather['Depart'].loc[1]) + ' ' + weather['Depart'].loc[3]\n",
    "    \n",
    "val"
   ]
  },
  {
   "cell_type": "code",
   "execution_count": null,
   "metadata": {},
   "outputs": [],
   "source": [
    "val"
   ]
  },
  {
   "cell_type": "code",
   "execution_count": null,
   "metadata": {},
   "outputs": [],
   "source": [
    "spray.head()"
   ]
  },
  {
   "cell_type": "markdown",
   "metadata": {},
   "source": [
    "### Weather transform"
   ]
  },
  {
   "cell_type": "code",
   "execution_count": null,
   "metadata": {},
   "outputs": [],
   "source": [
    "weather_lite = pd.DataFrame([], columns=weather.columns)\n",
    "\n",
    "for i in range(int(weather.shape[0]/2)):\n",
    "    row = []\n",
    "    for col in weather_lite.columns:\n",
    "        if col in ['Station', 'Date', 'Sunrise', 'Sunset']:\n",
    "            row.append(weather[col].loc[(2*i)])\n",
    "        else:\n",
    "            try:\n",
    "                val = (float(weather[col].loc[(2*i)]) + float(weather[col].loc[(2*i+1)]))/2\n",
    "            except ValueError:\n",
    "                try:\n",
    "                    val = float(weather[col].loc[(2*i)])\n",
    "                except ValueError:\n",
    "                    try:\n",
    "                        val = float(weather[col].loc[(2*i+1)])\n",
    "                    except ValueError:\n",
    "                        val = str(weather[col].loc[(2*i)]) + ' ' + weather[col].loc[(2*i+1)]\n",
    "            row.append(val)\n",
    "    weather_lite.loc[i] = row"
   ]
  },
  {
   "cell_type": "code",
   "execution_count": null,
   "metadata": {},
   "outputs": [],
   "source": [
    "def string_to_hours(string):\n",
    "    return int(string[0:2]) + int(string[3:4])/60\n",
    "\n",
    "weather_lite['SunshineHours'] = weather_lite['Sunset'].map(string_to_hours) - weather_lite['Sunrise'].map(string_to_hours)"
   ]
  },
  {
   "cell_type": "code",
   "execution_count": null,
   "metadata": {},
   "outputs": [],
   "source": [
    "weather_lite = weather_lite[['Date', 'Tmax', 'Tmin', 'Tavg', 'Depart', 'DewPoint', 'WetBulb', \n",
    "                             'Heat', 'Cool', 'SunshineHours', 'Depth', 'SeaLevel', 'ResultSpeed',\n",
    "                             'ResultDir', 'AvgSpeed', 'Latitude', 'Longitude']]"
   ]
  },
  {
   "cell_type": "code",
   "execution_count": null,
   "metadata": {},
   "outputs": [],
   "source": [
    "weather_lite.dtypes"
   ]
  },
  {
   "cell_type": "code",
   "execution_count": null,
   "metadata": {},
   "outputs": [],
   "source": [
    "train_lite.dtypes"
   ]
  },
  {
   "cell_type": "code",
   "execution_count": null,
   "metadata": {},
   "outputs": [],
   "source": [
    "train_lite['Species'].value_counts()"
   ]
  },
  {
   "cell_type": "code",
   "execution_count": null,
   "metadata": {},
   "outputs": [],
   "source": [
    "weather.head()"
   ]
  },
  {
   "cell_type": "code",
   "execution_count": null,
   "metadata": {},
   "outputs": [],
   "source": [
    "with pd.option_context('display.max_columns', None):\n",
    "    display(weather_lite.head())"
   ]
  },
  {
   "cell_type": "code",
   "execution_count": null,
   "metadata": {},
   "outputs": [],
   "source": [
    "weather_lite.dtypes"
   ]
  },
  {
   "cell_type": "code",
   "execution_count": null,
   "metadata": {},
   "outputs": [],
   "source": [
    "pd.merge(train, weather, how='left', left_on='Date', right_on='Date')[['Station']]"
   ]
  },
  {
   "cell_type": "code",
   "execution_count": null,
   "metadata": {},
   "outputs": [],
   "source": [
    "train['AddressAccuracy'].value_counts()"
   ]
  },
  {
   "cell_type": "code",
   "execution_count": null,
   "metadata": {},
   "outputs": [],
   "source": [
    "spray.to_csv('./../input/transformed_input/spray_clean.csv')"
   ]
  },
  {
   "cell_type": "code",
   "execution_count": null,
   "metadata": {},
   "outputs": [],
   "source": [
    "train.to_csv('./../input/transformed_input/train_clean.csv')"
   ]
  },
  {
   "cell_type": "code",
   "execution_count": null,
   "metadata": {},
   "outputs": [],
   "source": [
    "weather.to_csv('./../input/transformed_input/weather_clean.csv')"
   ]
  },
  {
   "cell_type": "code",
   "execution_count": null,
   "metadata": {},
   "outputs": [],
   "source": [
    "train[train['WnvPresent'] == 1].shape"
   ]
  },
  {
   "cell_type": "code",
   "execution_count": null,
   "metadata": {},
   "outputs": [],
   "source": [
    "train.shape"
   ]
  },
  {
   "cell_type": "code",
   "execution_count": null,
   "metadata": {},
   "outputs": [],
   "source": [
    "from datetime import date\n",
    "import pandas as pd\n",
    "import seaborn as sns\n",
    "import matplotlib.pyplot as plt\n",
    "\n",
    "def year_fraction(birthday):\n",
    "    start = date(birthday.year, 1, 1).toordinal()\n",
    "    year_length = date(birthday.year+1, 1, 1).toordinal() - start\n",
    "    fractional_year = birthday.year + float(birthday.toordinal() - start) / year_length\n",
    "    return fractional_year\n",
    "\n",
    "data = [19900806, 19780517, 19900215, 19841102, 19800709, 19870421, 19780905, 19900111, 19950702, 19921009, 19930612, 19930131, 19870109]\n",
    "birthdates = list()\n",
    "\n",
    "for birthdate in data:\n",
    "    datestr = str(birthdate)\n",
    "    datestr = int(datestr[0:4]), int(datestr[4:6]), int(datestr[6:8])\n",
    "    birthdates.append(date(datestr[0], datestr[1], datestr[2]))\n",
    "\n",
    "birthdates = pd.Series(birthdates, name='birthdates')\n",
    "birthdates = birthdates.apply(year_fraction)\n",
    "sns.stripplot(x=birthdates);"
   ]
  },
  {
   "cell_type": "code",
   "execution_count": null,
   "metadata": {},
   "outputs": [],
   "source": [
    "train.shape[0]"
   ]
  },
  {
   "cell_type": "code",
   "execution_count": null,
   "metadata": {},
   "outputs": [],
   "source": [
    "plt.plot(range(1, train.shape[0]+1), pd.to_datetime(train['Date']), 'ro')"
   ]
  },
  {
   "cell_type": "code",
   "execution_count": null,
   "metadata": {},
   "outputs": [],
   "source": [
    "plt.figure(figsize=(15,8))\n",
    "plt.plot(pd.to_datetime(train['Date']), [1] * train.shape[0], 'rx')\n",
    "plt.plot(pd.to_datetime(train['Date']), train['WnvPresent'], 'bx');"
   ]
  },
  {
   "cell_type": "code",
   "execution_count": null,
   "metadata": {},
   "outputs": [],
   "source": [
    "plt.figure(figsize=(15,8))\n",
    "plt.plot(pd.to_datetime(test['Date']), [1] * test.shape[0], 'rx');\n",
    "plt.plot(pd.to_datetime(spray['Date']), [1] * spray.shape[0], 'bx');"
   ]
  },
  {
   "cell_type": "code",
   "execution_count": null,
   "metadata": {},
   "outputs": [],
   "source": [
    "train[train['WnvPresent'] == 1]['Date'].map(lambda date_str: int(date_str[5:7] + date_str[8:10])).min()"
   ]
  },
  {
   "cell_type": "code",
   "execution_count": null,
   "metadata": {},
   "outputs": [],
   "source": [
    "train['Date'] = pd.to_datetime(train['Date'])"
   ]
  },
  {
   "cell_type": "code",
   "execution_count": null,
   "metadata": {},
   "outputs": [],
   "source": [
    "train[(train['Date'].dt.month > 6) | ((train['Date'].dt.month == 6) & (train['Date'].dt.day > 27))].shape"
   ]
  },
  {
   "cell_type": "code",
   "execution_count": null,
   "metadata": {},
   "outputs": [],
   "source": [
    "weather.head()"
   ]
  },
  {
   "cell_type": "code",
   "execution_count": null,
   "metadata": {},
   "outputs": [],
   "source": [
    "weather['Sunrise'] + weather['Sunset']"
   ]
  },
  {
   "cell_type": "code",
   "execution_count": null,
   "metadata": {
    "scrolled": false
   },
   "outputs": [],
   "source": [
    "weather[weather['Station'] == 1]['Sunset'].map(lambda string: int(string[0:2]) + int(string[3:4])/60) - weather[weather['Station'] == 1]['Sunrise'].map(lambda string: int(string[0:2]) + int(string[3:4])/60)"
   ]
  },
  {
   "cell_type": "code",
   "execution_count": null,
   "metadata": {},
   "outputs": [],
   "source": [
    "data"
   ]
  },
  {
   "cell_type": "code",
   "execution_count": null,
   "metadata": {},
   "outputs": [],
   "source": [
    "train_weather.head()"
   ]
  },
  {
   "cell_type": "code",
   "execution_count": null,
   "metadata": {},
   "outputs": [],
   "source": [
    "import folium\n",
    "import folium.plugins as plugins\n",
    "import numpy as np\n",
    "\n",
    "np.random.seed(3141592)\n",
    "initial_data = (\n",
    "    np.random.normal(scale=0.1, size=(100, 2)) * np.array([[1, 1]]) +\n",
    "    np.array([[41.8781, -87.629841]])\n",
    ")\n",
    "\n",
    "move_data = np.random.normal(size=(100, 2)) * 0.01\n",
    "\n",
    "data = [(initial_data + move_data * i).tolist() for i in range(100)]\n",
    "\n",
    "# weight = 0 # default value\n",
    "# for time_entry in data:\n",
    "#     for row in time_entry:\n",
    "#         row.append(weight)"
   ]
  },
  {
   "cell_type": "code",
   "execution_count": null,
   "metadata": {},
   "outputs": [],
   "source": [
    "m = folium.Map([41.8781, -87.629841], tiles='cartodbdark_matter', zoom_start=9) # stamentoner\n",
    "\n",
    "hm = plugins.HeatMapWithTime(data)\n",
    "\n",
    "hm.add_to(m)\n",
    "\n",
    "m"
   ]
  },
  {
   "cell_type": "code",
   "execution_count": null,
   "metadata": {},
   "outputs": [],
   "source": [
    "from folium import plugins\n",
    "\n",
    "map_hooray = folium.Map(location=[41.8781, -87.629841],\n",
    "                        tiles='cartodbdark_matter',\n",
    "                        zoom_start = 10) \n",
    "\n",
    "# Ensure you're handing it floats\n",
    "train_weather['Latitude'] = train_weather['Latitude'].astype(float)\n",
    "train_weather['Longitude'] = train_weather['Longitude'].astype(float)\n",
    "\n",
    "# Filter the DF for rows, then columns, then remove NaNs\n",
    "# heat_df = df_acc[df_acc['Speed_limit']=='40'] # Reducing data size so it runs faster\n",
    "heat_df = train_weather#[train_weather['Date'].dt.year==2013] # Reducing data size so it runs faster\n",
    "heat_df = heat_df[['Latitude', 'Longitude']]\n",
    "\n",
    "# Create weight column, using date\n",
    "heat_df['Weight'] = train_weather['Date'].dt.day\n",
    "heat_df['Weight'] = heat_df['Weight'].astype(float)\n",
    "heat_df = heat_df.dropna(axis=0, subset=['Latitude','Longitude', 'Weight'])\n",
    "\n",
    "# List comprehension to make out list of lists\n",
    "heat_data = [[[row['Latitude'],row['Longitude']] for index, row in heat_df[heat_df['Weight'] == i].iterrows()] for i in range(0,13)]\n",
    "\n",
    "# Plot it on the map\n",
    "hm = plugins.HeatMapWithTime(heat_data,auto_play=True,max_opacity=0.8)\n",
    "hm.add_to(map_hooray)\n",
    "# Display the map\n",
    "map_hooray"
   ]
  },
  {
   "cell_type": "code",
   "execution_count": null,
   "metadata": {},
   "outputs": [],
   "source": [
    "import os\n",
    "import time\n",
    "from selenium import webdriver\n",
    "\n",
    "delay=5\n",
    "fn='testmap.html'\n",
    "tmpurl='file://{path}/{mapfile}'.format(path=os.getcwd(),mapfile=fn)\n",
    "m.save(fn)\n",
    "\n",
    "browser = webdriver.Chrome()\n",
    "browser.get(tmpurl)\n",
    "#Give the map tiles some time to load\n",
    "time.sleep(delay)\n",
    "browser.save_screenshot('map.png')\n",
    "browser.quit()"
   ]
  },
  {
   "cell_type": "code",
   "execution_count": null,
   "metadata": {},
   "outputs": [],
   "source": [
    "\"\"\"\n",
    "=========================\n",
    "Simple animation examples\n",
    "=========================\n",
    "\n",
    "This example contains two animations. The first is a random walk plot. The\n",
    "second is an image animation.\n",
    "\"\"\"\n",
    "\n",
    "from matplotlib import animation, rc\n",
    "from IPython.display import HTML\n",
    "\n",
    "import numpy as np\n",
    "import matplotlib.pyplot as plt\n",
    "import matplotlib.animation as animation\n",
    "\n",
    "\n",
    "def update_line(num, data, line):\n",
    "    line.set_data(data[..., :num])\n",
    "    return line,\n",
    "\n",
    "fig1 = plt.figure()\n",
    "\n",
    "data = np.random.rand(2, 25)\n",
    "l, = plt.plot([], [], 'r-')\n",
    "plt.xlim(0, 1)\n",
    "plt.ylim(0, 1)\n",
    "plt.xlabel('x')\n",
    "plt.title('test')\n",
    "line_ani = animation.FuncAnimation(fig1, update_line, 25, fargs=(data, l),\n",
    "                                   interval=50, blit=True)\n",
    "\n",
    "# HTML(line_ani.to_html5_video())\n",
    "\n",
    "# To save the animation, use the command: line_ani.save('lines.mp4')\n",
    "\n",
    "fig2 = plt.figure()\n",
    "\n",
    "x = np.arange(-9, 10)\n",
    "y = np.arange(-9, 10).reshape(-1, 1)\n",
    "base = np.hypot(x, y)\n",
    "ims = []\n",
    "for add in np.arange(15):\n",
    "    ims.append((plt.pcolor(x, y, base + add, norm=plt.Normalize(0, 30)),))\n",
    "\n",
    "im_ani = animation.ArtistAnimation(fig2, ims, interval=50, repeat_delay=3000,\n",
    "                                   blit=True)\n",
    "# To save this second animation with some metadata, use the following command:\n",
    "# im_ani.save('im.mp4', metadata={'artist':'Guido'})\n",
    "\n",
    "# plt.show()\n",
    "HTML(line_ani.to_html5_video())"
   ]
  },
  {
   "cell_type": "code",
   "execution_count": null,
   "metadata": {},
   "outputs": [],
   "source": [
    "from mpl_toolkits.basemap import Basemap\n",
    "import matplotlib.pyplot as plt\n",
    "# setup Lambert Conformal basemap.\n",
    "# set resolution=None to skip processing of boundary datasets.\n",
    "m = Basemap(width=12000000,height=9000000,projection='lcc',\n",
    "            resolution=None,lat_1=45.,lat_2=55,lat_0=50,lon_0=-107.)\n",
    "m.shadedrelief()\n",
    "plt.show()"
   ]
  },
  {
   "cell_type": "code",
   "execution_count": null,
   "metadata": {},
   "outputs": [],
   "source": [
    "HTML(im_ani.to_jshtml())"
   ]
  },
  {
   "cell_type": "code",
   "execution_count": null,
   "metadata": {},
   "outputs": [],
   "source": [
    "HTML(line_ani.to_html5_video())"
   ]
  },
  {
   "cell_type": "code",
   "execution_count": null,
   "metadata": {},
   "outputs": [],
   "source": [
    "from matplotlib import animation, rc\n",
    "from IPython.display import HTML"
   ]
  },
  {
   "cell_type": "code",
   "execution_count": null,
   "metadata": {},
   "outputs": [],
   "source": [
    "fig, ax = plt.subplots()\n",
    "\n",
    "ax.set_xlim(( 0, 2))\n",
    "ax.set_ylim((-2, 2))\n",
    "\n",
    "line, = ax.plot([], [], lw=2)"
   ]
  },
  {
   "cell_type": "code",
   "execution_count": null,
   "metadata": {},
   "outputs": [],
   "source": [
    "# initialization function: plot the background of each frame\n",
    "def init():\n",
    "    line.set_data([], [])\n",
    "    return (line,)"
   ]
  },
  {
   "cell_type": "code",
   "execution_count": null,
   "metadata": {},
   "outputs": [],
   "source": [
    "def animate(i):\n",
    "    x = np.linspace(0, 2, 1000)\n",
    "    y = np.sin(2 * np.pi * (x - 0.01 * i))\n",
    "    line.set_data(x, y)\n",
    "    return (line,)"
   ]
  },
  {
   "cell_type": "code",
   "execution_count": null,
   "metadata": {},
   "outputs": [],
   "source": [
    "anim = animation.FuncAnimation(fig, animate, init_func=init,\n",
    "                               frames=100, interval=20, blit=True)"
   ]
  },
  {
   "cell_type": "code",
   "execution_count": null,
   "metadata": {},
   "outputs": [],
   "source": [
    "HTML(anim.to_html5_video())"
   ]
  },
  {
   "cell_type": "code",
   "execution_count": null,
   "metadata": {},
   "outputs": [],
   "source": [
    "anim.save('im.mp4', metadata={'artist':'Guido'})"
   ]
  },
  {
   "cell_type": "code",
   "execution_count": null,
   "metadata": {},
   "outputs": [],
   "source": [
    "((np.random.random(size=(2*19))-0.5)*20000).sum()/19"
   ]
  },
  {
   "cell_type": "code",
   "execution_count": null,
   "metadata": {},
   "outputs": [],
   "source": [
    "np.random.normal(loc=0, scale=20000, size=(19)).sum()/19"
   ]
  },
  {
   "cell_type": "code",
   "execution_count": null,
   "metadata": {},
   "outputs": [],
   "source": [
    "randos.sum()"
   ]
  },
  {
   "cell_type": "code",
   "execution_count": null,
   "metadata": {},
   "outputs": [],
   "source": [
    "weather[weather['Station'] == 1]['Sunrise'].map(lambda string: int(string[0:2]) + int(string[3:4])/60)# + weather[weather['Station'] == 1]['Sunset'].map(lambda string: int(string))"
   ]
  },
  {
   "cell_type": "code",
   "execution_count": null,
   "metadata": {},
   "outputs": [],
   "source": [
    "train.shape"
   ]
  },
  {
   "cell_type": "code",
   "execution_count": null,
   "metadata": {},
   "outputs": [],
   "source": [
    "sns.pointplot(pd.to_datetime(train['Date']))"
   ]
  },
  {
   "cell_type": "code",
   "execution_count": null,
   "metadata": {},
   "outputs": [],
   "source": [
    "iplot([{\n",
    "    'x': spray.index,\n",
    "    'y': spray[col],\n",
    "    'name': col\n",
    "}  for col in spray.columns])"
   ]
  },
  {
   "cell_type": "code",
   "execution_count": null,
   "metadata": {},
   "outputs": [],
   "source": [
    "import plotly.figure_factory as ff\n",
    "\n",
    "fips = ['06021', '06023', '06027',\n",
    "        '06029', '06033', '06059',\n",
    "        '06047', '06049', '06051',\n",
    "        '06055', '06061']\n",
    "values = range(len(fips))\n",
    "\n",
    "fig = ff.create_choropleth(fips=fips, values=values)\n",
    "iplot(fig)#, filename='choropleth of some cali counties - full usa scope')"
   ]
  },
  {
   "cell_type": "code",
   "execution_count": null,
   "metadata": {},
   "outputs": [],
   "source": [
    "import plotly.figure_factory as ff\n",
    "\n",
    "import numpy as np\n",
    "import pandas as pd\n",
    "\n",
    "df_sample = pd.read_csv('https://raw.githubusercontent.com/plotly/datasets/master/minoritymajority.csv')\n",
    "df_sample_r = df_sample[df_sample['STNAME'] == 'Florida']\n",
    "\n",
    "values = df_sample_r['TOT_POP'].tolist()\n",
    "fips = df_sample_r['FIPS'].tolist()\n",
    "\n",
    "endpts = list(np.mgrid[min(values):max(values):4j])\n",
    "colorscale = [\"#030512\",\"#1d1d3b\",\"#323268\",\"#3d4b94\",\"#3e6ab0\",\n",
    "              \"#4989bc\",\"#60a7c7\",\"#85c5d3\",\"#b7e0e4\",\"#eafcfd\"]\n",
    "fig = ff.create_choropleth(\n",
    "    fips=fips, values=values, scope=['Florida'], show_state_data=True,\n",
    "    colorscale=colorscale, binning_endpoints=endpts, round_legend_values=True,\n",
    "    plot_bgcolor='rgb(229,229,229)',\n",
    "    paper_bgcolor='rgb(229,229,229)',\n",
    "    legend_title='Population by County',\n",
    "    county_outline={'color': 'rgb(255,255,255)', 'width': 0.5},\n",
    "    exponent_format=True,\n",
    ")\n",
    "iplot(fig)#, filename='choropleth_florida')"
   ]
  },
  {
   "cell_type": "code",
   "execution_count": null,
   "metadata": {},
   "outputs": [],
   "source": [
    "# import plotly.plotly as py\n",
    "import pandas as pd\n",
    "\n",
    "df = pd.read_csv('https://raw.githubusercontent.com/plotly/datasets/master/2014_us_cities.csv')\n",
    "df.head()\n",
    "\n",
    "df['text'] = df['name'] + '<br>Population ' + (df['pop']/1e6).astype(str)+' million'\n",
    "limits = [(0,2),(3,10),(11,20),(21,50),(50,3000)]\n",
    "colors = [\"rgb(0,116,217)\",\"rgb(255,65,54)\",\"rgb(133,20,75)\",\"rgb(255,133,27)\",\"lightgrey\"]\n",
    "cities = []\n",
    "scale = 5000\n",
    "\n",
    "for i in range(len(limits)):\n",
    "    lim = limits[i]\n",
    "    df_sub = df[lim[0]:lim[1]]\n",
    "    city = dict(\n",
    "        type = 'scattergeo',\n",
    "        locationmode = 'USA-states',\n",
    "        lon = df_sub['lon'],\n",
    "        lat = df_sub['lat'],\n",
    "        text = df_sub['text'],\n",
    "        marker = dict(\n",
    "            size = df_sub['pop']/scale,\n",
    "            color = colors[i],\n",
    "            line = dict(width=0.5, color='rgb(40,40,40)'),\n",
    "            sizemode = 'area'\n",
    "        ),\n",
    "        name = '{0} - {1}'.format(lim[0],lim[1]) )\n",
    "    cities.append(city)\n",
    "\n",
    "layout = dict(\n",
    "        title = '2014 US city populations<br>(Click legend to toggle traces)',\n",
    "        showlegend = True,\n",
    "        geo = dict(\n",
    "            scope='usa',\n",
    "#             projection=dict( type='albers usa' ),\n",
    "            showland = True,\n",
    "            landcolor = 'rgb(217, 217, 217)',\n",
    "            subunitwidth=1,\n",
    "            countrywidth=1,\n",
    "            subunitcolor=\"rgb(255, 255, 255)\",\n",
    "            countrycolor=\"rgb(255, 255, 255)\"\n",
    "        ),\n",
    "    )\n",
    "\n",
    "fig = dict( data=cities, layout=layout )\n",
    "iplot( fig, validate=False)#, filename='d3-bubble-map-populations' )"
   ]
  },
  {
   "cell_type": "code",
   "execution_count": null,
   "metadata": {},
   "outputs": [],
   "source": [
    "df.head()"
   ]
  },
  {
   "cell_type": "code",
   "execution_count": null,
   "metadata": {
    "scrolled": true
   },
   "outputs": [],
   "source": [
    "iplot(dict(data=cities))"
   ]
  },
  {
   "cell_type": "code",
   "execution_count": null,
   "metadata": {},
   "outputs": [],
   "source": [
    "\"\"\"\n",
    "=========================\n",
    "Simple animation examples\n",
    "=========================\n",
    "\n",
    "This example contains two animations. The first is a random walk plot. The\n",
    "second is an image animation.\n",
    "\"\"\"\n",
    "\n",
    "import numpy as np\n",
    "import matplotlib.pyplot as plt\n",
    "import matplotlib.animation as animation\n",
    "\n",
    "\n",
    "def update_line(num, data, line):\n",
    "    line.set_data(data[..., :num])\n",
    "    return line,\n",
    "\n",
    "fig1 = plt.figure()\n",
    "\n",
    "data = np.random.rand(2, 25)\n",
    "l, = plt.plot([], [], 'r-')\n",
    "plt.xlim(0, 1)\n",
    "plt.ylim(0, 1)\n",
    "plt.xlabel('x')\n",
    "plt.title('test')\n",
    "line_ani = animation.FuncAnimation(fig1, update_line, 25, fargs=(data, l),\n",
    "                                   interval=50, blit=True)\n",
    "\n",
    "# To save the animation, use the command: line_ani.save('lines.mp4')\n",
    "\n",
    "fig2 = plt.figure()\n",
    "\n",
    "x = np.arange(-9, 10)\n",
    "y = np.arange(-9, 10).reshape(-1, 1)\n",
    "base = np.hypot(x, y)\n",
    "ims = []\n",
    "for add in np.arange(15):\n",
    "    ims.append((plt.pcolor(x, y, base + add, norm=plt.Normalize(0, 30)),))\n",
    "\n",
    "im_ani = animation.ArtistAnimation(fig2, ims, interval=50, repeat_delay=3000,\n",
    "                                   blit=True)\n",
    "# To save this second animation with some metadata, use the following command:\n",
    "# im_ani.save('im.mp4', metadata={'artist':'Guido'})\n",
    "\n",
    "plt.show()"
   ]
  },
  {
   "cell_type": "code",
   "execution_count": null,
   "metadata": {},
   "outputs": [],
   "source": [
    "cities[0]"
   ]
  },
  {
   "cell_type": "markdown",
   "metadata": {},
   "source": [
    "https://plot.ly/~jackluo/2181/us-wind-turbine-dataset-animation-using/#/"
   ]
  },
  {
   "cell_type": "code",
   "execution_count": null,
   "metadata": {},
   "outputs": [],
   "source": [
    "iplot([{\"x\": [1, 2, 3], \"y\": [3, 1, 6]}])"
   ]
  },
  {
   "cell_type": "code",
   "execution_count": null,
   "metadata": {},
   "outputs": [],
   "source": [
    "weather[weather['Date'] == '2014-10-02']"
   ]
  },
  {
   "cell_type": "code",
   "execution_count": null,
   "metadata": {},
   "outputs": [],
   "source": [
    "test.tail()"
   ]
  },
  {
   "cell_type": "code",
   "execution_count": null,
   "metadata": {},
   "outputs": [],
   "source": []
  }
 ],
 "metadata": {
  "kernelspec": {
   "display_name": "Python 3",
   "language": "python",
   "name": "python3"
  },
  "language_info": {
   "codemirror_mode": {
    "name": "ipython",
    "version": 3
   },
   "file_extension": ".py",
   "mimetype": "text/x-python",
   "name": "python",
   "nbconvert_exporter": "python",
   "pygments_lexer": "ipython3",
   "version": "3.6.5"
  }
 },
 "nbformat": 4,
 "nbformat_minor": 2
}
